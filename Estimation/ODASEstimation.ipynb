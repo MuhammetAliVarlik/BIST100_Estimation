{
 "cells": [
  {
   "cell_type": "code",
   "execution_count": 1,
   "id": "c73b7550",
   "metadata": {},
   "outputs": [],
   "source": [
    "import pandas as pd"
   ]
  },
  {
   "cell_type": "code",
   "execution_count": 2,
   "id": "c422c1f5",
   "metadata": {},
   "outputs": [],
   "source": [
    "pd.options.display.width= None\n",
    "pd.options.display.max_columns= None\n",
    "pd.set_option('display.max_rows', 3000)\n",
    "pd.set_option('display.max_columns', 3000)\n",
    "pd.set_option('display.expand_frame_repr', False)\n",
    "pd.set_option('display.max_colwidth', None)"
   ]
  },
  {
   "cell_type": "code",
   "execution_count": 3,
   "id": "ed4eb267",
   "metadata": {},
   "outputs": [
    {
     "data": {
      "text/html": [
       "<div>\n",
       "<style scoped>\n",
       "    .dataframe tbody tr th:only-of-type {\n",
       "        vertical-align: middle;\n",
       "    }\n",
       "\n",
       "    .dataframe tbody tr th {\n",
       "        vertical-align: top;\n",
       "    }\n",
       "\n",
       "    .dataframe thead th {\n",
       "        text-align: right;\n",
       "    }\n",
       "</style>\n",
       "<table border=\"1\" class=\"dataframe\">\n",
       "  <thead>\n",
       "    <tr style=\"text-align: right;\">\n",
       "      <th></th>\n",
       "      <th>Tarih</th>\n",
       "      <th>Kapanış(TL)</th>\n",
       "      <th>Min(TL)</th>\n",
       "      <th>Max(TL)</th>\n",
       "      <th>AOF(TL)</th>\n",
       "      <th>Hacim(TL)</th>\n",
       "      <th>Sermaye(mn TL)</th>\n",
       "      <th>USDTRY</th>\n",
       "      <th>BIST 100</th>\n",
       "      <th>PiyasaDeğeri(mn TL)</th>\n",
       "      <th>PiyasaDeğeri(mn USD)</th>\n",
       "      <th>HalkaAçık PD(mn TL)</th>\n",
       "      <th>HalkaAçık PD(mn USD)</th>\n",
       "    </tr>\n",
       "  </thead>\n",
       "  <tbody>\n",
       "    <tr>\n",
       "      <th>0</th>\n",
       "      <td>09-05-2024</td>\n",
       "      <td>9.40</td>\n",
       "      <td>9.29</td>\n",
       "      <td>9.51</td>\n",
       "      <td>9.40</td>\n",
       "      <td>403906515</td>\n",
       "      <td>1400</td>\n",
       "      <td>32.2350</td>\n",
       "      <td>10269</td>\n",
       "      <td>13160</td>\n",
       "      <td>408</td>\n",
       "      <td>10333.0</td>\n",
       "      <td>321.0</td>\n",
       "    </tr>\n",
       "    <tr>\n",
       "      <th>1</th>\n",
       "      <td>08-05-2024</td>\n",
       "      <td>9.38</td>\n",
       "      <td>9.36</td>\n",
       "      <td>9.62</td>\n",
       "      <td>9.48</td>\n",
       "      <td>602098611</td>\n",
       "      <td>1400</td>\n",
       "      <td>32.2650</td>\n",
       "      <td>10248</td>\n",
       "      <td>13132</td>\n",
       "      <td>407</td>\n",
       "      <td>10311.0</td>\n",
       "      <td>320.0</td>\n",
       "    </tr>\n",
       "    <tr>\n",
       "      <th>2</th>\n",
       "      <td>07-05-2024</td>\n",
       "      <td>9.39</td>\n",
       "      <td>9.24</td>\n",
       "      <td>9.68</td>\n",
       "      <td>9.44</td>\n",
       "      <td>755787891</td>\n",
       "      <td>1400</td>\n",
       "      <td>32.2653</td>\n",
       "      <td>10337</td>\n",
       "      <td>13146</td>\n",
       "      <td>407</td>\n",
       "      <td>10322.0</td>\n",
       "      <td>320.0</td>\n",
       "    </tr>\n",
       "    <tr>\n",
       "      <th>3</th>\n",
       "      <td>06-05-2024</td>\n",
       "      <td>9.63</td>\n",
       "      <td>9.60</td>\n",
       "      <td>10.11</td>\n",
       "      <td>9.83</td>\n",
       "      <td>1244211925</td>\n",
       "      <td>1400</td>\n",
       "      <td>32.2822</td>\n",
       "      <td>10267</td>\n",
       "      <td>13482</td>\n",
       "      <td>418</td>\n",
       "      <td>10586.0</td>\n",
       "      <td>328.0</td>\n",
       "    </tr>\n",
       "    <tr>\n",
       "      <th>4</th>\n",
       "      <td>03-05-2024</td>\n",
       "      <td>10.00</td>\n",
       "      <td>9.91</td>\n",
       "      <td>10.15</td>\n",
       "      <td>10.03</td>\n",
       "      <td>766361498</td>\n",
       "      <td>1400</td>\n",
       "      <td>32.3053</td>\n",
       "      <td>10277</td>\n",
       "      <td>14000</td>\n",
       "      <td>433</td>\n",
       "      <td>10993.0</td>\n",
       "      <td>340.0</td>\n",
       "    </tr>\n",
       "  </tbody>\n",
       "</table>\n",
       "</div>"
      ],
      "text/plain": [
       "        Tarih  Kapanış(TL)  Min(TL)  Max(TL)  AOF(TL)   Hacim(TL)  Sermaye(mn TL)   USDTRY  BIST 100  PiyasaDeğeri(mn TL)  PiyasaDeğeri(mn USD)  HalkaAçık PD(mn TL)  HalkaAçık PD(mn USD)\n",
       "0  09-05-2024         9.40     9.29     9.51     9.40   403906515            1400  32.2350     10269                13160                   408              10333.0                 321.0\n",
       "1  08-05-2024         9.38     9.36     9.62     9.48   602098611            1400  32.2650     10248                13132                   407              10311.0                 320.0\n",
       "2  07-05-2024         9.39     9.24     9.68     9.44   755787891            1400  32.2653     10337                13146                   407              10322.0                 320.0\n",
       "3  06-05-2024         9.63     9.60    10.11     9.83  1244211925            1400  32.2822     10267                13482                   418              10586.0                 328.0\n",
       "4  03-05-2024        10.00     9.91    10.15    10.03   766361498            1400  32.3053     10277                14000                   433              10993.0                 340.0"
      ]
     },
     "execution_count": 3,
     "metadata": {},
     "output_type": "execute_result"
    }
   ],
   "source": [
    "df = pd.read_excel('datasets/odas.xlsx')\n",
    "df.head()"
   ]
  },
  {
   "cell_type": "code",
   "execution_count": 5,
   "id": "5562efda",
   "metadata": {},
   "outputs": [
    {
     "data": {
      "text/html": [
       "<div>\n",
       "<style scoped>\n",
       "    .dataframe tbody tr th:only-of-type {\n",
       "        vertical-align: middle;\n",
       "    }\n",
       "\n",
       "    .dataframe tbody tr th {\n",
       "        vertical-align: top;\n",
       "    }\n",
       "\n",
       "    .dataframe thead th {\n",
       "        text-align: right;\n",
       "    }\n",
       "</style>\n",
       "<table border=\"1\" class=\"dataframe\">\n",
       "  <thead>\n",
       "    <tr style=\"text-align: right;\">\n",
       "      <th></th>\n",
       "      <th>Tarih</th>\n",
       "      <th>Kapanış(TL)</th>\n",
       "      <th>Min(TL)</th>\n",
       "      <th>Max(TL)</th>\n",
       "      <th>AOF(TL)</th>\n",
       "      <th>Hacim(TL)</th>\n",
       "      <th>Sermaye(mn TL)</th>\n",
       "      <th>USDTRY</th>\n",
       "      <th>BIST 100</th>\n",
       "      <th>PiyasaDeğeri(mn TL)</th>\n",
       "      <th>PiyasaDeğeri(mn USD)</th>\n",
       "      <th>HalkaAçık PD(mn TL)</th>\n",
       "      <th>HalkaAçık PD(mn USD)</th>\n",
       "    </tr>\n",
       "    <tr>\n",
       "      <th>Tarih</th>\n",
       "      <th></th>\n",
       "      <th></th>\n",
       "      <th></th>\n",
       "      <th></th>\n",
       "      <th></th>\n",
       "      <th></th>\n",
       "      <th></th>\n",
       "      <th></th>\n",
       "      <th></th>\n",
       "      <th></th>\n",
       "      <th></th>\n",
       "      <th></th>\n",
       "      <th></th>\n",
       "    </tr>\n",
       "  </thead>\n",
       "  <tbody>\n",
       "    <tr>\n",
       "      <th>2024-05-09</th>\n",
       "      <td>09-05-2024</td>\n",
       "      <td>9.40</td>\n",
       "      <td>9.29</td>\n",
       "      <td>9.51</td>\n",
       "      <td>9.40</td>\n",
       "      <td>403906515</td>\n",
       "      <td>1400</td>\n",
       "      <td>32.2350</td>\n",
       "      <td>10269</td>\n",
       "      <td>13160</td>\n",
       "      <td>408</td>\n",
       "      <td>10333.0</td>\n",
       "      <td>321.0</td>\n",
       "    </tr>\n",
       "    <tr>\n",
       "      <th>2024-05-08</th>\n",
       "      <td>08-05-2024</td>\n",
       "      <td>9.38</td>\n",
       "      <td>9.36</td>\n",
       "      <td>9.62</td>\n",
       "      <td>9.48</td>\n",
       "      <td>602098611</td>\n",
       "      <td>1400</td>\n",
       "      <td>32.2650</td>\n",
       "      <td>10248</td>\n",
       "      <td>13132</td>\n",
       "      <td>407</td>\n",
       "      <td>10311.0</td>\n",
       "      <td>320.0</td>\n",
       "    </tr>\n",
       "    <tr>\n",
       "      <th>2024-05-07</th>\n",
       "      <td>07-05-2024</td>\n",
       "      <td>9.39</td>\n",
       "      <td>9.24</td>\n",
       "      <td>9.68</td>\n",
       "      <td>9.44</td>\n",
       "      <td>755787891</td>\n",
       "      <td>1400</td>\n",
       "      <td>32.2653</td>\n",
       "      <td>10337</td>\n",
       "      <td>13146</td>\n",
       "      <td>407</td>\n",
       "      <td>10322.0</td>\n",
       "      <td>320.0</td>\n",
       "    </tr>\n",
       "    <tr>\n",
       "      <th>2024-05-06</th>\n",
       "      <td>06-05-2024</td>\n",
       "      <td>9.63</td>\n",
       "      <td>9.60</td>\n",
       "      <td>10.11</td>\n",
       "      <td>9.83</td>\n",
       "      <td>1244211925</td>\n",
       "      <td>1400</td>\n",
       "      <td>32.2822</td>\n",
       "      <td>10267</td>\n",
       "      <td>13482</td>\n",
       "      <td>418</td>\n",
       "      <td>10586.0</td>\n",
       "      <td>328.0</td>\n",
       "    </tr>\n",
       "    <tr>\n",
       "      <th>2024-05-03</th>\n",
       "      <td>03-05-2024</td>\n",
       "      <td>10.00</td>\n",
       "      <td>9.91</td>\n",
       "      <td>10.15</td>\n",
       "      <td>10.03</td>\n",
       "      <td>766361498</td>\n",
       "      <td>1400</td>\n",
       "      <td>32.3053</td>\n",
       "      <td>10277</td>\n",
       "      <td>14000</td>\n",
       "      <td>433</td>\n",
       "      <td>10993.0</td>\n",
       "      <td>340.0</td>\n",
       "    </tr>\n",
       "  </tbody>\n",
       "</table>\n",
       "</div>"
      ],
      "text/plain": [
       "                 Tarih  Kapanış(TL)  Min(TL)  Max(TL)  AOF(TL)   Hacim(TL)  Sermaye(mn TL)   USDTRY  BIST 100  PiyasaDeğeri(mn TL)  PiyasaDeğeri(mn USD)  HalkaAçık PD(mn TL)  HalkaAçık PD(mn USD)\n",
       "Tarih                                                                                                                                                                                              \n",
       "2024-05-09  09-05-2024         9.40     9.29     9.51     9.40   403906515            1400  32.2350     10269                13160                   408              10333.0                 321.0\n",
       "2024-05-08  08-05-2024         9.38     9.36     9.62     9.48   602098611            1400  32.2650     10248                13132                   407              10311.0                 320.0\n",
       "2024-05-07  07-05-2024         9.39     9.24     9.68     9.44   755787891            1400  32.2653     10337                13146                   407              10322.0                 320.0\n",
       "2024-05-06  06-05-2024         9.63     9.60    10.11     9.83  1244211925            1400  32.2822     10267                13482                   418              10586.0                 328.0\n",
       "2024-05-03  03-05-2024        10.00     9.91    10.15    10.03   766361498            1400  32.3053     10277                14000                   433              10993.0                 340.0"
      ]
     },
     "execution_count": 5,
     "metadata": {},
     "output_type": "execute_result"
    }
   ],
   "source": [
    "df.index = pd.to_datetime(df[\"Tarih\"], format='%d-%m-%Y')\n",
    "df.head()"
   ]
  },
  {
   "cell_type": "code",
   "execution_count": 169,
   "id": "9a6771fd",
   "metadata": {},
   "outputs": [],
   "source": [
    "df_copy=df.copy()"
   ]
  },
  {
   "cell_type": "code",
   "execution_count": 170,
   "id": "98f3e28b",
   "metadata": {},
   "outputs": [
    {
     "data": {
      "text/html": [
       "<div>\n",
       "<style scoped>\n",
       "    .dataframe tbody tr th:only-of-type {\n",
       "        vertical-align: middle;\n",
       "    }\n",
       "\n",
       "    .dataframe tbody tr th {\n",
       "        vertical-align: top;\n",
       "    }\n",
       "\n",
       "    .dataframe thead th {\n",
       "        text-align: right;\n",
       "    }\n",
       "</style>\n",
       "<table border=\"1\" class=\"dataframe\">\n",
       "  <thead>\n",
       "    <tr style=\"text-align: right;\">\n",
       "      <th></th>\n",
       "      <th>Tarih</th>\n",
       "      <th>Kapanış(TL)</th>\n",
       "      <th>Min(TL)</th>\n",
       "      <th>Max(TL)</th>\n",
       "      <th>AOF(TL)</th>\n",
       "      <th>Hacim(TL)</th>\n",
       "      <th>Sermaye(mn TL)</th>\n",
       "      <th>USDTRY</th>\n",
       "      <th>BIST 100</th>\n",
       "      <th>PiyasaDeğeri(mn TL)</th>\n",
       "      <th>PiyasaDeğeri(mn USD)</th>\n",
       "      <th>HalkaAçık PD(mn TL)</th>\n",
       "      <th>HalkaAçık PD(mn USD)</th>\n",
       "    </tr>\n",
       "    <tr>\n",
       "      <th>Tarih</th>\n",
       "      <th></th>\n",
       "      <th></th>\n",
       "      <th></th>\n",
       "      <th></th>\n",
       "      <th></th>\n",
       "      <th></th>\n",
       "      <th></th>\n",
       "      <th></th>\n",
       "      <th></th>\n",
       "      <th></th>\n",
       "      <th></th>\n",
       "      <th></th>\n",
       "      <th></th>\n",
       "    </tr>\n",
       "  </thead>\n",
       "  <tbody>\n",
       "    <tr>\n",
       "      <th>2024-05-09</th>\n",
       "      <td>09-05-2024</td>\n",
       "      <td>9.40</td>\n",
       "      <td>9.29</td>\n",
       "      <td>9.51</td>\n",
       "      <td>9.40</td>\n",
       "      <td>403906515</td>\n",
       "      <td>1400</td>\n",
       "      <td>32.2350</td>\n",
       "      <td>10269</td>\n",
       "      <td>13160</td>\n",
       "      <td>408</td>\n",
       "      <td>10333.0</td>\n",
       "      <td>321.0</td>\n",
       "    </tr>\n",
       "    <tr>\n",
       "      <th>2024-05-08</th>\n",
       "      <td>08-05-2024</td>\n",
       "      <td>9.38</td>\n",
       "      <td>9.36</td>\n",
       "      <td>9.62</td>\n",
       "      <td>9.48</td>\n",
       "      <td>602098611</td>\n",
       "      <td>1400</td>\n",
       "      <td>32.2650</td>\n",
       "      <td>10248</td>\n",
       "      <td>13132</td>\n",
       "      <td>407</td>\n",
       "      <td>10311.0</td>\n",
       "      <td>320.0</td>\n",
       "    </tr>\n",
       "    <tr>\n",
       "      <th>2024-05-07</th>\n",
       "      <td>07-05-2024</td>\n",
       "      <td>9.39</td>\n",
       "      <td>9.24</td>\n",
       "      <td>9.68</td>\n",
       "      <td>9.44</td>\n",
       "      <td>755787891</td>\n",
       "      <td>1400</td>\n",
       "      <td>32.2653</td>\n",
       "      <td>10337</td>\n",
       "      <td>13146</td>\n",
       "      <td>407</td>\n",
       "      <td>10322.0</td>\n",
       "      <td>320.0</td>\n",
       "    </tr>\n",
       "    <tr>\n",
       "      <th>2024-05-06</th>\n",
       "      <td>06-05-2024</td>\n",
       "      <td>9.63</td>\n",
       "      <td>9.60</td>\n",
       "      <td>10.11</td>\n",
       "      <td>9.83</td>\n",
       "      <td>1244211925</td>\n",
       "      <td>1400</td>\n",
       "      <td>32.2822</td>\n",
       "      <td>10267</td>\n",
       "      <td>13482</td>\n",
       "      <td>418</td>\n",
       "      <td>10586.0</td>\n",
       "      <td>328.0</td>\n",
       "    </tr>\n",
       "    <tr>\n",
       "      <th>2024-05-03</th>\n",
       "      <td>03-05-2024</td>\n",
       "      <td>10.00</td>\n",
       "      <td>9.91</td>\n",
       "      <td>10.15</td>\n",
       "      <td>10.03</td>\n",
       "      <td>766361498</td>\n",
       "      <td>1400</td>\n",
       "      <td>32.3053</td>\n",
       "      <td>10277</td>\n",
       "      <td>14000</td>\n",
       "      <td>433</td>\n",
       "      <td>10993.0</td>\n",
       "      <td>340.0</td>\n",
       "    </tr>\n",
       "  </tbody>\n",
       "</table>\n",
       "</div>"
      ],
      "text/plain": [
       "                 Tarih  Kapanış(TL)  Min(TL)  Max(TL)  AOF(TL)   Hacim(TL)  Sermaye(mn TL)   USDTRY  BIST 100  PiyasaDeğeri(mn TL)  PiyasaDeğeri(mn USD)  HalkaAçık PD(mn TL)  HalkaAçık PD(mn USD)\n",
       "Tarih                                                                                                                                                                                              \n",
       "2024-05-09  09-05-2024         9.40     9.29     9.51     9.40   403906515            1400  32.2350     10269                13160                   408              10333.0                 321.0\n",
       "2024-05-08  08-05-2024         9.38     9.36     9.62     9.48   602098611            1400  32.2650     10248                13132                   407              10311.0                 320.0\n",
       "2024-05-07  07-05-2024         9.39     9.24     9.68     9.44   755787891            1400  32.2653     10337                13146                   407              10322.0                 320.0\n",
       "2024-05-06  06-05-2024         9.63     9.60    10.11     9.83  1244211925            1400  32.2822     10267                13482                   418              10586.0                 328.0\n",
       "2024-05-03  03-05-2024        10.00     9.91    10.15    10.03   766361498            1400  32.3053     10277                14000                   433              10993.0                 340.0"
      ]
     },
     "execution_count": 170,
     "metadata": {},
     "output_type": "execute_result"
    }
   ],
   "source": [
    "start_date = '2015-01-01'\n",
    "end_date = '2024-08-05'\n",
    "filtered_df = df_copy[(df_copy.index >= start_date) & (df_copy.index <= end_date)]\n",
    "filtered_df.head()"
   ]
  },
  {
   "cell_type": "code",
   "execution_count": 171,
   "id": "675ae097",
   "metadata": {},
   "outputs": [
    {
     "data": {
      "text/html": [
       "<div>\n",
       "<style scoped>\n",
       "    .dataframe tbody tr th:only-of-type {\n",
       "        vertical-align: middle;\n",
       "    }\n",
       "\n",
       "    .dataframe tbody tr th {\n",
       "        vertical-align: top;\n",
       "    }\n",
       "\n",
       "    .dataframe thead th {\n",
       "        text-align: right;\n",
       "    }\n",
       "</style>\n",
       "<table border=\"1\" class=\"dataframe\">\n",
       "  <thead>\n",
       "    <tr style=\"text-align: right;\">\n",
       "      <th></th>\n",
       "      <th>Kapanış(TL)</th>\n",
       "    </tr>\n",
       "    <tr>\n",
       "      <th>Tarih</th>\n",
       "      <th></th>\n",
       "    </tr>\n",
       "  </thead>\n",
       "  <tbody>\n",
       "    <tr>\n",
       "      <th>2024-05-09</th>\n",
       "      <td>9.40</td>\n",
       "    </tr>\n",
       "    <tr>\n",
       "      <th>2024-05-08</th>\n",
       "      <td>9.38</td>\n",
       "    </tr>\n",
       "    <tr>\n",
       "      <th>2024-05-07</th>\n",
       "      <td>9.39</td>\n",
       "    </tr>\n",
       "    <tr>\n",
       "      <th>2024-05-06</th>\n",
       "      <td>9.63</td>\n",
       "    </tr>\n",
       "    <tr>\n",
       "      <th>2024-05-03</th>\n",
       "      <td>10.00</td>\n",
       "    </tr>\n",
       "  </tbody>\n",
       "</table>\n",
       "</div>"
      ],
      "text/plain": [
       "            Kapanış(TL)\n",
       "Tarih                  \n",
       "2024-05-09         9.40\n",
       "2024-05-08         9.38\n",
       "2024-05-07         9.39\n",
       "2024-05-06         9.63\n",
       "2024-05-03        10.00"
      ]
     },
     "execution_count": 171,
     "metadata": {},
     "output_type": "execute_result"
    }
   ],
   "source": [
    "df_new_drop = df_copy.drop([\"Tarih\", \"Min(TL)\",\"Max(TL)\",\"AOF(TL)\",\"Hacim(TL)\",\"Sermaye(mn TL)\",\"USDTRY\",\"BIST 100\",\"PiyasaDeğeri(mn TL)\",\"PiyasaDeğeri(mn USD)\",\"HalkaAçık PD(mn TL)\",\"HalkaAçık PD(mn USD)\"], axis='columns')\n",
    "df_new_drop.head()"
   ]
  },
  {
   "cell_type": "code",
   "execution_count": 172,
   "id": "8edf072c",
   "metadata": {},
   "outputs": [],
   "source": [
    "df_new_drop[\"Kapanış(TL)\"]=df_new_drop[\"Kapanış(TL)\"].astype(float)"
   ]
  },
  {
   "cell_type": "code",
   "execution_count": 173,
   "id": "a9bd0e1e",
   "metadata": {},
   "outputs": [],
   "source": [
    "import matplotlib.pyplot as plt\n",
    "plt.rcParams['figure.figsize'] = [40, 15]\n",
    "%matplotlib inline"
   ]
  },
  {
   "cell_type": "code",
   "execution_count": 174,
   "id": "289c4203",
   "metadata": {},
   "outputs": [
    {
     "data": {
      "text/plain": [
       "Text(0.5, 1.0, 'Kapanış(TL)')"
      ]
     },
     "execution_count": 174,
     "metadata": {},
     "output_type": "execute_result"
    },
    {
     "data": {
      "text/plain": [
       "<Figure size 4000x1500 with 0 Axes>"
      ]
     },
     "metadata": {},
     "output_type": "display_data"
    },
    {
     "data": {
      "image/png": "[encoded data removed]",
      "text/plain": [
       "<Figure size 4000x1500 with 1 Axes>"
      ]
     },
     "metadata": {},
     "output_type": "display_data"
    }
   ],
   "source": [
    "plt.figure()\n",
    "fig, ax = plt.subplots()\n",
    "ax.plot(df_new_drop.index,df_new_drop[\"Kapanış(TL)\"])\n",
    "ax.set_title ('Kapanış(TL)')"
   ]
  },
  {
   "cell_type": "code",
   "execution_count": 175,
   "id": "1e853957",
   "metadata": {},
   "outputs": [
    {
     "data": {
      "text/plain": [
       "2750"
      ]
     },
     "execution_count": 175,
     "metadata": {},
     "output_type": "execute_result"
    }
   ],
   "source": [
    "len(df_new_drop)"
   ]
  },
  {
   "cell_type": "code",
   "execution_count": 176,
   "id": "0ad41891",
   "metadata": {},
   "outputs": [
    {
     "data": {
      "text/plain": [
       "Kapanış(TL)    0\n",
       "dtype: int64"
      ]
     },
     "execution_count": 176,
     "metadata": {},
     "output_type": "execute_result"
    }
   ],
   "source": [
    "df_new_drop.isna().sum()"
   ]
  },
  {
   "cell_type": "code",
   "execution_count": 177,
   "id": "eeeb4ae1",
   "metadata": {},
   "outputs": [
    {
     "data": {
      "text/plain": [
       "Kapanış(TL)    0\n",
       "dtype: int64"
      ]
     },
     "execution_count": 177,
     "metadata": {},
     "output_type": "execute_result"
    }
   ],
   "source": [
    "df_new_drop=df_new_drop.interpolate(axis=0)\n",
    "df_new_drop.isna().sum()"
   ]
  },
  {
   "cell_type": "code",
   "execution_count": 178,
   "id": "b2701d21",
   "metadata": {},
   "outputs": [
    {
     "data": {
      "text/plain": [
       "Text(0.5, 1.0, 'Kapanış(TL)')"
      ]
     },
     "execution_count": 178,
     "metadata": {},
     "output_type": "execute_result"
    },
    {
     "data": {
      "text/plain": [
       "<Figure size 1500x600 with 0 Axes>"
      ]
     },
     "metadata": {},
     "output_type": "display_data"
    },
    {
     "data": {
      "image/png": "[encoded data removed]",
      "text/plain": [
       "<Figure size 4000x1500 with 1 Axes>"
      ]
     },
     "metadata": {},
     "output_type": "display_data"
    }
   ],
   "source": [
    "plt.figure(figsize=(15, 6))\n",
    "fig, ax = plt.subplots()\n",
    "ax.plot(df_new_drop.index,df_new_drop[\"Kapanış(TL)\"])\n",
    "ax.set_title ('Kapanış(TL)')"
   ]
  },
  {
   "cell_type": "code",
   "execution_count": 180,
   "id": "1936659e",
   "metadata": {},
   "outputs": [
    {
     "data": {
      "text/html": [
       "<div>\n",
       "<style scoped>\n",
       "    .dataframe tbody tr th:only-of-type {\n",
       "        vertical-align: middle;\n",
       "    }\n",
       "\n",
       "    .dataframe tbody tr th {\n",
       "        vertical-align: top;\n",
       "    }\n",
       "\n",
       "    .dataframe thead th {\n",
       "        text-align: right;\n",
       "    }\n",
       "</style>\n",
       "<table border=\"1\" class=\"dataframe\">\n",
       "  <thead>\n",
       "    <tr style=\"text-align: right;\">\n",
       "      <th></th>\n",
       "      <th>index</th>\n",
       "      <th>Tarih</th>\n",
       "      <th>Kapanış(TL)</th>\n",
       "    </tr>\n",
       "  </thead>\n",
       "  <tbody>\n",
       "    <tr>\n",
       "      <th>0</th>\n",
       "      <td>2749</td>\n",
       "      <td>2013-05-21</td>\n",
       "      <td>0.66</td>\n",
       "    </tr>\n",
       "    <tr>\n",
       "      <th>1</th>\n",
       "      <td>2748</td>\n",
       "      <td>2013-05-22</td>\n",
       "      <td>0.66</td>\n",
       "    </tr>\n",
       "    <tr>\n",
       "      <th>2</th>\n",
       "      <td>2747</td>\n",
       "      <td>2013-05-23</td>\n",
       "      <td>0.66</td>\n",
       "    </tr>\n",
       "    <tr>\n",
       "      <th>3</th>\n",
       "      <td>2746</td>\n",
       "      <td>2013-05-24</td>\n",
       "      <td>0.73</td>\n",
       "    </tr>\n",
       "    <tr>\n",
       "      <th>4</th>\n",
       "      <td>2745</td>\n",
       "      <td>2013-05-27</td>\n",
       "      <td>0.74</td>\n",
       "    </tr>\n",
       "  </tbody>\n",
       "</table>\n",
       "</div>"
      ],
      "text/plain": [
       "   index      Tarih  Kapanış(TL)\n",
       "0   2749 2013-05-21         0.66\n",
       "1   2748 2013-05-22         0.66\n",
       "2   2747 2013-05-23         0.66\n",
       "3   2746 2013-05-24         0.73\n",
       "4   2745 2013-05-27         0.74"
      ]
     },
     "execution_count": 180,
     "metadata": {},
     "output_type": "execute_result"
    }
   ],
   "source": [
    "df_final=df_new_drop.reset_index()\n",
    "df_final = df_final.apply(lambda x: x[::-1])\n",
    "df_final=df_final.reset_index()\n",
    "df_final.head()"
   ]
  },
  {
   "cell_type": "code",
   "execution_count": 181,
   "id": "5a6d5203",
   "metadata": {},
   "outputs": [
    {
     "data": {
      "text/html": [
       "<div>\n",
       "<style scoped>\n",
       "    .dataframe tbody tr th:only-of-type {\n",
       "        vertical-align: middle;\n",
       "    }\n",
       "\n",
       "    .dataframe tbody tr th {\n",
       "        vertical-align: top;\n",
       "    }\n",
       "\n",
       "    .dataframe thead th {\n",
       "        text-align: right;\n",
       "    }\n",
       "</style>\n",
       "<table border=\"1\" class=\"dataframe\">\n",
       "  <thead>\n",
       "    <tr style=\"text-align: right;\">\n",
       "      <th></th>\n",
       "      <th>index</th>\n",
       "      <th>Tarih</th>\n",
       "      <th>Kapanış(TL)</th>\n",
       "    </tr>\n",
       "  </thead>\n",
       "  <tbody>\n",
       "    <tr>\n",
       "      <th>0</th>\n",
       "      <td>2749</td>\n",
       "      <td>2013-05-21</td>\n",
       "      <td>0.66</td>\n",
       "    </tr>\n",
       "    <tr>\n",
       "      <th>1</th>\n",
       "      <td>2748</td>\n",
       "      <td>2013-05-22</td>\n",
       "      <td>0.66</td>\n",
       "    </tr>\n",
       "    <tr>\n",
       "      <th>2</th>\n",
       "      <td>2747</td>\n",
       "      <td>2013-05-23</td>\n",
       "      <td>0.66</td>\n",
       "    </tr>\n",
       "    <tr>\n",
       "      <th>3</th>\n",
       "      <td>2746</td>\n",
       "      <td>2013-05-24</td>\n",
       "      <td>0.73</td>\n",
       "    </tr>\n",
       "    <tr>\n",
       "      <th>4</th>\n",
       "      <td>2745</td>\n",
       "      <td>2013-05-27</td>\n",
       "      <td>0.74</td>\n",
       "    </tr>\n",
       "  </tbody>\n",
       "</table>\n",
       "</div>"
      ],
      "text/plain": [
       "   index      Tarih  Kapanış(TL)\n",
       "0   2749 2013-05-21         0.66\n",
       "1   2748 2013-05-22         0.66\n",
       "2   2747 2013-05-23         0.66\n",
       "3   2746 2013-05-24         0.73\n",
       "4   2745 2013-05-27         0.74"
      ]
     },
     "execution_count": 181,
     "metadata": {},
     "output_type": "execute_result"
    }
   ],
   "source": [
    "df_final.head()"
   ]
  },
  {
   "cell_type": "code",
   "execution_count": 182,
   "id": "0624df32",
   "metadata": {},
   "outputs": [
    {
     "data": {
      "text/plain": [
       "Text(0.5, 1.0, 'Kapanış(TL)')"
      ]
     },
     "execution_count": 182,
     "metadata": {},
     "output_type": "execute_result"
    },
    {
     "data": {
      "text/plain": [
       "<Figure size 1500x600 with 0 Axes>"
      ]
     },
     "metadata": {},
     "output_type": "display_data"
    },
    {
     "data": {
      "image/png": "[encoded data removed]",
      "text/plain": [
       "<Figure size 4000x1500 with 1 Axes>"
      ]
     },
     "metadata": {},
     "output_type": "display_data"
    }
   ],
   "source": [
    "plt.figure(figsize=(15, 6))\n",
    "fig, ax = plt.subplots()\n",
    "ax.plot(df_new_drop.index,df_new_drop[\"Kapanış(TL)\"])\n",
    "ax.set_title ('Kapanış(TL)')"
   ]
  },
  {
   "cell_type": "code",
   "execution_count": 183,
   "id": "b34f6740",
   "metadata": {},
   "outputs": [
    {
     "data": {
      "text/plain": [
       "array([0.66, 0.66, 0.66, ..., 9.39, 9.38, 9.4 ])"
      ]
     },
     "execution_count": 183,
     "metadata": {},
     "output_type": "execute_result"
    }
   ],
   "source": [
    "dt_arr=np.array(df_final[\"Kapanış(TL)\"])\n",
    "dt_arr"
   ]
  },
  {
   "cell_type": "code",
   "execution_count": 184,
   "id": "637c98b5",
   "metadata": {},
   "outputs": [
    {
     "name": "stdout",
     "output_type": "stream",
     "text": [
      "(2433, 42)\n",
      "(233, 42)\n"
     ]
    }
   ],
   "source": [
    "from keras.preprocessing.sequence import TimeseriesGenerator\n",
    "train, test = dt_arr[0:round(0.90*len(dt_arr))], dt_arr[round(0.90*len(dt_arr)):]\n",
    "window_size=42\n",
    "batch_size=32\n",
    "train_generator = TimeseriesGenerator(train, train, length=window_size, batch_size=batch_size)\n",
    "test_generator = TimeseriesGenerator(test, test, length=window_size, batch_size=batch_size)\n",
    "\n",
    "# Eğitim veri setinden X_train ve y_train'i al\n",
    "X_train = []\n",
    "y_train = []\n",
    "for i in range(len(train_generator)):\n",
    "    X_batch, y_batch = train_generator[i]\n",
    "    X_train.extend(X_batch)\n",
    "    y_train.extend(y_batch)\n",
    "\n",
    "# Test veri setinden X_test ve y_test'i al\n",
    "X_test = []\n",
    "y_test = []\n",
    "for i in range(len(test_generator)):\n",
    "    X_batch, y_batch = test_generator[i]\n",
    "    X_test.extend(X_batch)\n",
    "    y_test.extend(y_batch)\n",
    "\n",
    "# Sonuçları numpy dizilerine dönüştür\n",
    "X_train_LSTM = np.array(X_train)\n",
    "y_train_LSTM = np.array(y_train)\n",
    "X_test_LSTM = np.array(X_test)\n",
    "y_test_LSTM = np.array(y_test)\n",
    "\n",
    "X_train,y_train=X_train_LSTM.reshape(X_train_LSTM.shape[0], -1),y_train_LSTM.reshape(y_train_LSTM.shape[0], -1)\n",
    "X_test,y_test=X_test_LSTM.reshape(X_test_LSTM.shape[0], -1),y_test_LSTM.reshape(y_test_LSTM.shape[0], -1)\n",
    "\n",
    "print(X_train.shape)\n",
    "print(X_test.shape)"
   ]
  },
  {
   "cell_type": "code",
   "execution_count": 185,
   "id": "3f04b839",
   "metadata": {},
   "outputs": [],
   "source": [
    "from keras.models import Sequential\n",
    "from keras.layers import Dense,Dropout,LSTM\n",
    "from keras import layers\n",
    "from keras import backend as K\n",
    "import keras\n",
    "from keras.callbacks import ModelCheckpoint,EarlyStopping\n",
    "\n",
    "import tensorflow as tf\n",
    "from tensorflow.keras.optimizers import Adam\n",
    "from tensorflow.keras.wrappers.scikit_learn import KerasClassifier\n",
    "from tensorflow.keras.callbacks import Callback,EarlyStopping\n",
    "from tensorflow import keras\n",
    "\n",
    "\n",
    "from sklearn.model_selection import GridSearchCV,train_test_split,TimeSeriesSplit\n",
    "\n",
    "from sklearn.metrics import mean_squared_error,mean_absolute_error,r2_score\n",
    "from sklearn import metrics\n",
    "\n",
    "from IPython.display import clear_output\n",
    "import matplotlib.pyplot as plt\n",
    "import numpy as np\n",
    "from glob import glob\n",
    "import seaborn as sn\n",
    "import pathlib\n",
    "from IPython.display import clear_output\n",
    "\n",
    "\n",
    "from sklearn.svm import SVR\n",
    "import numpy as np\n",
    "import xgboost as xgb\n",
    "from sklearn.model_selection import TimeSeriesSplit, GridSearchCV\n",
    "from sklearn.metrics import mean_squared_error\n",
    "from sklearn.ensemble import RandomForestRegressor"
   ]
  },
  {
   "cell_type": "code",
   "execution_count": 186,
   "id": "d16d25f7",
   "metadata": {},
   "outputs": [],
   "source": [
    "def print_evaluate(true, predicted):  \n",
    "    mae = metrics.mean_absolute_error(true, predicted)\n",
    "    mse = metrics.mean_squared_error(true, predicted)\n",
    "    rmse = np.sqrt(metrics.mean_squared_error(true, predicted))\n",
    "    r2_square = metrics.r2_score(true, predicted)\n",
    "    print('MAE:', mae)\n",
    "    print('MSE:', mse)\n",
    "    print('RMSE:', rmse)\n",
    "    print('R2 Square', r2_square)\n",
    "    print('__________________________________')\n",
    "    \n",
    "    \n",
    "def mean_absolute_percentage_error(y_true, y_pred): \n",
    "    \"\"\"Calculates MAPE given y_true and y_pred\"\"\"\n",
    "    y_true, y_pred = np.array(y_true), np.array(y_pred)\n",
    "    return np.mean(np.abs((y_true - y_pred) / y_true)) * 100\n",
    "\n",
    "\n",
    "def evaluate(true, predicted):\n",
    "    mae = metrics.mean_absolute_error(true, predicted)\n",
    "    mse = metrics.mean_squared_error(true, predicted)\n",
    "    rmse = np.sqrt(metrics.mean_squared_error(true, predicted))\n",
    "    r2_square = metrics.r2_score(true, predicted)\n",
    "    return mae, mse, rmse, r2_square\n",
    "\n",
    "class PlotLearning(Callback):\n",
    "    \"\"\"\n",
    "    Callback to plot the learning curves of the model during training.\n",
    "    \"\"\"\n",
    "    def on_train_begin(self, logs={}):\n",
    "        self.metrics = {}\n",
    "        for metric in logs:\n",
    "            self.metrics[metric] = []\n",
    "            \n",
    "\n",
    "    def on_epoch_end(self, epoch, logs={}):\n",
    "        # Storing metrics\n",
    "        for metric in logs:\n",
    "            if metric in self.metrics:\n",
    "                self.metrics[metric].append(logs.get(metric))\n",
    "            else:\n",
    "                self.metrics[metric] = [logs.get(metric)]\n",
    "        \n",
    "        # Plotting\n",
    "        metrics = [x for x in logs if 'val' not in x]\n",
    "        \n",
    "        f, axs = plt.subplots(1, len(metrics), figsize=(15,5))\n",
    "        clear_output(wait=True)\n",
    "        for i, metric in enumerate(metrics):\n",
    "            axs[i].plot(range(1, epoch + 2), \n",
    "                        self.metrics[metric], \n",
    "                        label=metric)\n",
    "            if logs['val_' + metric]:\n",
    "                axs[i].plot(range(1, epoch + 2), \n",
    "                            self.metrics['val_' + metric], \n",
    "                            label='val_' + metric)\n",
    "                \n",
    "            axs[i].legend()\n",
    "            axs[i].grid()\n",
    "\n",
    "        plt.tight_layout()\n",
    "        plt.show()\n",
    "\n"
   ]
  },
  {
   "cell_type": "code",
   "execution_count": 209,
   "id": "0649eb6e",
   "metadata": {},
   "outputs": [],
   "source": [
    "results=pd.DataFrame(columns = ['Model', 'Dataset', 'MAE','MSE','RMSE','R2','Window','Batch_size','Patience'])"
   ]
  },
  {
   "cell_type": "code",
   "execution_count": 188,
   "id": "96fb74c8",
   "metadata": {},
   "outputs": [],
   "source": [
    "from sklearn.linear_model import Ridge"
   ]
  },
  {
   "cell_type": "code",
   "execution_count": 189,
   "id": "cd74e20b",
   "metadata": {},
   "outputs": [
    {
     "name": "stdout",
     "output_type": "stream",
     "text": [
      "Fitting 5 folds for each of 120 candidates, totalling 600 fits\n",
      "{'alpha': 4.175318936560426e-12, 'max_iter': 100}\n"
     ]
    }
   ],
   "source": [
    "model_params = {\n",
    "        'params': {\n",
    "            'alpha': np.logspace(-30, 0, 30),\n",
    "            'max_iter':  [100,1000,10000,100000]\n",
    "        }\n",
    "    }\n",
    "\n",
    "ridge = Ridge()\n",
    "ridge_grid = GridSearchCV(ridge, model_params[\"params\"], scoring='neg_mean_squared_error',cv=5,verbose=True)\n",
    "ridge_grid.fit(X_train, y_train)\n",
    "print(ridge_grid.best_params_)"
   ]
  },
  {
   "cell_type": "code",
   "execution_count": 190,
   "id": "d59dba2e",
   "metadata": {},
   "outputs": [
    {
     "data": {
      "text/html": [
       "<style>#sk-container-id-3 {color: black;}#sk-container-id-3 pre{padding: 0;}#sk-container-id-3 div.sk-toggleable {background-color: white;}#sk-container-id-3 label.sk-toggleable__label {cursor: pointer;display: block;width: 100%;margin-bottom: 0;padding: 0.3em;box-sizing: border-box;text-align: center;}#sk-container-id-3 label.sk-toggleable__label-arrow:before {content: \"▸\";float: left;margin-right: 0.25em;color: #696969;}#sk-container-id-3 label.sk-toggleable__label-arrow:hover:before {color: black;}#sk-container-id-3 div.sk-estimator:hover label.sk-toggleable__label-arrow:before {color: black;}#sk-container-id-3 div.sk-toggleable__content {max-height: 0;max-width: 0;overflow: hidden;text-align: left;background-color: #f0f8ff;}#sk-container-id-3 div.sk-toggleable__content pre {margin: 0.2em;color: black;border-radius: 0.25em;background-color: #f0f8ff;}#sk-container-id-3 input.sk-toggleable__control:checked~div.sk-toggleable__content {max-height: 200px;max-width: 100%;overflow: auto;}#sk-container-id-3 input.sk-toggleable__control:checked~label.sk-toggleable__label-arrow:before {content: \"▾\";}#sk-container-id-3 div.sk-estimator input.sk-toggleable__control:checked~label.sk-toggleable__label {background-color: #d4ebff;}#sk-container-id-3 div.sk-label input.sk-toggleable__control:checked~label.sk-toggleable__label {background-color: #d4ebff;}#sk-container-id-3 input.sk-hidden--visually {border: 0;clip: rect(1px 1px 1px 1px);clip: rect(1px, 1px, 1px, 1px);height: 1px;margin: -1px;overflow: hidden;padding: 0;position: absolute;width: 1px;}#sk-container-id-3 div.sk-estimator {font-family: monospace;background-color: #f0f8ff;border: 1px dotted black;border-radius: 0.25em;box-sizing: border-box;margin-bottom: 0.5em;}#sk-container-id-3 div.sk-estimator:hover {background-color: #d4ebff;}#sk-container-id-3 div.sk-parallel-item::after {content: \"\";width: 100%;border-bottom: 1px solid gray;flex-grow: 1;}#sk-container-id-3 div.sk-label:hover label.sk-toggleable__label {background-color: #d4ebff;}#sk-container-id-3 div.sk-serial::before {content: \"\";position: absolute;border-left: 1px solid gray;box-sizing: border-box;top: 0;bottom: 0;left: 50%;z-index: 0;}#sk-container-id-3 div.sk-serial {display: flex;flex-direction: column;align-items: center;background-color: white;padding-right: 0.2em;padding-left: 0.2em;position: relative;}#sk-container-id-3 div.sk-item {position: relative;z-index: 1;}#sk-container-id-3 div.sk-parallel {display: flex;align-items: stretch;justify-content: center;background-color: white;position: relative;}#sk-container-id-3 div.sk-item::before, #sk-container-id-3 div.sk-parallel-item::before {content: \"\";position: absolute;border-left: 1px solid gray;box-sizing: border-box;top: 0;bottom: 0;left: 50%;z-index: -1;}#sk-container-id-3 div.sk-parallel-item {display: flex;flex-direction: column;z-index: 1;position: relative;background-color: white;}#sk-container-id-3 div.sk-parallel-item:first-child::after {align-self: flex-end;width: 50%;}#sk-container-id-3 div.sk-parallel-item:last-child::after {align-self: flex-start;width: 50%;}#sk-container-id-3 div.sk-parallel-item:only-child::after {width: 0;}#sk-container-id-3 div.sk-dashed-wrapped {border: 1px dashed gray;margin: 0 0.4em 0.5em 0.4em;box-sizing: border-box;padding-bottom: 0.4em;background-color: white;}#sk-container-id-3 div.sk-label label {font-family: monospace;font-weight: bold;display: inline-block;line-height: 1.2em;}#sk-container-id-3 div.sk-label-container {text-align: center;}#sk-container-id-3 div.sk-container {/* jupyter's `normalize.less` sets `[hidden] { display: none; }` but bootstrap.min.css set `[hidden] { display: none !important; }` so we also need the `!important` here to be able to override the default hidden behavior on the sphinx rendered scikit-learn.org. See: https://github.com/scikit-learn/scikit-learn/issues/21755 */display: inline-block !important;position: relative;}#sk-container-id-3 div.sk-text-repr-fallback {display: none;}</style><div id=\"sk-container-id-3\" class=\"sk-top-container\"><div class=\"sk-text-repr-fallback\"><pre>Ridge(alpha=4.175318936560426e-128, max_iter=100)</pre><b>In a Jupyter environment, please rerun this cell to show the HTML representation or trust the notebook. <br />On GitHub, the HTML representation is unable to render, please try loading this page with nbviewer.org.</b></div><div class=\"sk-container\" hidden><div class=\"sk-item\"><div class=\"sk-estimator sk-toggleable\"><input class=\"sk-toggleable__control sk-hidden--visually\" id=\"sk-estimator-id-3\" type=\"checkbox\" checked><label for=\"sk-estimator-id-3\" class=\"sk-toggleable__label sk-toggleable__label-arrow\">Ridge</label><div class=\"sk-toggleable__content\"><pre>Ridge(alpha=4.175318936560426e-128, max_iter=100)</pre></div></div></div></div></div>"
      ],
      "text/plain": [
       "Ridge(alpha=4.175318936560426e-128, max_iter=100)"
      ]
     },
     "execution_count": 190,
     "metadata": {},
     "output_type": "execute_result"
    }
   ],
   "source": [
    "ridge = Ridge(alpha=4.175318936560426e-128,max_iter=100)  \n",
    "ridge.fit(X_train, y_train)"
   ]
  },
  {
   "cell_type": "code",
   "execution_count": 212,
   "id": "54bdd38a",
   "metadata": {},
   "outputs": [
    {
     "data": {
      "text/html": [
       "<div>\n",
       "<style scoped>\n",
       "    .dataframe tbody tr th:only-of-type {\n",
       "        vertical-align: middle;\n",
       "    }\n",
       "\n",
       "    .dataframe tbody tr th {\n",
       "        vertical-align: top;\n",
       "    }\n",
       "\n",
       "    .dataframe thead th {\n",
       "        text-align: right;\n",
       "    }\n",
       "</style>\n",
       "<table border=\"1\" class=\"dataframe\">\n",
       "  <thead>\n",
       "    <tr style=\"text-align: right;\">\n",
       "      <th></th>\n",
       "      <th>Model</th>\n",
       "      <th>Dataset</th>\n",
       "      <th>MAE</th>\n",
       "      <th>MSE</th>\n",
       "      <th>RMSE</th>\n",
       "      <th>R2</th>\n",
       "      <th>Window</th>\n",
       "      <th>Batch_size</th>\n",
       "      <th>Patience</th>\n",
       "    </tr>\n",
       "  </thead>\n",
       "  <tbody>\n",
       "    <tr>\n",
       "      <th>0</th>\n",
       "      <td>Ridge</td>\n",
       "      <td>Test</td>\n",
       "      <td>0.278452</td>\n",
       "      <td>0.134880</td>\n",
       "      <td>0.367260</td>\n",
       "      <td>0.960567</td>\n",
       "      <td>42</td>\n",
       "      <td>32</td>\n",
       "      <td>15</td>\n",
       "    </tr>\n",
       "    <tr>\n",
       "      <th>1</th>\n",
       "      <td>Ridge</td>\n",
       "      <td>Train</td>\n",
       "      <td>0.047997</td>\n",
       "      <td>0.009453</td>\n",
       "      <td>0.097228</td>\n",
       "      <td>0.997370</td>\n",
       "      <td>42</td>\n",
       "      <td>32</td>\n",
       "      <td>15</td>\n",
       "    </tr>\n",
       "    <tr>\n",
       "      <th>2</th>\n",
       "      <td>Ridge</td>\n",
       "      <td>Test</td>\n",
       "      <td>0.278452</td>\n",
       "      <td>0.134880</td>\n",
       "      <td>0.367260</td>\n",
       "      <td>0.997370</td>\n",
       "      <td>42</td>\n",
       "      <td>32</td>\n",
       "      <td>15</td>\n",
       "    </tr>\n",
       "    <tr>\n",
       "      <th>3</th>\n",
       "      <td>Ridge</td>\n",
       "      <td>Train</td>\n",
       "      <td>0.047997</td>\n",
       "      <td>0.009453</td>\n",
       "      <td>0.097228</td>\n",
       "      <td>0.997370</td>\n",
       "      <td>42</td>\n",
       "      <td>32</td>\n",
       "      <td>15</td>\n",
       "    </tr>\n",
       "    <tr>\n",
       "      <th>4</th>\n",
       "      <td>Ridge</td>\n",
       "      <td>Test</td>\n",
       "      <td>0.278452</td>\n",
       "      <td>0.134880</td>\n",
       "      <td>0.367260</td>\n",
       "      <td>0.960567</td>\n",
       "      <td>42</td>\n",
       "      <td>32</td>\n",
       "      <td>15</td>\n",
       "    </tr>\n",
       "    <tr>\n",
       "      <th>5</th>\n",
       "      <td>Ridge</td>\n",
       "      <td>Train</td>\n",
       "      <td>0.047997</td>\n",
       "      <td>0.009453</td>\n",
       "      <td>0.097228</td>\n",
       "      <td>0.997370</td>\n",
       "      <td>42</td>\n",
       "      <td>32</td>\n",
       "      <td>15</td>\n",
       "    </tr>\n",
       "  </tbody>\n",
       "</table>\n",
       "</div>"
      ],
      "text/plain": [
       "   Model Dataset       MAE       MSE      RMSE        R2 Window Batch_size Patience\n",
       "0  Ridge    Test  0.278452  0.134880  0.367260  0.960567     42         32       15\n",
       "1  Ridge   Train  0.047997  0.009453  0.097228  0.997370     42         32       15\n",
       "2  Ridge    Test  0.278452  0.134880  0.367260  0.997370     42         32       15\n",
       "3  Ridge   Train  0.047997  0.009453  0.097228  0.997370     42         32       15\n",
       "4  Ridge    Test  0.278452  0.134880  0.367260  0.960567     42         32       15\n",
       "5  Ridge   Train  0.047997  0.009453  0.097228  0.997370     42         32       15"
      ]
     },
     "execution_count": 212,
     "metadata": {},
     "output_type": "execute_result"
    }
   ],
   "source": [
    "train_predict=ridge.predict(X_train)\n",
    "test_predict=ridge.predict(X_test)\n",
    "\n",
    "mae,mse,rmse,r2_test=evaluate(test_predict,y_test)\n",
    "results = pd.concat([results,\n",
    "                     pd.DataFrame([{\n",
    "                         'Model':'Ridge',\n",
    "                         'Dataset':'Test',\n",
    "                         'MAE':mae,\n",
    "                         'MSE':mse,\n",
    "                         'RMSE':rmse,\n",
    "                         'R2':r2_test,\n",
    "                         'Window':window_size,\n",
    "                         'Batch_size':batch_size,\n",
    "                         'Patience':15\n",
    "                     }])], ignore_index=True)\n",
    "\n",
    "mae,mse,rmse,r2=evaluate(train_predict,y_train)\n",
    "results = pd.concat([results,\n",
    "                     pd.DataFrame([{\n",
    "                         'Model':'Ridge',\n",
    "                         'Dataset':'Train',\n",
    "                         'MAE':mae,\n",
    "                         'MSE':mse,\n",
    "                         'RMSE':rmse,\n",
    "                         'R2':r2,\n",
    "                         'Window':window_size,\n",
    "                         'Batch_size':batch_size,\n",
    "                         'Patience':15\n",
    "                     }])], ignore_index=True)\n",
    "results"
   ]
  },
  {
   "cell_type": "code",
   "execution_count": 213,
   "id": "c092f419",
   "metadata": {},
   "outputs": [
    {
     "data": {
      "image/png": "[encoded data removed]",
      "text/plain": [
       "<Figure size 1500x600 with 1 Axes>"
      ]
     },
     "metadata": {},
     "output_type": "display_data"
    }
   ],
   "source": [
    "plt.figure(figsize=(15, 6))\n",
    "plt.plot(df_final[\"Kapanış(TL)\"], color='yellow', label=\"Actual average traffic index\")\n",
    "\n",
    "# Shifting the x-values for the second plot by 60 for training data\n",
    "shifted_train_predict_values = np.arange(len(train_predict)) + window_size\n",
    "plt.plot(shifted_train_predict_values, train_predict, color='blue', label=\"Predicted average traffic index (train)\")\n",
    "\n",
    "# Shifting the x-values for the third plot by 120 for test data\n",
    "shifted_test_predict_values = np.arange(len(test_predict)) + len(train_predict) + 2*window_size\n",
    "test_predict_inverse_flattened = test_predict.flatten()  # Flatten test_predict_inverse\n",
    "plt.plot(shifted_test_predict_values, test_predict, color='red', label=\"Predicted average traffic index (test)\")\n",
    "\n",
    "plt.title(\"Average traffic index of Istanbul(Ridge)\")\n",
    "plt.xlabel(\"time\")\n",
    "plt.ylabel(\"Average index\")\n",
    "plt.legend()\n",
    "plt.show()"
   ]
  },
  {
   "cell_type": "code",
   "execution_count": 214,
   "id": "a7faf3a1",
   "metadata": {},
   "outputs": [],
   "source": [
    "import plotly.offline as py\n",
    "import plotly.graph_objs as go"
   ]
  },
  {
   "cell_type": "code",
   "execution_count": null,
   "id": "052aed1c",
   "metadata": {},
   "outputs": [],
   "source": []
  },
  {
   "cell_type": "code",
   "execution_count": 215,
   "id": "83056127",
   "metadata": {},
   "outputs": [
    {
     "data": {
      "application/vnd.plotly.v1+json": {
       "config": {
        "linkText": "Export to plot.ly",
        "plotlyServerURL": "https://plot.ly",
        "showLink": false
       },
       "data": [
        {
         "line": {
          "color": "red"
         },
         "mode": "lines",
         "name": "Gerçek ODAS Tarihsel Fiyat Bilgileri",
         "type": "scatter",
         "x": [
          "2014-04-24T00:00:00",
          "2014-04-22T00:00:00",
          "2014-04-21T00:00:00",
          "2014-04-18T00:00:00",
          "2014-04-17T00:00:00",
          "2014-04-16T00:00:00",
          "2014-04-15T00:00:00",
          "2014-04-14T00:00:00",
          "2014-04-11T00:00:00",
          "2014-04-10T00:00:00",
          "2014-04-09T00:00:00",
          "2014-04-08T00:00:00",
          "2014-04-07T00:00:00",
          "2014-04-04T00:00:00",
          "2014-04-03T00:00:00",
          "2014-04-02T00:00:00",
          "2014-04-01T00:00:00",
          "2014-03-31T00:00:00",
          "2014-03-28T00:00:00",
          "2014-03-27T00:00:00",
          "2014-03-26T00:00:00",
          "2014-03-25T00:00:00",
          "2014-03-24T00:00:00",
          "2014-03-21T00:00:00",
          "2014-03-20T00:00:00",
          "2014-03-19T00:00:00",
          "2014-03-18T00:00:00",
          "2014-03-17T00:00:00",
          "2014-03-14T00:00:00",
          "2014-03-13T00:00:00",
          "2014-03-12T00:00:00",
          "2014-03-11T00:00:00",
          "2014-03-10T00:00:00",
          "2014-03-07T00:00:00",
          "2014-03-06T00:00:00",
          "2014-03-05T00:00:00",
          "2014-03-04T00:00:00",
          "2014-03-03T00:00:00",
          "2014-02-28T00:00:00",
          "2014-02-27T00:00:00",
          "2014-02-26T00:00:00",
          "2014-02-25T00:00:00",
          "2014-02-24T00:00:00",
          "2014-02-21T00:00:00",
          "2014-02-20T00:00:00",
          "2014-02-19T00:00:00",
          "2014-02-18T00:00:00",
          "2014-02-17T00:00:00",
          "2014-02-14T00:00:00",
          "2014-02-13T00:00:00",
          "2014-02-12T00:00:00",
          "2014-02-11T00:00:00",
          "2014-02-10T00:00:00",
          "2014-02-07T00:00:00",
          "2014-02-06T00:00:00",
          "2014-02-05T00:00:00",
          "2014-02-04T00:00:00",
          "2014-02-03T00:00:00",
          "2014-01-31T00:00:00",
          "2014-01-30T00:00:00",
          "2014-01-29T00:00:00",
          "2014-01-28T00:00:00",
          "2014-01-27T00:00:00",
          "2014-01-24T00:00:00",
          "2014-01-23T00:00:00",
          "2014-01-22T00:00:00",
          "2014-01-21T00:00:00",
          "2014-01-20T00:00:00",
          "2014-01-17T00:00:00",
          "2014-01-16T00:00:00",
          "2014-01-15T00:00:00",
          "2014-01-14T00:00:00",
          "2014-01-13T00:00:00",
          "2014-01-10T00:00:00",
          "2014-01-09T00:00:00",
          "2014-01-08T00:00:00",
          "2014-01-07T00:00:00",
          "2014-01-06T00:00:00",
          "2014-01-03T00:00:00",
          "2014-01-02T00:00:00",
          "2013-12-31T00:00:00",
          "2013-12-30T00:00:00",
          "2013-12-27T00:00:00",
          "2013-12-26T00:00:00",
          "2013-12-25T00:00:00",
          "2013-12-24T00:00:00",
          "2013-12-23T00:00:00",
          "2013-12-20T00:00:00",
          "2013-12-19T00:00:00",
          "2013-12-18T00:00:00",
          "2013-12-17T00:00:00",
          "2013-12-16T00:00:00",
          "2013-12-13T00:00:00",
          "2013-12-12T00:00:00",
          "2013-12-11T00:00:00",
          "2013-12-10T00:00:00",
          "2013-12-09T00:00:00",
          "2013-12-06T00:00:00",
          "2013-12-05T00:00:00",
          "2013-12-04T00:00:00",
          "2013-12-03T00:00:00",
          "2013-12-02T00:00:00",
          "2013-11-29T00:00:00",
          "2013-11-28T00:00:00",
          "2013-11-27T00:00:00",
          "2013-11-26T00:00:00",
          "2013-11-25T00:00:00",
          "2013-11-22T00:00:00",
          "2013-11-21T00:00:00",
          "2013-11-20T00:00:00",
          "2013-11-19T00:00:00",
          "2013-11-18T00:00:00",
          "2013-11-15T00:00:00",
          "2013-11-14T00:00:00",
          "2013-11-13T00:00:00",
          "2013-11-12T00:00:00",
          "2013-11-11T00:00:00",
          "2013-11-08T00:00:00",
          "2013-11-07T00:00:00",
          "2013-11-06T00:00:00",
          "2013-11-05T00:00:00",
          "2013-11-04T00:00:00",
          "2013-11-01T00:00:00",
          "2013-10-31T00:00:00",
          "2013-10-30T00:00:00",
          "2013-10-28T00:00:00",
          "2013-10-25T00:00:00",
          "2013-10-24T00:00:00",
          "2013-10-23T00:00:00",
          "2013-10-22T00:00:00",
          "2013-10-21T00:00:00",
          "2013-10-14T00:00:00",
          "2013-10-11T00:00:00",
          "2013-10-10T00:00:00",
          "2013-10-09T00:00:00",
          "2013-10-08T00:00:00",
          "2013-10-07T00:00:00",
          "2013-10-04T00:00:00",
          "2013-10-03T00:00:00",
          "2013-10-02T00:00:00",
          "2013-10-01T00:00:00",
          "2013-09-30T00:00:00",
          "2013-09-27T00:00:00",
          "2013-09-26T00:00:00",
          "2013-09-25T00:00:00",
          "2013-09-24T00:00:00",
          "2013-09-23T00:00:00",
          "2013-09-20T00:00:00",
          "2013-09-19T00:00:00",
          "2013-09-18T00:00:00",
          "2013-09-17T00:00:00",
          "2013-09-16T00:00:00",
          "2013-09-13T00:00:00",
          "2013-09-12T00:00:00",
          "2013-09-11T00:00:00",
          "2013-09-10T00:00:00",
          "2013-09-09T00:00:00",
          "2013-09-06T00:00:00",
          "2013-09-05T00:00:00",
          "2013-09-04T00:00:00",
          "2013-09-03T00:00:00",
          "2013-09-02T00:00:00",
          "2013-08-29T00:00:00",
          "2013-08-28T00:00:00",
          "2013-08-27T00:00:00",
          "2013-08-26T00:00:00",
          "2013-08-23T00:00:00",
          "2013-08-22T00:00:00",
          "2013-08-21T00:00:00",
          "2013-08-20T00:00:00",
          "2013-08-19T00:00:00",
          "2013-08-16T00:00:00",
          "2013-08-15T00:00:00",
          "2013-08-14T00:00:00",
          "2013-08-13T00:00:00",
          "2013-08-12T00:00:00",
          "2013-08-07T00:00:00",
          "2013-08-06T00:00:00",
          "2013-08-05T00:00:00",
          "2013-08-02T00:00:00",
          "2013-08-01T00:00:00",
          "2013-07-31T00:00:00",
          "2013-07-30T00:00:00",
          "2013-07-29T00:00:00",
          "2013-07-26T00:00:00",
          "2013-07-25T00:00:00",
          "2013-07-24T00:00:00",
          "2013-07-23T00:00:00",
          "2013-07-22T00:00:00",
          "2013-07-19T00:00:00",
          "2013-07-18T00:00:00",
          "2013-07-17T00:00:00",
          "2013-07-16T00:00:00",
          "2013-07-15T00:00:00",
          "2013-07-12T00:00:00",
          "2013-07-11T00:00:00",
          "2013-07-10T00:00:00",
          "2013-07-09T00:00:00",
          "2013-07-08T00:00:00",
          "2013-07-05T00:00:00",
          "2013-07-04T00:00:00",
          "2013-07-03T00:00:00",
          "2013-07-02T00:00:00",
          "2013-07-01T00:00:00",
          "2013-06-28T00:00:00",
          "2013-06-27T00:00:00",
          "2013-06-26T00:00:00",
          "2013-06-25T00:00:00",
          "2013-06-24T00:00:00",
          "2013-06-21T00:00:00",
          "2013-06-20T00:00:00",
          "2013-06-19T00:00:00",
          "2013-06-18T00:00:00",
          "2013-06-17T00:00:00",
          "2013-06-14T00:00:00",
          "2013-06-13T00:00:00",
          "2013-06-12T00:00:00",
          "2013-06-11T00:00:00",
          "2013-06-10T00:00:00",
          "2013-06-07T00:00:00",
          "2013-06-06T00:00:00",
          "2013-06-05T00:00:00",
          "2013-06-04T00:00:00",
          "2013-06-03T00:00:00",
          "2013-05-31T00:00:00",
          "2013-05-30T00:00:00",
          "2013-05-29T00:00:00",
          "2013-05-28T00:00:00",
          "2013-05-27T00:00:00",
          "2013-05-24T00:00:00",
          "2013-05-23T00:00:00",
          "2013-05-22T00:00:00",
          "2013-05-21T00:00:00"
         ],
         "y": [
          6.93,
          6.95,
          6.79,
          6.76,
          6.85,
          6.54,
          6.35,
          6.57,
          6.52,
          6.68,
          6.42,
          6.29,
          6.4,
          6.54,
          6.84,
          7.39,
          7.84,
          7.63,
          7.87,
          8.42,
          8.31,
          8.6,
          8.38,
          7.96,
          7.76,
          7.86,
          8.09,
          8.1,
          8.91,
          9.8,
          10.35,
          10.59,
          9.86,
          10.84,
          11.11,
          11.7,
          11.94,
          11.55,
          11.3,
          11.31,
          11.17,
          10.8,
          11.16,
          11.66,
          11.27,
          11.91,
          11.8,
          12.15,
          12.8,
          12.64,
          12.03,
          12.33,
          12.6,
          12.2,
          12.2,
          12.42,
          12.56,
          12.75,
          13.16,
          12.96,
          12.88,
          12.47,
          12.4,
          12.56,
          12.42,
          11.89,
          11.65,
          11.16,
          11.17,
          12.28,
          11.45,
          11.74,
          11.23,
          11.49,
          11.28,
          12.09,
          12.68,
          12.75,
          13.37,
          13.25,
          13.31,
          13.94,
          13.35,
          13.37,
          13.18,
          12.45,
          13.65,
          13.5,
          13.53,
          13.4,
          12.6,
          12.3,
          11.89,
          11.4,
          11.9,
          12.27,
          12.63,
          11.88,
          13.06,
          13.11,
          13.12,
          11.81,
          11.5,
          11.5,
          11.47,
          11.77,
          11.65,
          11.6,
          11.8,
          11.54,
          11,
          11.31,
          11.06,
          11.11,
          11.12,
          11.25,
          11.86,
          11.91,
          11.53,
          11.7,
          12,
          11.83,
          11.58,
          10.93,
          10.81,
          11.29,
          10.9,
          10.11,
          10.09,
          9.99,
          9.65,
          9.4,
          8.98,
          9.21,
          9.23,
          8.96,
          8.94,
          8.65,
          8.79,
          8.13,
          7.55,
          7.7,
          7.82,
          8.07,
          8.25,
          8.49,
          8.18,
          8.22,
          8.37,
          8.53,
          8.4,
          8.53,
          8.54,
          8.44,
          8.44,
          8.44,
          8.4,
          8.54,
          8.45,
          8.64,
          8.63,
          8.97,
          9.15,
          9.4,
          9.17,
          9.18,
          9.27,
          9.33,
          9.36,
          9.53,
          9.56,
          9.7,
          9.8,
          9.88,
          10.06,
          9.64,
          9.58,
          9.99,
          9.99,
          9.69,
          9.82,
          10.33,
          10.34,
          10.54,
          10.4,
          9.95,
          9.8,
          10.09,
          10.66,
          10.24,
          10.49,
          10.25,
          10.68,
          10.59,
          10.42,
          10.14,
          9.76,
          9.96,
          9.65,
          9.27,
          9.29,
          9.27,
          9.05,
          8.87,
          9.41,
          8.85,
          8.69,
          8.91,
          9.17,
          8.89,
          8.62,
          8.28,
          8.14,
          8.73,
          9.01,
          9.25,
          9.41,
          9.27,
          9.03,
          9.13,
          9.15,
          9.23,
          9.2,
          9.37,
          9.49,
          9.61,
          9.56,
          10.02,
          10,
          9.63,
          9.39,
          9.38,
          9.4
         ]
        },
        {
         "line": {
          "color": "blue"
         },
         "mode": "lines",
         "name": "Tahmin edilen ODAS Tarihsel Fiyat Bilgileri",
         "type": "scatter",
         "x": [
          "2014-04-24T00:00:00",
          "2014-04-22T00:00:00",
          "2014-04-21T00:00:00",
          "2014-04-18T00:00:00",
          "2014-04-17T00:00:00",
          "2014-04-16T00:00:00",
          "2014-04-15T00:00:00",
          "2014-04-14T00:00:00",
          "2014-04-11T00:00:00",
          "2014-04-10T00:00:00",
          "2014-04-09T00:00:00",
          "2014-04-08T00:00:00",
          "2014-04-07T00:00:00",
          "2014-04-04T00:00:00",
          "2014-04-03T00:00:00",
          "2014-04-02T00:00:00",
          "2014-04-01T00:00:00",
          "2014-03-31T00:00:00",
          "2014-03-28T00:00:00",
          "2014-03-27T00:00:00",
          "2014-03-26T00:00:00",
          "2014-03-25T00:00:00",
          "2014-03-24T00:00:00",
          "2014-03-21T00:00:00",
          "2014-03-20T00:00:00",
          "2014-03-19T00:00:00",
          "2014-03-18T00:00:00",
          "2014-03-17T00:00:00",
          "2014-03-14T00:00:00",
          "2014-03-13T00:00:00",
          "2014-03-12T00:00:00",
          "2014-03-11T00:00:00",
          "2014-03-10T00:00:00",
          "2014-03-07T00:00:00",
          "2014-03-06T00:00:00",
          "2014-03-05T00:00:00",
          "2014-03-04T00:00:00",
          "2014-03-03T00:00:00",
          "2014-02-28T00:00:00",
          "2014-02-27T00:00:00",
          "2014-02-26T00:00:00",
          "2014-02-25T00:00:00",
          "2014-02-24T00:00:00",
          "2014-02-21T00:00:00",
          "2014-02-20T00:00:00",
          "2014-02-19T00:00:00",
          "2014-02-18T00:00:00",
          "2014-02-17T00:00:00",
          "2014-02-14T00:00:00",
          "2014-02-13T00:00:00",
          "2014-02-12T00:00:00",
          "2014-02-11T00:00:00",
          "2014-02-10T00:00:00",
          "2014-02-07T00:00:00",
          "2014-02-06T00:00:00",
          "2014-02-05T00:00:00",
          "2014-02-04T00:00:00",
          "2014-02-03T00:00:00",
          "2014-01-31T00:00:00",
          "2014-01-30T00:00:00",
          "2014-01-29T00:00:00",
          "2014-01-28T00:00:00",
          "2014-01-27T00:00:00",
          "2014-01-24T00:00:00",
          "2014-01-23T00:00:00",
          "2014-01-22T00:00:00",
          "2014-01-21T00:00:00",
          "2014-01-20T00:00:00",
          "2014-01-17T00:00:00",
          "2014-01-16T00:00:00",
          "2014-01-15T00:00:00",
          "2014-01-14T00:00:00",
          "2014-01-13T00:00:00",
          "2014-01-10T00:00:00",
          "2014-01-09T00:00:00",
          "2014-01-08T00:00:00",
          "2014-01-07T00:00:00",
          "2014-01-06T00:00:00",
          "2014-01-03T00:00:00",
          "2014-01-02T00:00:00",
          "2013-12-31T00:00:00",
          "2013-12-30T00:00:00",
          "2013-12-27T00:00:00",
          "2013-12-26T00:00:00",
          "2013-12-25T00:00:00",
          "2013-12-24T00:00:00",
          "2013-12-23T00:00:00",
          "2013-12-20T00:00:00",
          "2013-12-19T00:00:00",
          "2013-12-18T00:00:00",
          "2013-12-17T00:00:00",
          "2013-12-16T00:00:00",
          "2013-12-13T00:00:00",
          "2013-12-12T00:00:00",
          "2013-12-11T00:00:00",
          "2013-12-10T00:00:00",
          "2013-12-09T00:00:00",
          "2013-12-06T00:00:00",
          "2013-12-05T00:00:00",
          "2013-12-04T00:00:00",
          "2013-12-03T00:00:00",
          "2013-12-02T00:00:00",
          "2013-11-29T00:00:00",
          "2013-11-28T00:00:00",
          "2013-11-27T00:00:00",
          "2013-11-26T00:00:00",
          "2013-11-25T00:00:00",
          "2013-11-22T00:00:00",
          "2013-11-21T00:00:00",
          "2013-11-20T00:00:00",
          "2013-11-19T00:00:00",
          "2013-11-18T00:00:00",
          "2013-11-15T00:00:00",
          "2013-11-14T00:00:00",
          "2013-11-13T00:00:00",
          "2013-11-12T00:00:00",
          "2013-11-11T00:00:00",
          "2013-11-08T00:00:00",
          "2013-11-07T00:00:00",
          "2013-11-06T00:00:00",
          "2013-11-05T00:00:00",
          "2013-11-04T00:00:00",
          "2013-11-01T00:00:00",
          "2013-10-31T00:00:00",
          "2013-10-30T00:00:00",
          "2013-10-28T00:00:00",
          "2013-10-25T00:00:00",
          "2013-10-24T00:00:00",
          "2013-10-23T00:00:00",
          "2013-10-22T00:00:00",
          "2013-10-21T00:00:00",
          "2013-10-14T00:00:00",
          "2013-10-11T00:00:00",
          "2013-10-10T00:00:00",
          "2013-10-09T00:00:00",
          "2013-10-08T00:00:00",
          "2013-10-07T00:00:00",
          "2013-10-04T00:00:00",
          "2013-10-03T00:00:00",
          "2013-10-02T00:00:00",
          "2013-10-01T00:00:00",
          "2013-09-30T00:00:00",
          "2013-09-27T00:00:00",
          "2013-09-26T00:00:00",
          "2013-09-25T00:00:00",
          "2013-09-24T00:00:00",
          "2013-09-23T00:00:00",
          "2013-09-20T00:00:00",
          "2013-09-19T00:00:00",
          "2013-09-18T00:00:00",
          "2013-09-17T00:00:00",
          "2013-09-16T00:00:00",
          "2013-09-13T00:00:00",
          "2013-09-12T00:00:00",
          "2013-09-11T00:00:00",
          "2013-09-10T00:00:00",
          "2013-09-09T00:00:00",
          "2013-09-06T00:00:00",
          "2013-09-05T00:00:00",
          "2013-09-04T00:00:00",
          "2013-09-03T00:00:00",
          "2013-09-02T00:00:00",
          "2013-08-29T00:00:00",
          "2013-08-28T00:00:00",
          "2013-08-27T00:00:00",
          "2013-08-26T00:00:00",
          "2013-08-23T00:00:00",
          "2013-08-22T00:00:00",
          "2013-08-21T00:00:00",
          "2013-08-20T00:00:00",
          "2013-08-19T00:00:00",
          "2013-08-16T00:00:00",
          "2013-08-15T00:00:00",
          "2013-08-14T00:00:00",
          "2013-08-13T00:00:00",
          "2013-08-12T00:00:00",
          "2013-08-07T00:00:00",
          "2013-08-06T00:00:00",
          "2013-08-05T00:00:00",
          "2013-08-02T00:00:00",
          "2013-08-01T00:00:00",
          "2013-07-31T00:00:00",
          "2013-07-30T00:00:00",
          "2013-07-29T00:00:00",
          "2013-07-26T00:00:00",
          "2013-07-25T00:00:00",
          "2013-07-24T00:00:00",
          "2013-07-23T00:00:00",
          "2013-07-22T00:00:00",
          "2013-07-19T00:00:00",
          "2013-07-18T00:00:00",
          "2013-07-17T00:00:00",
          "2013-07-16T00:00:00",
          "2013-07-15T00:00:00",
          "2013-07-12T00:00:00",
          "2013-07-11T00:00:00",
          "2013-07-10T00:00:00",
          "2013-07-09T00:00:00",
          "2013-07-08T00:00:00",
          "2013-07-05T00:00:00",
          "2013-07-04T00:00:00",
          "2013-07-03T00:00:00",
          "2013-07-02T00:00:00",
          "2013-07-01T00:00:00",
          "2013-06-28T00:00:00",
          "2013-06-27T00:00:00",
          "2013-06-26T00:00:00",
          "2013-06-25T00:00:00",
          "2013-06-24T00:00:00",
          "2013-06-21T00:00:00",
          "2013-06-20T00:00:00",
          "2013-06-19T00:00:00",
          "2013-06-18T00:00:00",
          "2013-06-17T00:00:00",
          "2013-06-14T00:00:00",
          "2013-06-13T00:00:00",
          "2013-06-12T00:00:00",
          "2013-06-11T00:00:00",
          "2013-06-10T00:00:00",
          "2013-06-07T00:00:00",
          "2013-06-06T00:00:00",
          "2013-06-05T00:00:00",
          "2013-06-04T00:00:00",
          "2013-06-03T00:00:00",
          "2013-05-31T00:00:00",
          "2013-05-30T00:00:00",
          "2013-05-29T00:00:00",
          "2013-05-28T00:00:00",
          "2013-05-27T00:00:00",
          "2013-05-24T00:00:00",
          "2013-05-23T00:00:00",
          "2013-05-22T00:00:00",
          "2013-05-21T00:00:00"
         ],
         "y": [
          7.163870230185136,
          6.924953488952179,
          6.76847685779312,
          6.840056414483119,
          6.745498561251882,
          6.639391507568883,
          6.491145994414875,
          6.448177872095583,
          6.598003092519182,
          6.402426513647125,
          6.768974865461555,
          6.425455426818516,
          6.319563708568808,
          6.449844791779153,
          6.517061948004125,
          7.029765911717414,
          7.542860799922449,
          7.875966093493943,
          7.675315077237311,
          7.968849416254322,
          8.470043209716724,
          8.315348035092748,
          8.754514531934323,
          8.450739120733717,
          7.9973791404603585,
          7.744090031194919,
          7.780428338503912,
          8.107244390165066,
          8.059364875444409,
          8.918122375311599,
          9.681049092400363,
          10.199043151190882,
          10.720297338209415,
          9.95709322703703,
          11.03472628741066,
          11.276671346954066,
          11.89012670579079,
          12.129816123441968,
          11.527111972617497,
          11.425598446698519,
          11.1706982066679,
          11.024609253040204,
          10.941113769002122,
          11.11325108407199,
          11.665285465901691,
          11.200712021971116,
          12.029593509494678,
          11.918897607990177,
          12.409457817668553,
          13.06055372505653,
          12.617921374134752,
          12.169987134071455,
          12.211685654887885,
          12.587161505024115,
          12.383292624889602,
          12.277518339703478,
          12.483894705072844,
          12.480111357232865,
          12.760651192758932,
          13.137773351173283,
          12.952704473452263,
          12.894528932539048,
          12.559036409750416,
          12.503831751711909,
          12.609685291004917,
          12.627089771886892,
          11.735764345374674,
          11.514694871952335,
          11.027566351021951,
          11.087909228065643,
          11.935151628930363,
          11.315677490830778,
          12.036817958764168,
          11.036176669042844,
          11.385426424269161,
          11.442352013521795,
          12.168686119655723,
          12.89095896823352,
          12.849879171641104,
          13.227636226871892,
          13.120026782642984,
          13.30950814421397,
          14.059556986053622,
          13.222771878312033,
          13.51435031010316,
          13.085908156504088,
          12.226850006416734,
          13.789353346532458,
          13.250866705599517,
          13.68398565098468,
          13.263494448688819,
          12.284871869366755,
          12.308040185494912,
          11.671609661714234,
          11.445790163653676,
          12.093248834946221,
          12.208571391117358,
          12.654795509361557,
          11.885900169393818,
          12.978101098100673,
          13.09895267155081,
          13.194997667103008,
          11.78316191568525,
          11.538935075124405,
          11.55927129817327,
          11.583963905568549,
          11.803716212387625,
          11.833383479148583,
          11.44868108211522,
          11.69505357711963,
          10.858029212134737,
          10.962752786691782,
          11.432774074757539,
          10.822780579461943,
          11.248698946638678,
          11.188110235409065,
          11.355410628418905,
          11.842861665890325,
          11.716326939009738,
          11.424014478944871,
          11.658577537468732,
          11.506740348696622,
          11.792430092482038,
          11.667710440779238,
          10.981991847367711,
          11.148579144444978,
          11.094579783200572,
          10.77785524306466,
          10.228406747298838,
          9.830214851528948,
          9.650799774576724,
          9.45979407753689,
          9.350757176290665,
          8.907414815136619,
          9.472627671093974,
          9.007567975964772,
          8.95694007146583,
          8.983924458588453,
          8.561828944327608,
          8.739955963654964,
          7.917065045461545,
          7.5075491444545595,
          7.814442720265085,
          7.583413325208468,
          8.028860642432507,
          8.382982898979318,
          8.33155167271767,
          8.096144261277233,
          8.025449583206694,
          8.34873870532191,
          8.595167786551851,
          8.345510060577153,
          8.419749286889926,
          8.469375678788198,
          8.468657040072607,
          8.344034825838824,
          8.266542883522545,
          8.175493092065873,
          8.597542406657077,
          8.238150339014483,
          8.385718379033072,
          8.73547603125679,
          9.069681439190243,
          9.226630395903179,
          9.497376216964744,
          9.202531882420137,
          9.098282796071354,
          9.27420797409036,
          9.320295667565244,
          9.34868592463045,
          9.599129301620374,
          9.54989148960919,
          9.808115182034769,
          9.744286210749069,
          9.950288783299545,
          10.072830054636238,
          9.5904994939593,
          9.712651068933088,
          9.966341698993915,
          9.995565736299566,
          9.795350724522182,
          9.887579885248364,
          10.285658086718731,
          10.354345857323214,
          10.476308721069195,
          10.34092745148846,
          9.980253977313078,
          9.882177994271895,
          10.06992433839409,
          10.6752854539273,
          10.373522323371056,
          10.60017666952576,
          10.125370464824664,
          10.584298209135445,
          10.636544291643734,
          10.38464709409883,
          10.103010840327538,
          9.85302971426078,
          9.908473330650487,
          9.59417414287223,
          9.196693228155873,
          9.491724429640538,
          9.129632186484038,
          8.898780698274699,
          8.717370703143205,
          9.288608284364278,
          8.878967415163563,
          8.688642561240448,
          8.977445702097155,
          9.095508836218373,
          9.058110994165132,
          8.56752508424597,
          8.169592591160734,
          8.211790242118946,
          8.512451064376629,
          8.873869877035155,
          9.19577194968325,
          9.599155757662212,
          9.094380759101073,
          8.851357941469589,
          9.218934070926307,
          9.225757139202697,
          9.297041921951084,
          9.02071351473287,
          9.410154506816655,
          9.279374613822828,
          9.583380258463144,
          9.529715044772905,
          9.963567220071136,
          9.94968057813523,
          9.561102454030902,
          9.321085429109422,
          9.327224344148984
         ]
        }
       ],
       "layout": {
        "legend": {
         "x": 0,
         "y": 1
        },
        "template": {
         "data": {
          "bar": [
           {
            "error_x": {
             "color": "#2a3f5f"
            },
            "error_y": {
             "color": "#2a3f5f"
            },
            "marker": {
             "line": {
              "color": "#E5ECF6",
              "width": 0.5
             },
             "pattern": {
              "fillmode": "overlay",
              "size": 10,
              "solidity": 0.2
             }
            },
            "type": "bar"
           }
          ],
          "barpolar": [
           {
            "marker": {
             "line": {
              "color": "#E5ECF6",
              "width": 0.5
             },
             "pattern": {
              "fillmode": "overlay",
              "size": 10,
              "solidity": 0.2
             }
            },
            "type": "barpolar"
           }
          ],
          "carpet": [
           {
            "aaxis": {
             "endlinecolor": "#2a3f5f",
             "gridcolor": "white",
             "linecolor": "white",
             "minorgridcolor": "white",
             "startlinecolor": "#2a3f5f"
            },
            "baxis": {
             "endlinecolor": "#2a3f5f",
             "gridcolor": "white",
             "linecolor": "white",
             "minorgridcolor": "white",
             "startlinecolor": "#2a3f5f"
            },
            "type": "carpet"
           }
          ],
          "choropleth": [
           {
            "colorbar": {
             "outlinewidth": 0,
             "ticks": ""
            },
            "type": "choropleth"
           }
          ],
          "contour": [
           {
            "colorbar": {
             "outlinewidth": 0,
             "ticks": ""
            },
            "colorscale": [
             [
              0,
              "#0d0887"
             ],
             [
              0.1111111111111111,
              "#46039f"
             ],
             [
              0.2222222222222222,
              "#7201a8"
             ],
             [
              0.3333333333333333,
              "#9c179e"
             ],
             [
              0.4444444444444444,
              "#bd3786"
             ],
             [
              0.5555555555555556,
              "#d8576b"
             ],
             [
              0.6666666666666666,
              "#ed7953"
             ],
             [
              0.7777777777777778,
              "#fb9f3a"
             ],
             [
              0.8888888888888888,
              "#fdca26"
             ],
             [
              1,
              "#f0f921"
             ]
            ],
            "type": "contour"
           }
          ],
          "contourcarpet": [
           {
            "colorbar": {
             "outlinewidth": 0,
             "ticks": ""
            },
            "type": "contourcarpet"
           }
          ],
          "heatmap": [
           {
            "colorbar": {
             "outlinewidth": 0,
             "ticks": ""
            },
            "colorscale": [
             [
              0,
              "#0d0887"
             ],
             [
              0.1111111111111111,
              "#46039f"
             ],
             [
              0.2222222222222222,
              "#7201a8"
             ],
             [
              0.3333333333333333,
              "#9c179e"
             ],
             [
              0.4444444444444444,
              "#bd3786"
             ],
             [
              0.5555555555555556,
              "#d8576b"
             ],
             [
              0.6666666666666666,
              "#ed7953"
             ],
             [
              0.7777777777777778,
              "#fb9f3a"
             ],
             [
              0.8888888888888888,
              "#fdca26"
             ],
             [
              1,
              "#f0f921"
             ]
            ],
            "type": "heatmap"
           }
          ],
          "heatmapgl": [
           {
            "colorbar": {
             "outlinewidth": 0,
             "ticks": ""
            },
            "colorscale": [
             [
              0,
              "#0d0887"
             ],
             [
              0.1111111111111111,
              "#46039f"
             ],
             [
              0.2222222222222222,
              "#7201a8"
             ],
             [
              0.3333333333333333,
              "#9c179e"
             ],
             [
              0.4444444444444444,
              "#bd3786"
             ],
             [
              0.5555555555555556,
              "#d8576b"
             ],
             [
              0.6666666666666666,
              "#ed7953"
             ],
             [
              0.7777777777777778,
              "#fb9f3a"
             ],
             [
              0.8888888888888888,
              "#fdca26"
             ],
             [
              1,
              "#f0f921"
             ]
            ],
            "type": "heatmapgl"
           }
          ],
          "histogram": [
           {
            "marker": {
             "pattern": {
              "fillmode": "overlay",
              "size": 10,
              "solidity": 0.2
             }
            },
            "type": "histogram"
           }
          ],
          "histogram2d": [
           {
            "colorbar": {
             "outlinewidth": 0,
             "ticks": ""
            },
            "colorscale": [
             [
              0,
              "#0d0887"
             ],
             [
              0.1111111111111111,
              "#46039f"
             ],
             [
              0.2222222222222222,
              "#7201a8"
             ],
             [
              0.3333333333333333,
              "#9c179e"
             ],
             [
              0.4444444444444444,
              "#bd3786"
             ],
             [
              0.5555555555555556,
              "#d8576b"
             ],
             [
              0.6666666666666666,
              "#ed7953"
             ],
             [
              0.7777777777777778,
              "#fb9f3a"
             ],
             [
              0.8888888888888888,
              "#fdca26"
             ],
             [
              1,
              "#f0f921"
             ]
            ],
            "type": "histogram2d"
           }
          ],
          "histogram2dcontour": [
           {
            "colorbar": {
             "outlinewidth": 0,
             "ticks": ""
            },
            "colorscale": [
             [
              0,
              "#0d0887"
             ],
             [
              0.1111111111111111,
              "#46039f"
             ],
             [
              0.2222222222222222,
              "#7201a8"
             ],
             [
              0.3333333333333333,
              "#9c179e"
             ],
             [
              0.4444444444444444,
              "#bd3786"
             ],
             [
              0.5555555555555556,
              "#d8576b"
             ],
             [
              0.6666666666666666,
              "#ed7953"
             ],
             [
              0.7777777777777778,
              "#fb9f3a"
             ],
             [
              0.8888888888888888,
              "#fdca26"
             ],
             [
              1,
              "#f0f921"
             ]
            ],
            "type": "histogram2dcontour"
           }
          ],
          "mesh3d": [
           {
            "colorbar": {
             "outlinewidth": 0,
             "ticks": ""
            },
            "type": "mesh3d"
           }
          ],
          "parcoords": [
           {
            "line": {
             "colorbar": {
              "outlinewidth": 0,
              "ticks": ""
             }
            },
            "type": "parcoords"
           }
          ],
          "pie": [
           {
            "automargin": true,
            "type": "pie"
           }
          ],
          "scatter": [
           {
            "fillpattern": {
             "fillmode": "overlay",
             "size": 10,
             "solidity": 0.2
            },
            "type": "scatter"
           }
          ],
          "scatter3d": [
           {
            "line": {
             "colorbar": {
              "outlinewidth": 0,
              "ticks": ""
             }
            },
            "marker": {
             "colorbar": {
              "outlinewidth": 0,
              "ticks": ""
             }
            },
            "type": "scatter3d"
           }
          ],
          "scattercarpet": [
           {
            "marker": {
             "colorbar": {
              "outlinewidth": 0,
              "ticks": ""
             }
            },
            "type": "scattercarpet"
           }
          ],
          "scattergeo": [
           {
            "marker": {
             "colorbar": {
              "outlinewidth": 0,
              "ticks": ""
             }
            },
            "type": "scattergeo"
           }
          ],
          "scattergl": [
           {
            "marker": {
             "colorbar": {
              "outlinewidth": 0,
              "ticks": ""
             }
            },
            "type": "scattergl"
           }
          ],
          "scattermapbox": [
           {
            "marker": {
             "colorbar": {
              "outlinewidth": 0,
              "ticks": ""
             }
            },
            "type": "scattermapbox"
           }
          ],
          "scatterpolar": [
           {
            "marker": {
             "colorbar": {
              "outlinewidth": 0,
              "ticks": ""
             }
            },
            "type": "scatterpolar"
           }
          ],
          "scatterpolargl": [
           {
            "marker": {
             "colorbar": {
              "outlinewidth": 0,
              "ticks": ""
             }
            },
            "type": "scatterpolargl"
           }
          ],
          "scatterternary": [
           {
            "marker": {
             "colorbar": {
              "outlinewidth": 0,
              "ticks": ""
             }
            },
            "type": "scatterternary"
           }
          ],
          "surface": [
           {
            "colorbar": {
             "outlinewidth": 0,
             "ticks": ""
            },
            "colorscale": [
             [
              0,
              "#0d0887"
             ],
             [
              0.1111111111111111,
              "#46039f"
             ],
             [
              0.2222222222222222,
              "#7201a8"
             ],
             [
              0.3333333333333333,
              "#9c179e"
             ],
             [
              0.4444444444444444,
              "#bd3786"
             ],
             [
              0.5555555555555556,
              "#d8576b"
             ],
             [
              0.6666666666666666,
              "#ed7953"
             ],
             [
              0.7777777777777778,
              "#fb9f3a"
             ],
             [
              0.8888888888888888,
              "#fdca26"
             ],
             [
              1,
              "#f0f921"
             ]
            ],
            "type": "surface"
           }
          ],
          "table": [
           {
            "cells": {
             "fill": {
              "color": "#EBF0F8"
             },
             "line": {
              "color": "white"
             }
            },
            "header": {
             "fill": {
              "color": "#C8D4E3"
             },
             "line": {
              "color": "white"
             }
            },
            "type": "table"
           }
          ]
         },
         "layout": {
          "annotationdefaults": {
           "arrowcolor": "#2a3f5f",
           "arrowhead": 0,
           "arrowwidth": 1
          },
          "autotypenumbers": "strict",
          "coloraxis": {
           "colorbar": {
            "outlinewidth": 0,
            "ticks": ""
           }
          },
          "colorscale": {
           "diverging": [
            [
             0,
             "#8e0152"
            ],
            [
             0.1,
             "#c51b7d"
            ],
            [
             0.2,
             "#de77ae"
            ],
            [
             0.3,
             "#f1b6da"
            ],
            [
             0.4,
             "#fde0ef"
            ],
            [
             0.5,
             "#f7f7f7"
            ],
            [
             0.6,
             "#e6f5d0"
            ],
            [
             0.7,
             "#b8e186"
            ],
            [
             0.8,
             "#7fbc41"
            ],
            [
             0.9,
             "#4d9221"
            ],
            [
             1,
             "#276419"
            ]
           ],
           "sequential": [
            [
             0,
             "#0d0887"
            ],
            [
             0.1111111111111111,
             "#46039f"
            ],
            [
             0.2222222222222222,
             "#7201a8"
            ],
            [
             0.3333333333333333,
             "#9c179e"
            ],
            [
             0.4444444444444444,
             "#bd3786"
            ],
            [
             0.5555555555555556,
             "#d8576b"
            ],
            [
             0.6666666666666666,
             "#ed7953"
            ],
            [
             0.7777777777777778,
             "#fb9f3a"
            ],
            [
             0.8888888888888888,
             "#fdca26"
            ],
            [
             1,
             "#f0f921"
            ]
           ],
           "sequentialminus": [
            [
             0,
             "#0d0887"
            ],
            [
             0.1111111111111111,
             "#46039f"
            ],
            [
             0.2222222222222222,
             "#7201a8"
            ],
            [
             0.3333333333333333,
             "#9c179e"
            ],
            [
             0.4444444444444444,
             "#bd3786"
            ],
            [
             0.5555555555555556,
             "#d8576b"
            ],
            [
             0.6666666666666666,
             "#ed7953"
            ],
            [
             0.7777777777777778,
             "#fb9f3a"
            ],
            [
             0.8888888888888888,
             "#fdca26"
            ],
            [
             1,
             "#f0f921"
            ]
           ]
          },
          "colorway": [
           "#636efa",
           "#EF553B",
           "#00cc96",
           "#ab63fa",
           "#FFA15A",
           "#19d3f3",
           "#FF6692",
           "#B6E880",
           "#FF97FF",
           "#FECB52"
          ],
          "font": {
           "color": "#2a3f5f"
          },
          "geo": {
           "bgcolor": "white",
           "lakecolor": "white",
           "landcolor": "#E5ECF6",
           "showlakes": true,
           "showland": true,
           "subunitcolor": "white"
          },
          "hoverlabel": {
           "align": "left"
          },
          "hovermode": "closest",
          "mapbox": {
           "style": "light"
          },
          "paper_bgcolor": "white",
          "plot_bgcolor": "#E5ECF6",
          "polar": {
           "angularaxis": {
            "gridcolor": "white",
            "linecolor": "white",
            "ticks": ""
           },
           "bgcolor": "#E5ECF6",
           "radialaxis": {
            "gridcolor": "white",
            "linecolor": "white",
            "ticks": ""
           }
          },
          "scene": {
           "xaxis": {
            "backgroundcolor": "#E5ECF6",
            "gridcolor": "white",
            "gridwidth": 2,
            "linecolor": "white",
            "showbackground": true,
            "ticks": "",
            "zerolinecolor": "white"
           },
           "yaxis": {
            "backgroundcolor": "#E5ECF6",
            "gridcolor": "white",
            "gridwidth": 2,
            "linecolor": "white",
            "showbackground": true,
            "ticks": "",
            "zerolinecolor": "white"
           },
           "zaxis": {
            "backgroundcolor": "#E5ECF6",
            "gridcolor": "white",
            "gridwidth": 2,
            "linecolor": "white",
            "showbackground": true,
            "ticks": "",
            "zerolinecolor": "white"
           }
          },
          "shapedefaults": {
           "line": {
            "color": "#2a3f5f"
           }
          },
          "ternary": {
           "aaxis": {
            "gridcolor": "white",
            "linecolor": "white",
            "ticks": ""
           },
           "baxis": {
            "gridcolor": "white",
            "linecolor": "white",
            "ticks": ""
           },
           "bgcolor": "#E5ECF6",
           "caxis": {
            "gridcolor": "white",
            "linecolor": "white",
            "ticks": ""
           }
          },
          "title": {
           "x": 0.05
          },
          "xaxis": {
           "automargin": true,
           "gridcolor": "white",
           "linecolor": "white",
           "ticks": "",
           "title": {
            "standoff": 15
           },
           "zerolinecolor": "white",
           "zerolinewidth": 2
          },
          "yaxis": {
           "automargin": true,
           "gridcolor": "white",
           "linecolor": "white",
           "ticks": "",
           "title": {
            "standoff": 15
           },
           "zerolinecolor": "white",
           "zerolinewidth": 2
          }
         }
        },
        "title": {
         "text": "ODAS Tarihsel Fiyat Bilgileri"
        },
        "xaxis": {
         "title": {
          "text": "Tarih"
         }
        },
        "yaxis": {
         "title": {
          "text": "Fiyat Bilgileri"
         }
        }
       }
      },
      "text/html": [
       "<div>                            <div id=\"120772f4-d098-48e2-8ccd-5f3c37bca76a\" class=\"plotly-graph-div\" style=\"height:525px; width:100%;\"></div>            <script type=\"text/javascript\">                require([\"plotly\"], function(Plotly) {                    window.PLOTLYENV=window.PLOTLYENV || {};                                    if (document.getElementById(\"120772f4-d098-48e2-8ccd-5f3c37bca76a\")) {                    Plotly.newPlot(                        \"120772f4-d098-48e2-8ccd-5f3c37bca76a\",                        [{\"line\":{\"color\":\"red\"},\"mode\":\"lines\",\"name\":\"Ger\\u00e7ek ODAS Tarihsel Fiyat Bilgileri\",\"x\":[\"2014-04-24T00:00:00\",\"2014-04-22T00:00:00\",\"2014-04-21T00:00:00\",\"2014-04-18T00:00:00\",\"2014-04-17T00:00:00\",\"2014-04-16T00:00:00\",\"2014-04-15T00:00:00\",\"2014-04-14T00:00:00\",\"2014-04-11T00:00:00\",\"2014-04-10T00:00:00\",\"2014-04-09T00:00:00\",\"2014-04-08T00:00:00\",\"2014-04-07T00:00:00\",\"2014-04-04T00:00:00\",\"2014-04-03T00:00:00\",\"2014-04-02T00:00:00\",\"2014-04-01T00:00:00\",\"2014-03-31T00:00:00\",\"2014-03-28T00:00:00\",\"2014-03-27T00:00:00\",\"2014-03-26T00:00:00\",\"2014-03-25T00:00:00\",\"2014-03-24T00:00:00\",\"2014-03-21T00:00:00\",\"2014-03-20T00:00:00\",\"2014-03-19T00:00:00\",\"2014-03-18T00:00:00\",\"2014-03-17T00:00:00\",\"2014-03-14T00:00:00\",\"2014-03-13T00:00:00\",\"2014-03-12T00:00:00\",\"2014-03-11T00:00:00\",\"2014-03-10T00:00:00\",\"2014-03-07T00:00:00\",\"2014-03-06T00:00:00\",\"2014-03-05T00:00:00\",\"2014-03-04T00:00:00\",\"2014-03-03T00:00:00\",\"2014-02-28T00:00:00\",\"2014-02-27T00:00:00\",\"2014-02-26T00:00:00\",\"2014-02-25T00:00:00\",\"2014-02-24T00:00:00\",\"2014-02-21T00:00:00\",\"2014-02-20T00:00:00\",\"2014-02-19T00:00:00\",\"2014-02-18T00:00:00\",\"2014-02-17T00:00:00\",\"2014-02-14T00:00:00\",\"2014-02-13T00:00:00\",\"2014-02-12T00:00:00\",\"2014-02-11T00:00:00\",\"2014-02-10T00:00:00\",\"2014-02-07T00:00:00\",\"2014-02-06T00:00:00\",\"2014-02-05T00:00:00\",\"2014-02-04T00:00:00\",\"2014-02-03T00:00:00\",\"2014-01-31T00:00:00\",\"2014-01-30T00:00:00\",\"2014-01-29T00:00:00\",\"2014-01-28T00:00:00\",\"2014-01-27T00:00:00\",\"2014-01-24T00:00:00\",\"2014-01-23T00:00:00\",\"2014-01-22T00:00:00\",\"2014-01-21T00:00:00\",\"2014-01-20T00:00:00\",\"2014-01-17T00:00:00\",\"2014-01-16T00:00:00\",\"2014-01-15T00:00:00\",\"2014-01-14T00:00:00\",\"2014-01-13T00:00:00\",\"2014-01-10T00:00:00\",\"2014-01-09T00:00:00\",\"2014-01-08T00:00:00\",\"2014-01-07T00:00:00\",\"2014-01-06T00:00:00\",\"2014-01-03T00:00:00\",\"2014-01-02T00:00:00\",\"2013-12-31T00:00:00\",\"2013-12-30T00:00:00\",\"2013-12-27T00:00:00\",\"2013-12-26T00:00:00\",\"2013-12-25T00:00:00\",\"2013-12-24T00:00:00\",\"2013-12-23T00:00:00\",\"2013-12-20T00:00:00\",\"2013-12-19T00:00:00\",\"2013-12-18T00:00:00\",\"2013-12-17T00:00:00\",\"2013-12-16T00:00:00\",\"2013-12-13T00:00:00\",\"2013-12-12T00:00:00\",\"2013-12-11T00:00:00\",\"2013-12-10T00:00:00\",\"2013-12-09T00:00:00\",\"2013-12-06T00:00:00\",\"2013-12-05T00:00:00\",\"2013-12-04T00:00:00\",\"2013-12-03T00:00:00\",\"2013-12-02T00:00:00\",\"2013-11-29T00:00:00\",\"2013-11-28T00:00:00\",\"2013-11-27T00:00:00\",\"2013-11-26T00:00:00\",\"2013-11-25T00:00:00\",\"2013-11-22T00:00:00\",\"2013-11-21T00:00:00\",\"2013-11-20T00:00:00\",\"2013-11-19T00:00:00\",\"2013-11-18T00:00:00\",\"2013-11-15T00:00:00\",\"2013-11-14T00:00:00\",\"2013-11-13T00:00:00\",\"2013-11-12T00:00:00\",\"2013-11-11T00:00:00\",\"2013-11-08T00:00:00\",\"2013-11-07T00:00:00\",\"2013-11-06T00:00:00\",\"2013-11-05T00:00:00\",\"2013-11-04T00:00:00\",\"2013-11-01T00:00:00\",\"2013-10-31T00:00:00\",\"2013-10-30T00:00:00\",\"2013-10-28T00:00:00\",\"2013-10-25T00:00:00\",\"2013-10-24T00:00:00\",\"2013-10-23T00:00:00\",\"2013-10-22T00:00:00\",\"2013-10-21T00:00:00\",\"2013-10-14T00:00:00\",\"2013-10-11T00:00:00\",\"2013-10-10T00:00:00\",\"2013-10-09T00:00:00\",\"2013-10-08T00:00:00\",\"2013-10-07T00:00:00\",\"2013-10-04T00:00:00\",\"2013-10-03T00:00:00\",\"2013-10-02T00:00:00\",\"2013-10-01T00:00:00\",\"2013-09-30T00:00:00\",\"2013-09-27T00:00:00\",\"2013-09-26T00:00:00\",\"2013-09-25T00:00:00\",\"2013-09-24T00:00:00\",\"2013-09-23T00:00:00\",\"2013-09-20T00:00:00\",\"2013-09-19T00:00:00\",\"2013-09-18T00:00:00\",\"2013-09-17T00:00:00\",\"2013-09-16T00:00:00\",\"2013-09-13T00:00:00\",\"2013-09-12T00:00:00\",\"2013-09-11T00:00:00\",\"2013-09-10T00:00:00\",\"2013-09-09T00:00:00\",\"2013-09-06T00:00:00\",\"2013-09-05T00:00:00\",\"2013-09-04T00:00:00\",\"2013-09-03T00:00:00\",\"2013-09-02T00:00:00\",\"2013-08-29T00:00:00\",\"2013-08-28T00:00:00\",\"2013-08-27T00:00:00\",\"2013-08-26T00:00:00\",\"2013-08-23T00:00:00\",\"2013-08-22T00:00:00\",\"2013-08-21T00:00:00\",\"2013-08-20T00:00:00\",\"2013-08-19T00:00:00\",\"2013-08-16T00:00:00\",\"2013-08-15T00:00:00\",\"2013-08-14T00:00:00\",\"2013-08-13T00:00:00\",\"2013-08-12T00:00:00\",\"2013-08-07T00:00:00\",\"2013-08-06T00:00:00\",\"2013-08-05T00:00:00\",\"2013-08-02T00:00:00\",\"2013-08-01T00:00:00\",\"2013-07-31T00:00:00\",\"2013-07-30T00:00:00\",\"2013-07-29T00:00:00\",\"2013-07-26T00:00:00\",\"2013-07-25T00:00:00\",\"2013-07-24T00:00:00\",\"2013-07-23T00:00:00\",\"2013-07-22T00:00:00\",\"2013-07-19T00:00:00\",\"2013-07-18T00:00:00\",\"2013-07-17T00:00:00\",\"2013-07-16T00:00:00\",\"2013-07-15T00:00:00\",\"2013-07-12T00:00:00\",\"2013-07-11T00:00:00\",\"2013-07-10T00:00:00\",\"2013-07-09T00:00:00\",\"2013-07-08T00:00:00\",\"2013-07-05T00:00:00\",\"2013-07-04T00:00:00\",\"2013-07-03T00:00:00\",\"2013-07-02T00:00:00\",\"2013-07-01T00:00:00\",\"2013-06-28T00:00:00\",\"2013-06-27T00:00:00\",\"2013-06-26T00:00:00\",\"2013-06-25T00:00:00\",\"2013-06-24T00:00:00\",\"2013-06-21T00:00:00\",\"2013-06-20T00:00:00\",\"2013-06-19T00:00:00\",\"2013-06-18T00:00:00\",\"2013-06-17T00:00:00\",\"2013-06-14T00:00:00\",\"2013-06-13T00:00:00\",\"2013-06-12T00:00:00\",\"2013-06-11T00:00:00\",\"2013-06-10T00:00:00\",\"2013-06-07T00:00:00\",\"2013-06-06T00:00:00\",\"2013-06-05T00:00:00\",\"2013-06-04T00:00:00\",\"2013-06-03T00:00:00\",\"2013-05-31T00:00:00\",\"2013-05-30T00:00:00\",\"2013-05-29T00:00:00\",\"2013-05-28T00:00:00\",\"2013-05-27T00:00:00\",\"2013-05-24T00:00:00\",\"2013-05-23T00:00:00\",\"2013-05-22T00:00:00\",\"2013-05-21T00:00:00\"],\"y\":[6.93,6.95,6.79,6.76,6.85,6.54,6.35,6.57,6.52,6.68,6.42,6.29,6.4,6.54,6.84,7.39,7.84,7.63,7.87,8.42,8.31,8.6,8.38,7.96,7.76,7.86,8.09,8.1,8.91,9.8,10.35,10.59,9.86,10.84,11.11,11.7,11.94,11.55,11.3,11.31,11.17,10.8,11.16,11.66,11.27,11.91,11.8,12.15,12.8,12.64,12.03,12.33,12.6,12.2,12.2,12.42,12.56,12.75,13.16,12.96,12.88,12.47,12.4,12.56,12.42,11.89,11.65,11.16,11.17,12.28,11.45,11.74,11.23,11.49,11.28,12.09,12.68,12.75,13.37,13.25,13.31,13.94,13.35,13.37,13.18,12.45,13.65,13.5,13.53,13.4,12.6,12.3,11.89,11.4,11.9,12.27,12.63,11.88,13.06,13.11,13.12,11.81,11.5,11.5,11.47,11.77,11.65,11.6,11.8,11.54,11.0,11.31,11.06,11.11,11.12,11.25,11.86,11.91,11.53,11.7,12.0,11.83,11.58,10.93,10.81,11.29,10.9,10.11,10.09,9.99,9.65,9.4,8.98,9.21,9.23,8.96,8.94,8.65,8.79,8.13,7.55,7.7,7.82,8.07,8.25,8.49,8.18,8.22,8.37,8.53,8.4,8.53,8.54,8.44,8.44,8.44,8.4,8.54,8.45,8.64,8.63,8.97,9.15,9.4,9.17,9.18,9.27,9.33,9.36,9.53,9.56,9.7,9.8,9.88,10.06,9.64,9.58,9.99,9.99,9.69,9.82,10.33,10.34,10.54,10.4,9.95,9.8,10.09,10.66,10.24,10.49,10.25,10.68,10.59,10.42,10.14,9.76,9.96,9.65,9.27,9.29,9.27,9.05,8.87,9.41,8.85,8.69,8.91,9.17,8.89,8.62,8.28,8.14,8.73,9.01,9.25,9.41,9.27,9.03,9.13,9.15,9.23,9.2,9.37,9.49,9.61,9.56,10.02,10.0,9.63,9.39,9.38,9.4],\"type\":\"scatter\"},{\"line\":{\"color\":\"blue\"},\"mode\":\"lines\",\"name\":\"Tahmin edilen ODAS Tarihsel Fiyat Bilgileri\",\"x\":[\"2014-04-24T00:00:00\",\"2014-04-22T00:00:00\",\"2014-04-21T00:00:00\",\"2014-04-18T00:00:00\",\"2014-04-17T00:00:00\",\"2014-04-16T00:00:00\",\"2014-04-15T00:00:00\",\"2014-04-14T00:00:00\",\"2014-04-11T00:00:00\",\"2014-04-10T00:00:00\",\"2014-04-09T00:00:00\",\"2014-04-08T00:00:00\",\"2014-04-07T00:00:00\",\"2014-04-04T00:00:00\",\"2014-04-03T00:00:00\",\"2014-04-02T00:00:00\",\"2014-04-01T00:00:00\",\"2014-03-31T00:00:00\",\"2014-03-28T00:00:00\",\"2014-03-27T00:00:00\",\"2014-03-26T00:00:00\",\"2014-03-25T00:00:00\",\"2014-03-24T00:00:00\",\"2014-03-21T00:00:00\",\"2014-03-20T00:00:00\",\"2014-03-19T00:00:00\",\"2014-03-18T00:00:00\",\"2014-03-17T00:00:00\",\"2014-03-14T00:00:00\",\"2014-03-13T00:00:00\",\"2014-03-12T00:00:00\",\"2014-03-11T00:00:00\",\"2014-03-10T00:00:00\",\"2014-03-07T00:00:00\",\"2014-03-06T00:00:00\",\"2014-03-05T00:00:00\",\"2014-03-04T00:00:00\",\"2014-03-03T00:00:00\",\"2014-02-28T00:00:00\",\"2014-02-27T00:00:00\",\"2014-02-26T00:00:00\",\"2014-02-25T00:00:00\",\"2014-02-24T00:00:00\",\"2014-02-21T00:00:00\",\"2014-02-20T00:00:00\",\"2014-02-19T00:00:00\",\"2014-02-18T00:00:00\",\"2014-02-17T00:00:00\",\"2014-02-14T00:00:00\",\"2014-02-13T00:00:00\",\"2014-02-12T00:00:00\",\"2014-02-11T00:00:00\",\"2014-02-10T00:00:00\",\"2014-02-07T00:00:00\",\"2014-02-06T00:00:00\",\"2014-02-05T00:00:00\",\"2014-02-04T00:00:00\",\"2014-02-03T00:00:00\",\"2014-01-31T00:00:00\",\"2014-01-30T00:00:00\",\"2014-01-29T00:00:00\",\"2014-01-28T00:00:00\",\"2014-01-27T00:00:00\",\"2014-01-24T00:00:00\",\"2014-01-23T00:00:00\",\"2014-01-22T00:00:00\",\"2014-01-21T00:00:00\",\"2014-01-20T00:00:00\",\"2014-01-17T00:00:00\",\"2014-01-16T00:00:00\",\"2014-01-15T00:00:00\",\"2014-01-14T00:00:00\",\"2014-01-13T00:00:00\",\"2014-01-10T00:00:00\",\"2014-01-09T00:00:00\",\"2014-01-08T00:00:00\",\"2014-01-07T00:00:00\",\"2014-01-06T00:00:00\",\"2014-01-03T00:00:00\",\"2014-01-02T00:00:00\",\"2013-12-31T00:00:00\",\"2013-12-30T00:00:00\",\"2013-12-27T00:00:00\",\"2013-12-26T00:00:00\",\"2013-12-25T00:00:00\",\"2013-12-24T00:00:00\",\"2013-12-23T00:00:00\",\"2013-12-20T00:00:00\",\"2013-12-19T00:00:00\",\"2013-12-18T00:00:00\",\"2013-12-17T00:00:00\",\"2013-12-16T00:00:00\",\"2013-12-13T00:00:00\",\"2013-12-12T00:00:00\",\"2013-12-11T00:00:00\",\"2013-12-10T00:00:00\",\"2013-12-09T00:00:00\",\"2013-12-06T00:00:00\",\"2013-12-05T00:00:00\",\"2013-12-04T00:00:00\",\"2013-12-03T00:00:00\",\"2013-12-02T00:00:00\",\"2013-11-29T00:00:00\",\"2013-11-28T00:00:00\",\"2013-11-27T00:00:00\",\"2013-11-26T00:00:00\",\"2013-11-25T00:00:00\",\"2013-11-22T00:00:00\",\"2013-11-21T00:00:00\",\"2013-11-20T00:00:00\",\"2013-11-19T00:00:00\",\"2013-11-18T00:00:00\",\"2013-11-15T00:00:00\",\"2013-11-14T00:00:00\",\"2013-11-13T00:00:00\",\"2013-11-12T00:00:00\",\"2013-11-11T00:00:00\",\"2013-11-08T00:00:00\",\"2013-11-07T00:00:00\",\"2013-11-06T00:00:00\",\"2013-11-05T00:00:00\",\"2013-11-04T00:00:00\",\"2013-11-01T00:00:00\",\"2013-10-31T00:00:00\",\"2013-10-30T00:00:00\",\"2013-10-28T00:00:00\",\"2013-10-25T00:00:00\",\"2013-10-24T00:00:00\",\"2013-10-23T00:00:00\",\"2013-10-22T00:00:00\",\"2013-10-21T00:00:00\",\"2013-10-14T00:00:00\",\"2013-10-11T00:00:00\",\"2013-10-10T00:00:00\",\"2013-10-09T00:00:00\",\"2013-10-08T00:00:00\",\"2013-10-07T00:00:00\",\"2013-10-04T00:00:00\",\"2013-10-03T00:00:00\",\"2013-10-02T00:00:00\",\"2013-10-01T00:00:00\",\"2013-09-30T00:00:00\",\"2013-09-27T00:00:00\",\"2013-09-26T00:00:00\",\"2013-09-25T00:00:00\",\"2013-09-24T00:00:00\",\"2013-09-23T00:00:00\",\"2013-09-20T00:00:00\",\"2013-09-19T00:00:00\",\"2013-09-18T00:00:00\",\"2013-09-17T00:00:00\",\"2013-09-16T00:00:00\",\"2013-09-13T00:00:00\",\"2013-09-12T00:00:00\",\"2013-09-11T00:00:00\",\"2013-09-10T00:00:00\",\"2013-09-09T00:00:00\",\"2013-09-06T00:00:00\",\"2013-09-05T00:00:00\",\"2013-09-04T00:00:00\",\"2013-09-03T00:00:00\",\"2013-09-02T00:00:00\",\"2013-08-29T00:00:00\",\"2013-08-28T00:00:00\",\"2013-08-27T00:00:00\",\"2013-08-26T00:00:00\",\"2013-08-23T00:00:00\",\"2013-08-22T00:00:00\",\"2013-08-21T00:00:00\",\"2013-08-20T00:00:00\",\"2013-08-19T00:00:00\",\"2013-08-16T00:00:00\",\"2013-08-15T00:00:00\",\"2013-08-14T00:00:00\",\"2013-08-13T00:00:00\",\"2013-08-12T00:00:00\",\"2013-08-07T00:00:00\",\"2013-08-06T00:00:00\",\"2013-08-05T00:00:00\",\"2013-08-02T00:00:00\",\"2013-08-01T00:00:00\",\"2013-07-31T00:00:00\",\"2013-07-30T00:00:00\",\"2013-07-29T00:00:00\",\"2013-07-26T00:00:00\",\"2013-07-25T00:00:00\",\"2013-07-24T00:00:00\",\"2013-07-23T00:00:00\",\"2013-07-22T00:00:00\",\"2013-07-19T00:00:00\",\"2013-07-18T00:00:00\",\"2013-07-17T00:00:00\",\"2013-07-16T00:00:00\",\"2013-07-15T00:00:00\",\"2013-07-12T00:00:00\",\"2013-07-11T00:00:00\",\"2013-07-10T00:00:00\",\"2013-07-09T00:00:00\",\"2013-07-08T00:00:00\",\"2013-07-05T00:00:00\",\"2013-07-04T00:00:00\",\"2013-07-03T00:00:00\",\"2013-07-02T00:00:00\",\"2013-07-01T00:00:00\",\"2013-06-28T00:00:00\",\"2013-06-27T00:00:00\",\"2013-06-26T00:00:00\",\"2013-06-25T00:00:00\",\"2013-06-24T00:00:00\",\"2013-06-21T00:00:00\",\"2013-06-20T00:00:00\",\"2013-06-19T00:00:00\",\"2013-06-18T00:00:00\",\"2013-06-17T00:00:00\",\"2013-06-14T00:00:00\",\"2013-06-13T00:00:00\",\"2013-06-12T00:00:00\",\"2013-06-11T00:00:00\",\"2013-06-10T00:00:00\",\"2013-06-07T00:00:00\",\"2013-06-06T00:00:00\",\"2013-06-05T00:00:00\",\"2013-06-04T00:00:00\",\"2013-06-03T00:00:00\",\"2013-05-31T00:00:00\",\"2013-05-30T00:00:00\",\"2013-05-29T00:00:00\",\"2013-05-28T00:00:00\",\"2013-05-27T00:00:00\",\"2013-05-24T00:00:00\",\"2013-05-23T00:00:00\",\"2013-05-22T00:00:00\",\"2013-05-21T00:00:00\"],\"y\":[7.163870230185136,6.924953488952179,6.76847685779312,6.840056414483119,6.745498561251882,6.639391507568883,6.491145994414875,6.448177872095583,6.598003092519182,6.402426513647125,6.768974865461555,6.425455426818516,6.319563708568808,6.449844791779153,6.517061948004125,7.029765911717414,7.542860799922449,7.875966093493943,7.675315077237311,7.968849416254322,8.470043209716724,8.315348035092748,8.754514531934323,8.450739120733717,7.9973791404603585,7.744090031194919,7.780428338503912,8.107244390165066,8.059364875444409,8.918122375311599,9.681049092400363,10.199043151190882,10.720297338209415,9.95709322703703,11.03472628741066,11.276671346954066,11.89012670579079,12.129816123441968,11.527111972617497,11.425598446698519,11.1706982066679,11.024609253040204,10.941113769002122,11.11325108407199,11.665285465901691,11.200712021971116,12.029593509494678,11.918897607990177,12.409457817668553,13.06055372505653,12.617921374134752,12.169987134071455,12.211685654887885,12.587161505024115,12.383292624889602,12.277518339703478,12.483894705072844,12.480111357232865,12.760651192758932,13.137773351173283,12.952704473452263,12.894528932539048,12.559036409750416,12.503831751711909,12.609685291004917,12.627089771886892,11.735764345374674,11.514694871952335,11.027566351021951,11.087909228065643,11.935151628930363,11.315677490830778,12.036817958764168,11.036176669042844,11.385426424269161,11.442352013521795,12.168686119655723,12.89095896823352,12.849879171641104,13.227636226871892,13.120026782642984,13.30950814421397,14.059556986053622,13.222771878312033,13.51435031010316,13.085908156504088,12.226850006416734,13.789353346532458,13.250866705599517,13.68398565098468,13.263494448688819,12.284871869366755,12.308040185494912,11.671609661714234,11.445790163653676,12.093248834946221,12.208571391117358,12.654795509361557,11.885900169393818,12.978101098100673,13.09895267155081,13.194997667103008,11.78316191568525,11.538935075124405,11.55927129817327,11.583963905568549,11.803716212387625,11.833383479148583,11.44868108211522,11.69505357711963,10.858029212134737,10.962752786691782,11.432774074757539,10.822780579461943,11.248698946638678,11.188110235409065,11.355410628418905,11.842861665890325,11.716326939009738,11.424014478944871,11.658577537468732,11.506740348696622,11.792430092482038,11.667710440779238,10.981991847367711,11.148579144444978,11.094579783200572,10.77785524306466,10.228406747298838,9.830214851528948,9.650799774576724,9.45979407753689,9.350757176290665,8.907414815136619,9.472627671093974,9.007567975964772,8.95694007146583,8.983924458588453,8.561828944327608,8.739955963654964,7.917065045461545,7.5075491444545595,7.814442720265085,7.583413325208468,8.028860642432507,8.382982898979318,8.33155167271767,8.096144261277233,8.025449583206694,8.34873870532191,8.595167786551851,8.345510060577153,8.419749286889926,8.469375678788198,8.468657040072607,8.344034825838824,8.266542883522545,8.175493092065873,8.597542406657077,8.238150339014483,8.385718379033072,8.73547603125679,9.069681439190243,9.226630395903179,9.497376216964744,9.202531882420137,9.098282796071354,9.27420797409036,9.320295667565244,9.34868592463045,9.599129301620374,9.54989148960919,9.808115182034769,9.744286210749069,9.950288783299545,10.072830054636238,9.5904994939593,9.712651068933088,9.966341698993915,9.995565736299566,9.795350724522182,9.887579885248364,10.285658086718731,10.354345857323214,10.476308721069195,10.34092745148846,9.980253977313078,9.882177994271895,10.06992433839409,10.6752854539273,10.373522323371056,10.60017666952576,10.125370464824664,10.584298209135445,10.636544291643734,10.38464709409883,10.103010840327538,9.85302971426078,9.908473330650487,9.59417414287223,9.196693228155873,9.491724429640538,9.129632186484038,8.898780698274699,8.717370703143205,9.288608284364278,8.878967415163563,8.688642561240448,8.977445702097155,9.095508836218373,9.058110994165132,8.56752508424597,8.169592591160734,8.211790242118946,8.512451064376629,8.873869877035155,9.19577194968325,9.599155757662212,9.094380759101073,8.851357941469589,9.218934070926307,9.225757139202697,9.297041921951084,9.02071351473287,9.410154506816655,9.279374613822828,9.583380258463144,9.529715044772905,9.963567220071136,9.94968057813523,9.561102454030902,9.321085429109422,9.327224344148984],\"type\":\"scatter\"}],                        {\"legend\":{\"x\":0,\"y\":1},\"template\":{\"data\":{\"barpolar\":[{\"marker\":{\"line\":{\"color\":\"#E5ECF6\",\"width\":0.5},\"pattern\":{\"fillmode\":\"overlay\",\"size\":10,\"solidity\":0.2}},\"type\":\"barpolar\"}],\"bar\":[{\"error_x\":{\"color\":\"#2a3f5f\"},\"error_y\":{\"color\":\"#2a3f5f\"},\"marker\":{\"line\":{\"color\":\"#E5ECF6\",\"width\":0.5},\"pattern\":{\"fillmode\":\"overlay\",\"size\":10,\"solidity\":0.2}},\"type\":\"bar\"}],\"carpet\":[{\"aaxis\":{\"endlinecolor\":\"#2a3f5f\",\"gridcolor\":\"white\",\"linecolor\":\"white\",\"minorgridcolor\":\"white\",\"startlinecolor\":\"#2a3f5f\"},\"baxis\":{\"endlinecolor\":\"#2a3f5f\",\"gridcolor\":\"white\",\"linecolor\":\"white\",\"minorgridcolor\":\"white\",\"startlinecolor\":\"#2a3f5f\"},\"type\":\"carpet\"}],\"choropleth\":[{\"colorbar\":{\"outlinewidth\":0,\"ticks\":\"\"},\"type\":\"choropleth\"}],\"contourcarpet\":[{\"colorbar\":{\"outlinewidth\":0,\"ticks\":\"\"},\"type\":\"contourcarpet\"}],\"contour\":[{\"colorbar\":{\"outlinewidth\":0,\"ticks\":\"\"},\"colorscale\":[[0.0,\"#0d0887\"],[0.1111111111111111,\"#46039f\"],[0.2222222222222222,\"#7201a8\"],[0.3333333333333333,\"#9c179e\"],[0.4444444444444444,\"#bd3786\"],[0.5555555555555556,\"#d8576b\"],[0.6666666666666666,\"#ed7953\"],[0.7777777777777778,\"#fb9f3a\"],[0.8888888888888888,\"#fdca26\"],[1.0,\"#f0f921\"]],\"type\":\"contour\"}],\"heatmapgl\":[{\"colorbar\":{\"outlinewidth\":0,\"ticks\":\"\"},\"colorscale\":[[0.0,\"#0d0887\"],[0.1111111111111111,\"#46039f\"],[0.2222222222222222,\"#7201a8\"],[0.3333333333333333,\"#9c179e\"],[0.4444444444444444,\"#bd3786\"],[0.5555555555555556,\"#d8576b\"],[0.6666666666666666,\"#ed7953\"],[0.7777777777777778,\"#fb9f3a\"],[0.8888888888888888,\"#fdca26\"],[1.0,\"#f0f921\"]],\"type\":\"heatmapgl\"}],\"heatmap\":[{\"colorbar\":{\"outlinewidth\":0,\"ticks\":\"\"},\"colorscale\":[[0.0,\"#0d0887\"],[0.1111111111111111,\"#46039f\"],[0.2222222222222222,\"#7201a8\"],[0.3333333333333333,\"#9c179e\"],[0.4444444444444444,\"#bd3786\"],[0.5555555555555556,\"#d8576b\"],[0.6666666666666666,\"#ed7953\"],[0.7777777777777778,\"#fb9f3a\"],[0.8888888888888888,\"#fdca26\"],[1.0,\"#f0f921\"]],\"type\":\"heatmap\"}],\"histogram2dcontour\":[{\"colorbar\":{\"outlinewidth\":0,\"ticks\":\"\"},\"colorscale\":[[0.0,\"#0d0887\"],[0.1111111111111111,\"#46039f\"],[0.2222222222222222,\"#7201a8\"],[0.3333333333333333,\"#9c179e\"],[0.4444444444444444,\"#bd3786\"],[0.5555555555555556,\"#d8576b\"],[0.6666666666666666,\"#ed7953\"],[0.7777777777777778,\"#fb9f3a\"],[0.8888888888888888,\"#fdca26\"],[1.0,\"#f0f921\"]],\"type\":\"histogram2dcontour\"}],\"histogram2d\":[{\"colorbar\":{\"outlinewidth\":0,\"ticks\":\"\"},\"colorscale\":[[0.0,\"#0d0887\"],[0.1111111111111111,\"#46039f\"],[0.2222222222222222,\"#7201a8\"],[0.3333333333333333,\"#9c179e\"],[0.4444444444444444,\"#bd3786\"],[0.5555555555555556,\"#d8576b\"],[0.6666666666666666,\"#ed7953\"],[0.7777777777777778,\"#fb9f3a\"],[0.8888888888888888,\"#fdca26\"],[1.0,\"#f0f921\"]],\"type\":\"histogram2d\"}],\"histogram\":[{\"marker\":{\"pattern\":{\"fillmode\":\"overlay\",\"size\":10,\"solidity\":0.2}},\"type\":\"histogram\"}],\"mesh3d\":[{\"colorbar\":{\"outlinewidth\":0,\"ticks\":\"\"},\"type\":\"mesh3d\"}],\"parcoords\":[{\"line\":{\"colorbar\":{\"outlinewidth\":0,\"ticks\":\"\"}},\"type\":\"parcoords\"}],\"pie\":[{\"automargin\":true,\"type\":\"pie\"}],\"scatter3d\":[{\"line\":{\"colorbar\":{\"outlinewidth\":0,\"ticks\":\"\"}},\"marker\":{\"colorbar\":{\"outlinewidth\":0,\"ticks\":\"\"}},\"type\":\"scatter3d\"}],\"scattercarpet\":[{\"marker\":{\"colorbar\":{\"outlinewidth\":0,\"ticks\":\"\"}},\"type\":\"scattercarpet\"}],\"scattergeo\":[{\"marker\":{\"colorbar\":{\"outlinewidth\":0,\"ticks\":\"\"}},\"type\":\"scattergeo\"}],\"scattergl\":[{\"marker\":{\"colorbar\":{\"outlinewidth\":0,\"ticks\":\"\"}},\"type\":\"scattergl\"}],\"scattermapbox\":[{\"marker\":{\"colorbar\":{\"outlinewidth\":0,\"ticks\":\"\"}},\"type\":\"scattermapbox\"}],\"scatterpolargl\":[{\"marker\":{\"colorbar\":{\"outlinewidth\":0,\"ticks\":\"\"}},\"type\":\"scatterpolargl\"}],\"scatterpolar\":[{\"marker\":{\"colorbar\":{\"outlinewidth\":0,\"ticks\":\"\"}},\"type\":\"scatterpolar\"}],\"scatter\":[{\"fillpattern\":{\"fillmode\":\"overlay\",\"size\":10,\"solidity\":0.2},\"type\":\"scatter\"}],\"scatterternary\":[{\"marker\":{\"colorbar\":{\"outlinewidth\":0,\"ticks\":\"\"}},\"type\":\"scatterternary\"}],\"surface\":[{\"colorbar\":{\"outlinewidth\":0,\"ticks\":\"\"},\"colorscale\":[[0.0,\"#0d0887\"],[0.1111111111111111,\"#46039f\"],[0.2222222222222222,\"#7201a8\"],[0.3333333333333333,\"#9c179e\"],[0.4444444444444444,\"#bd3786\"],[0.5555555555555556,\"#d8576b\"],[0.6666666666666666,\"#ed7953\"],[0.7777777777777778,\"#fb9f3a\"],[0.8888888888888888,\"#fdca26\"],[1.0,\"#f0f921\"]],\"type\":\"surface\"}],\"table\":[{\"cells\":{\"fill\":{\"color\":\"#EBF0F8\"},\"line\":{\"color\":\"white\"}},\"header\":{\"fill\":{\"color\":\"#C8D4E3\"},\"line\":{\"color\":\"white\"}},\"type\":\"table\"}]},\"layout\":{\"annotationdefaults\":{\"arrowcolor\":\"#2a3f5f\",\"arrowhead\":0,\"arrowwidth\":1},\"autotypenumbers\":\"strict\",\"coloraxis\":{\"colorbar\":{\"outlinewidth\":0,\"ticks\":\"\"}},\"colorscale\":{\"diverging\":[[0,\"#8e0152\"],[0.1,\"#c51b7d\"],[0.2,\"#de77ae\"],[0.3,\"#f1b6da\"],[0.4,\"#fde0ef\"],[0.5,\"#f7f7f7\"],[0.6,\"#e6f5d0\"],[0.7,\"#b8e186\"],[0.8,\"#7fbc41\"],[0.9,\"#4d9221\"],[1,\"#276419\"]],\"sequential\":[[0.0,\"#0d0887\"],[0.1111111111111111,\"#46039f\"],[0.2222222222222222,\"#7201a8\"],[0.3333333333333333,\"#9c179e\"],[0.4444444444444444,\"#bd3786\"],[0.5555555555555556,\"#d8576b\"],[0.6666666666666666,\"#ed7953\"],[0.7777777777777778,\"#fb9f3a\"],[0.8888888888888888,\"#fdca26\"],[1.0,\"#f0f921\"]],\"sequentialminus\":[[0.0,\"#0d0887\"],[0.1111111111111111,\"#46039f\"],[0.2222222222222222,\"#7201a8\"],[0.3333333333333333,\"#9c179e\"],[0.4444444444444444,\"#bd3786\"],[0.5555555555555556,\"#d8576b\"],[0.6666666666666666,\"#ed7953\"],[0.7777777777777778,\"#fb9f3a\"],[0.8888888888888888,\"#fdca26\"],[1.0,\"#f0f921\"]]},\"colorway\":[\"#636efa\",\"#EF553B\",\"#00cc96\",\"#ab63fa\",\"#FFA15A\",\"#19d3f3\",\"#FF6692\",\"#B6E880\",\"#FF97FF\",\"#FECB52\"],\"font\":{\"color\":\"#2a3f5f\"},\"geo\":{\"bgcolor\":\"white\",\"lakecolor\":\"white\",\"landcolor\":\"#E5ECF6\",\"showlakes\":true,\"showland\":true,\"subunitcolor\":\"white\"},\"hoverlabel\":{\"align\":\"left\"},\"hovermode\":\"closest\",\"mapbox\":{\"style\":\"light\"},\"paper_bgcolor\":\"white\",\"plot_bgcolor\":\"#E5ECF6\",\"polar\":{\"angularaxis\":{\"gridcolor\":\"white\",\"linecolor\":\"white\",\"ticks\":\"\"},\"bgcolor\":\"#E5ECF6\",\"radialaxis\":{\"gridcolor\":\"white\",\"linecolor\":\"white\",\"ticks\":\"\"}},\"scene\":{\"xaxis\":{\"backgroundcolor\":\"#E5ECF6\",\"gridcolor\":\"white\",\"gridwidth\":2,\"linecolor\":\"white\",\"showbackground\":true,\"ticks\":\"\",\"zerolinecolor\":\"white\"},\"yaxis\":{\"backgroundcolor\":\"#E5ECF6\",\"gridcolor\":\"white\",\"gridwidth\":2,\"linecolor\":\"white\",\"showbackground\":true,\"ticks\":\"\",\"zerolinecolor\":\"white\"},\"zaxis\":{\"backgroundcolor\":\"#E5ECF6\",\"gridcolor\":\"white\",\"gridwidth\":2,\"linecolor\":\"white\",\"showbackground\":true,\"ticks\":\"\",\"zerolinecolor\":\"white\"}},\"shapedefaults\":{\"line\":{\"color\":\"#2a3f5f\"}},\"ternary\":{\"aaxis\":{\"gridcolor\":\"white\",\"linecolor\":\"white\",\"ticks\":\"\"},\"baxis\":{\"gridcolor\":\"white\",\"linecolor\":\"white\",\"ticks\":\"\"},\"bgcolor\":\"#E5ECF6\",\"caxis\":{\"gridcolor\":\"white\",\"linecolor\":\"white\",\"ticks\":\"\"}},\"title\":{\"x\":0.05},\"xaxis\":{\"automargin\":true,\"gridcolor\":\"white\",\"linecolor\":\"white\",\"ticks\":\"\",\"title\":{\"standoff\":15},\"zerolinecolor\":\"white\",\"zerolinewidth\":2},\"yaxis\":{\"automargin\":true,\"gridcolor\":\"white\",\"linecolor\":\"white\",\"ticks\":\"\",\"title\":{\"standoff\":15},\"zerolinecolor\":\"white\",\"zerolinewidth\":2}}},\"title\":{\"text\":\"ODAS Tarihsel Fiyat Bilgileri\"},\"xaxis\":{\"title\":{\"text\":\"Tarih\"}},\"yaxis\":{\"title\":{\"text\":\"Fiyat Bilgileri\"}}},                        {\"responsive\": true}                    ).then(function(){\n",
       "                            \n",
       "var gd = document.getElementById('120772f4-d098-48e2-8ccd-5f3c37bca76a');\n",
       "var x = new MutationObserver(function (mutations, observer) {{\n",
       "        var display = window.getComputedStyle(gd).display;\n",
       "        if (!display || display === 'none') {{\n",
       "            console.log([gd, 'removed!']);\n",
       "            Plotly.purge(gd);\n",
       "            observer.disconnect();\n",
       "        }}\n",
       "}});\n",
       "\n",
       "// Listen for the removal of the full notebook cells\n",
       "var notebookContainer = gd.closest('#notebook-container');\n",
       "if (notebookContainer) {{\n",
       "    x.observe(notebookContainer, {childList: true});\n",
       "}}\n",
       "\n",
       "// Listen for the clearing of the current output cell\n",
       "var outputEl = gd.closest('.output');\n",
       "if (outputEl) {{\n",
       "    x.observe(outputEl, {childList: true});\n",
       "}}\n",
       "\n",
       "                        })                };                });            </script>        </div>"
      ]
     },
     "metadata": {},
     "output_type": "display_data"
    },
    {
     "name": "stdout",
     "output_type": "stream",
     "text": [
      "Doğruluk: 96.0567230205994\n"
     ]
    }
   ],
   "source": [
    "actual_trace = go.Scatter(\n",
    "    x=df_new_drop.tail(len(test_predict)).index,\n",
    "    y=y_test.flatten(),\n",
    "    mode='lines',\n",
    "    name=\"Gerçek ODAS Tarihsel Fiyat Bilgileri\",\n",
    "    line=dict(color='red')\n",
    ")\n",
    "\n",
    "test_actual_trace = go.Scatter(\n",
    "    x=df_new_drop.tail(len(test_predict)).index,\n",
    "    y=test_predict.flatten(),\n",
    "    mode='lines',\n",
    "    name=\"Tahmin edilen ODAS Tarihsel Fiyat Bilgileri\",\n",
    "    line=dict(color='blue')\n",
    ")\n",
    "\n",
    "data = [actual_trace, test_actual_trace]\n",
    "\n",
    "layout = go.Layout(\n",
    "    title=\"ODAS Tarihsel Fiyat Bilgileri\",\n",
    "    xaxis=dict(title=\"Tarih\"),\n",
    "    yaxis=dict(title=\"Fiyat Bilgileri\"),\n",
    "    legend=dict(x=0, y=1)\n",
    ")\n",
    "\n",
    "fig = go.Figure(data=data, layout=layout)\n",
    "py.iplot(fig)\n",
    "print(\"Doğruluk:\",r2_test*100)"
   ]
  },
  {
   "cell_type": "code",
   "execution_count": 216,
   "id": "7341023a",
   "metadata": {},
   "outputs": [],
   "source": [
    "test_Akcay=ridge.predict(X_test[-1].reshape(1,-1))"
   ]
  },
  {
   "cell_type": "code",
   "execution_count": 217,
   "id": "a80355ef",
   "metadata": {},
   "outputs": [
    {
     "data": {
      "text/plain": [
       "9.327224344148982"
      ]
     },
     "execution_count": 217,
     "metadata": {},
     "output_type": "execute_result"
    }
   ],
   "source": [
    "test_Akcay[0][0]"
   ]
  },
  {
   "cell_type": "code",
   "execution_count": 218,
   "id": "f407d137",
   "metadata": {},
   "outputs": [
    {
     "data": {
      "text/plain": [
       "array([9.4])"
      ]
     },
     "execution_count": 218,
     "metadata": {},
     "output_type": "execute_result"
    }
   ],
   "source": [
    "y_test[-1]"
   ]
  },
  {
   "cell_type": "code",
   "execution_count": 219,
   "id": "ad4f132e",
   "metadata": {},
   "outputs": [
    {
     "data": {
      "text/plain": [
       "array([10.49, 10.25, 10.68, 10.59, 10.42, 10.14,  9.76,  9.96,  9.65,\n",
       "        9.27,  9.29,  9.27,  9.05,  8.87,  9.41,  8.85,  8.69,  8.91,\n",
       "        9.17,  8.89,  8.62,  8.28,  8.14,  8.73,  9.01,  9.25,  9.41,\n",
       "        9.27,  9.03,  9.13,  9.15,  9.23,  9.2 ,  9.37,  9.49,  9.61,\n",
       "        9.56, 10.02, 10.  ,  9.63,  9.39,  9.38])"
      ]
     },
     "execution_count": 219,
     "metadata": {},
     "output_type": "execute_result"
    }
   ],
   "source": [
    "X_test[-1]"
   ]
  },
  {
   "cell_type": "code",
   "execution_count": 220,
   "id": "8a9a675d",
   "metadata": {},
   "outputs": [
    {
     "name": "stdout",
     "output_type": "stream",
     "text": [
      "[10.25 10.68 10.59 10.42 10.14  9.76  9.96  9.65  9.27  9.29  9.27  9.05\n",
      "  8.87  9.41  8.85  8.69  8.91  9.17  8.89  8.62  8.28  8.14  8.73  9.01\n",
      "  9.25  9.41  9.27  9.03  9.13  9.15  9.23  9.2   9.37  9.49  9.61  9.56\n",
      " 10.02 10.    9.63  9.39  9.38  9.4 ]\n"
     ]
    },
    {
     "name": "stderr",
     "output_type": "stream",
     "text": [
      "C:\\Users\\Administrator\\AppData\\Local\\Temp\\ipykernel_13136\\2552776792.py:5: DeprecationWarning:\n",
      "\n",
      "Conversion of an array with ndim > 0 to a scalar is deprecated, and will error in future. Ensure you extract a single element from your array before performing this operation. (Deprecated NumPy 1.25.)\n",
      "\n"
     ]
    }
   ],
   "source": [
    "projection=40\n",
    "\n",
    "data_projection=X_test[-1]\n",
    "data_projection = np.roll(data_projection, -1)\n",
    "data_projection[-1] = y_test[-1]\n",
    "data_projection_control=data_projection\n",
    "print(data_projection_control)"
   ]
  },
  {
   "cell_type": "code",
   "execution_count": 221,
   "id": "c033e839",
   "metadata": {
    "scrolled": false
   },
   "outputs": [
    {
     "name": "stdout",
     "output_type": "stream",
     "text": [
      "[10.25 10.68 10.59 10.42 10.14  9.76  9.96  9.65  9.27  9.29  9.27  9.05\n",
      "  8.87  9.41  8.85  8.69  8.91  9.17  8.89  8.62  8.28  8.14  8.73  9.01\n",
      "  9.25  9.41  9.27  9.03  9.13  9.15  9.23  9.2   9.37  9.49  9.61  9.56\n",
      " 10.02 10.    9.63  9.39  9.38  9.4 ]\n",
      "[10.68       10.59       10.42       10.14        9.76        9.96\n",
      "  9.65        9.27        9.29        9.27        9.05        8.87\n",
      "  9.41        8.85        8.69        8.91        9.17        8.89\n",
      "  8.62        8.28        8.14        8.73        9.01        9.25\n",
      "  9.41        9.27        9.03        9.13        9.15        9.23\n",
      "  9.2         9.37        9.49        9.61        9.56       10.02\n",
      " 10.          9.63        9.39        9.38        9.4         9.66302003]\n",
      "[10.59       10.42       10.14        9.76        9.96        9.65\n",
      "  9.27        9.29        9.27        9.05        8.87        9.41\n",
      "  8.85        8.69        8.91        9.17        8.89        8.62\n",
      "  8.28        8.14        8.73        9.01        9.25        9.41\n",
      "  9.27        9.03        9.13        9.15        9.23        9.2\n",
      "  9.37        9.49        9.61        9.56       10.02       10.\n",
      "  9.63        9.39        9.38        9.4         9.66302003  9.72944731]\n",
      "[10.42       10.14        9.76        9.96        9.65        9.27\n",
      "  9.29        9.27        9.05        8.87        9.41        8.85\n",
      "  8.69        8.91        9.17        8.89        8.62        8.28\n",
      "  8.14        8.73        9.01        9.25        9.41        9.27\n",
      "  9.03        9.13        9.15        9.23        9.2         9.37\n",
      "  9.49        9.61        9.56       10.02       10.          9.63\n",
      "  9.39        9.38        9.4         9.66302003  9.72944731  9.6183554 ]\n",
      "[10.14        9.76        9.96        9.65        9.27        9.29\n",
      "  9.27        9.05        8.87        9.41        8.85        8.69\n",
      "  8.91        9.17        8.89        8.62        8.28        8.14\n",
      "  8.73        9.01        9.25        9.41        9.27        9.03\n",
      "  9.13        9.15        9.23        9.2         9.37        9.49\n",
      "  9.61        9.56       10.02       10.          9.63        9.39\n",
      "  9.38        9.4         9.66302003  9.72944731  9.6183554   9.73745531]\n",
      "[ 9.76        9.96        9.65        9.27        9.29        9.27\n",
      "  9.05        8.87        9.41        8.85        8.69        8.91\n",
      "  9.17        8.89        8.62        8.28        8.14        8.73\n",
      "  9.01        9.25        9.41        9.27        9.03        9.13\n",
      "  9.15        9.23        9.2         9.37        9.49        9.61\n",
      "  9.56       10.02       10.          9.63        9.39        9.38\n",
      "  9.4         9.66302003  9.72944731  9.6183554   9.73745531  9.67823961]\n",
      "[ 9.96        9.65        9.27        9.29        9.27        9.05\n",
      "  8.87        9.41        8.85        8.69        8.91        9.17\n",
      "  8.89        8.62        8.28        8.14        8.73        9.01\n",
      "  9.25        9.41        9.27        9.03        9.13        9.15\n",
      "  9.23        9.2         9.37        9.49        9.61        9.56\n",
      " 10.02       10.          9.63        9.39        9.38        9.4\n",
      "  9.66302003  9.72944731  9.6183554   9.73745531  9.67823961  9.48365312]\n",
      "[ 9.65        9.27        9.29        9.27        9.05        8.87\n",
      "  9.41        8.85        8.69        8.91        9.17        8.89\n",
      "  8.62        8.28        8.14        8.73        9.01        9.25\n",
      "  9.41        9.27        9.03        9.13        9.15        9.23\n",
      "  9.2         9.37        9.49        9.61        9.56       10.02\n",
      " 10.          9.63        9.39        9.38        9.4         9.66302003\n",
      "  9.72944731  9.6183554   9.73745531  9.67823961  9.48365312  9.3685143 ]\n",
      "[ 9.27        9.29        9.27        9.05        8.87        9.41\n",
      "  8.85        8.69        8.91        9.17        8.89        8.62\n",
      "  8.28        8.14        8.73        9.01        9.25        9.41\n",
      "  9.27        9.03        9.13        9.15        9.23        9.2\n",
      "  9.37        9.49        9.61        9.56       10.02       10.\n",
      "  9.63        9.39        9.38        9.4         9.66302003  9.72944731\n",
      "  9.6183554   9.73745531  9.67823961  9.48365312  9.3685143   9.49751298]\n",
      "[ 9.29        9.27        9.05        8.87        9.41        8.85\n",
      "  8.69        8.91        9.17        8.89        8.62        8.28\n",
      "  8.14        8.73        9.01        9.25        9.41        9.27\n",
      "  9.03        9.13        9.15        9.23        9.2         9.37\n",
      "  9.49        9.61        9.56       10.02       10.          9.63\n",
      "  9.39        9.38        9.4         9.66302003  9.72944731  9.6183554\n",
      "  9.73745531  9.67823961  9.48365312  9.3685143   9.49751298  9.52138561]\n",
      "[ 9.27        9.05        8.87        9.41        8.85        8.69\n",
      "  8.91        9.17        8.89        8.62        8.28        8.14\n",
      "  8.73        9.01        9.25        9.41        9.27        9.03\n",
      "  9.13        9.15        9.23        9.2         9.37        9.49\n",
      "  9.61        9.56       10.02       10.          9.63        9.39\n",
      "  9.38        9.4         9.66302003  9.72944731  9.6183554   9.73745531\n",
      "  9.67823961  9.48365312  9.3685143   9.49751298  9.52138561  9.5809878 ]\n",
      "[ 9.05        8.87        9.41        8.85        8.69        8.91\n",
      "  9.17        8.89        8.62        8.28        8.14        8.73\n",
      "  9.01        9.25        9.41        9.27        9.03        9.13\n",
      "  9.15        9.23        9.2         9.37        9.49        9.61\n",
      "  9.56       10.02       10.          9.63        9.39        9.38\n",
      "  9.4         9.66302003  9.72944731  9.6183554   9.73745531  9.67823961\n",
      "  9.48365312  9.3685143   9.49751298  9.52138561  9.5809878   9.67857288]\n",
      "[ 8.87        9.41        8.85        8.69        8.91        9.17\n",
      "  8.89        8.62        8.28        8.14        8.73        9.01\n",
      "  9.25        9.41        9.27        9.03        9.13        9.15\n",
      "  9.23        9.2         9.37        9.49        9.61        9.56\n",
      " 10.02       10.          9.63        9.39        9.38        9.4\n",
      "  9.66302003  9.72944731  9.6183554   9.73745531  9.67823961  9.48365312\n",
      "  9.3685143   9.49751298  9.52138561  9.5809878   9.67857288  9.74648978]\n",
      "[ 9.41        8.85        8.69        8.91        9.17        8.89\n",
      "  8.62        8.28        8.14        8.73        9.01        9.25\n",
      "  9.41        9.27        9.03        9.13        9.15        9.23\n",
      "  9.2         9.37        9.49        9.61        9.56       10.02\n",
      " 10.          9.63        9.39        9.38        9.4         9.66302003\n",
      "  9.72944731  9.6183554   9.73745531  9.67823961  9.48365312  9.3685143\n",
      "  9.49751298  9.52138561  9.5809878   9.67857288  9.74648978  9.76688059]\n",
      "[ 8.85        8.69        8.91        9.17        8.89        8.62\n",
      "  8.28        8.14        8.73        9.01        9.25        9.41\n",
      "  9.27        9.03        9.13        9.15        9.23        9.2\n",
      "  9.37        9.49        9.61        9.56       10.02       10.\n",
      "  9.63        9.39        9.38        9.4         9.66302003  9.72944731\n",
      "  9.6183554   9.73745531  9.67823961  9.48365312  9.3685143   9.49751298\n",
      "  9.52138561  9.5809878   9.67857288  9.74648978  9.76688059  9.75574876]\n",
      "[ 8.69        8.91        9.17        8.89        8.62        8.28\n",
      "  8.14        8.73        9.01        9.25        9.41        9.27\n",
      "  9.03        9.13        9.15        9.23        9.2         9.37\n",
      "  9.49        9.61        9.56       10.02       10.          9.63\n",
      "  9.39        9.38        9.4         9.66302003  9.72944731  9.6183554\n",
      "  9.73745531  9.67823961  9.48365312  9.3685143   9.49751298  9.52138561\n",
      "  9.5809878   9.67857288  9.74648978  9.76688059  9.75574876  9.7596294 ]\n",
      "[ 8.91        9.17        8.89        8.62        8.28        8.14\n",
      "  8.73        9.01        9.25        9.41        9.27        9.03\n",
      "  9.13        9.15        9.23        9.2         9.37        9.49\n",
      "  9.61        9.56       10.02       10.          9.63        9.39\n",
      "  9.38        9.4         9.66302003  9.72944731  9.6183554   9.73745531\n",
      "  9.67823961  9.48365312  9.3685143   9.49751298  9.52138561  9.5809878\n",
      "  9.67857288  9.74648978  9.76688059  9.75574876  9.7596294   9.67182379]\n",
      "[ 9.17        8.89        8.62        8.28        8.14        8.73\n",
      "  9.01        9.25        9.41        9.27        9.03        9.13\n",
      "  9.15        9.23        9.2         9.37        9.49        9.61\n",
      "  9.56       10.02       10.          9.63        9.39        9.38\n",
      "  9.4         9.66302003  9.72944731  9.6183554   9.73745531  9.67823961\n",
      "  9.48365312  9.3685143   9.49751298  9.52138561  9.5809878   9.67857288\n",
      "  9.74648978  9.76688059  9.75574876  9.7596294   9.67182379  9.6259082 ]\n",
      "[ 8.89        8.62        8.28        8.14        8.73        9.01\n",
      "  9.25        9.41        9.27        9.03        9.13        9.15\n",
      "  9.23        9.2         9.37        9.49        9.61        9.56\n",
      " 10.02       10.          9.63        9.39        9.38        9.4\n",
      "  9.66302003  9.72944731  9.6183554   9.73745531  9.67823961  9.48365312\n",
      "  9.3685143   9.49751298  9.52138561  9.5809878   9.67857288  9.74648978\n",
      "  9.76688059  9.75574876  9.7596294   9.67182379  9.6259082   9.5790709 ]\n",
      "[ 8.62        8.28        8.14        8.73        9.01        9.25\n",
      "  9.41        9.27        9.03        9.13        9.15        9.23\n",
      "  9.2         9.37        9.49        9.61        9.56       10.02\n",
      " 10.          9.63        9.39        9.38        9.4         9.66302003\n",
      "  9.72944731  9.6183554   9.73745531  9.67823961  9.48365312  9.3685143\n",
      "  9.49751298  9.52138561  9.5809878   9.67857288  9.74648978  9.76688059\n",
      "  9.75574876  9.7596294   9.67182379  9.6259082   9.5790709   9.55068709]\n",
      "[ 8.28        8.14        8.73        9.01        9.25        9.41\n",
      "  9.27        9.03        9.13        9.15        9.23        9.2\n",
      "  9.37        9.49        9.61        9.56       10.02       10.\n",
      "  9.63        9.39        9.38        9.4         9.66302003  9.72944731\n",
      "  9.6183554   9.73745531  9.67823961  9.48365312  9.3685143   9.49751298\n",
      "  9.52138561  9.5809878   9.67857288  9.74648978  9.76688059  9.75574876\n",
      "  9.7596294   9.67182379  9.6259082   9.5790709   9.55068709  9.62030455]\n",
      "[ 8.14        8.73        9.01        9.25        9.41        9.27\n",
      "  9.03        9.13        9.15        9.23        9.2         9.37\n",
      "  9.49        9.61        9.56       10.02       10.          9.63\n",
      "  9.39        9.38        9.4         9.66302003  9.72944731  9.6183554\n",
      "  9.73745531  9.67823961  9.48365312  9.3685143   9.49751298  9.52138561\n",
      "  9.5809878   9.67857288  9.74648978  9.76688059  9.75574876  9.7596294\n",
      "  9.67182379  9.6259082   9.5790709   9.55068709  9.62030455  9.7081887 ]\n",
      "[ 8.73        9.01        9.25        9.41        9.27        9.03\n",
      "  9.13        9.15        9.23        9.2         9.37        9.49\n",
      "  9.61        9.56       10.02       10.          9.63        9.39\n",
      "  9.38        9.4         9.66302003  9.72944731  9.6183554   9.73745531\n",
      "  9.67823961  9.48365312  9.3685143   9.49751298  9.52138561  9.5809878\n",
      "  9.67857288  9.74648978  9.76688059  9.75574876  9.7596294   9.67182379\n",
      "  9.6259082   9.5790709   9.55068709  9.62030455  9.7081887   9.67905784]\n",
      "[ 9.01        9.25        9.41        9.27        9.03        9.13\n",
      "  9.15        9.23        9.2         9.37        9.49        9.61\n",
      "  9.56       10.02       10.          9.63        9.39        9.38\n",
      "  9.4         9.66302003  9.72944731  9.6183554   9.73745531  9.67823961\n",
      "  9.48365312  9.3685143   9.49751298  9.52138561  9.5809878   9.67857288\n",
      "  9.74648978  9.76688059  9.75574876  9.7596294   9.67182379  9.6259082\n",
      "  9.5790709   9.55068709  9.62030455  9.7081887   9.67905784  9.61183009]\n",
      "[ 9.25        9.41        9.27        9.03        9.13        9.15\n",
      "  9.23        9.2         9.37        9.49        9.61        9.56\n",
      " 10.02       10.          9.63        9.39        9.38        9.4\n",
      "  9.66302003  9.72944731  9.6183554   9.73745531  9.67823961  9.48365312\n",
      "  9.3685143   9.49751298  9.52138561  9.5809878   9.67857288  9.74648978\n",
      "  9.76688059  9.75574876  9.7596294   9.67182379  9.6259082   9.5790709\n",
      "  9.55068709  9.62030455  9.7081887   9.67905784  9.61183009  9.59759082]\n",
      "[ 9.41        9.27        9.03        9.13        9.15        9.23\n",
      "  9.2         9.37        9.49        9.61        9.56       10.02\n",
      " 10.          9.63        9.39        9.38        9.4         9.66302003\n",
      "  9.72944731  9.6183554   9.73745531  9.67823961  9.48365312  9.3685143\n",
      "  9.49751298  9.52138561  9.5809878   9.67857288  9.74648978  9.76688059\n",
      "  9.75574876  9.7596294   9.67182379  9.6259082   9.5790709   9.55068709\n",
      "  9.62030455  9.7081887   9.67905784  9.61183009  9.59759082  9.54779604]\n",
      "[ 9.27        9.03        9.13        9.15        9.23        9.2\n",
      "  9.37        9.49        9.61        9.56       10.02       10.\n",
      "  9.63        9.39        9.38        9.4         9.66302003  9.72944731\n",
      "  9.6183554   9.73745531  9.67823961  9.48365312  9.3685143   9.49751298\n",
      "  9.52138561  9.5809878   9.67857288  9.74648978  9.76688059  9.75574876\n",
      "  9.7596294   9.67182379  9.6259082   9.5790709   9.55068709  9.62030455\n",
      "  9.7081887   9.67905784  9.61183009  9.59759082  9.54779604  9.41960192]\n",
      "[ 9.03        9.13        9.15        9.23        9.2         9.37\n",
      "  9.49        9.61        9.56       10.02       10.          9.63\n",
      "  9.39        9.38        9.4         9.66302003  9.72944731  9.6183554\n",
      "  9.73745531  9.67823961  9.48365312  9.3685143   9.49751298  9.52138561\n",
      "  9.5809878   9.67857288  9.74648978  9.76688059  9.75574876  9.7596294\n",
      "  9.67182379  9.6259082   9.5790709   9.55068709  9.62030455  9.7081887\n",
      "  9.67905784  9.61183009  9.59759082  9.54779604  9.41960192  9.34664459]\n",
      "[ 9.13        9.15        9.23        9.2         9.37        9.49\n",
      "  9.61        9.56       10.02       10.          9.63        9.39\n",
      "  9.38        9.4         9.66302003  9.72944731  9.6183554   9.73745531\n",
      "  9.67823961  9.48365312  9.3685143   9.49751298  9.52138561  9.5809878\n",
      "  9.67857288  9.74648978  9.76688059  9.75574876  9.7596294   9.67182379\n",
      "  9.6259082   9.5790709   9.55068709  9.62030455  9.7081887   9.67905784\n",
      "  9.61183009  9.59759082  9.54779604  9.41960192  9.34664459  9.3477811 ]\n",
      "[ 9.15        9.23        9.2         9.37        9.49        9.61\n",
      "  9.56       10.02       10.          9.63        9.39        9.38\n",
      "  9.4         9.66302003  9.72944731  9.6183554   9.73745531  9.67823961\n",
      "  9.48365312  9.3685143   9.49751298  9.52138561  9.5809878   9.67857288\n",
      "  9.74648978  9.76688059  9.75574876  9.7596294   9.67182379  9.6259082\n",
      "  9.5790709   9.55068709  9.62030455  9.7081887   9.67905784  9.61183009\n",
      "  9.59759082  9.54779604  9.41960192  9.34664459  9.3477811   9.38499852]\n",
      "[ 9.23        9.2         9.37        9.49        9.61        9.56\n",
      " 10.02       10.          9.63        9.39        9.38        9.4\n",
      "  9.66302003  9.72944731  9.6183554   9.73745531  9.67823961  9.48365312\n",
      "  9.3685143   9.49751298  9.52138561  9.5809878   9.67857288  9.74648978\n",
      "  9.76688059  9.75574876  9.7596294   9.67182379  9.6259082   9.5790709\n",
      "  9.55068709  9.62030455  9.7081887   9.67905784  9.61183009  9.59759082\n",
      "  9.54779604  9.41960192  9.34664459  9.3477811   9.38499852  9.36830018]\n",
      "[ 9.2         9.37        9.49        9.61        9.56       10.02\n",
      " 10.          9.63        9.39        9.38        9.4         9.66302003\n",
      "  9.72944731  9.6183554   9.73745531  9.67823961  9.48365312  9.3685143\n",
      "  9.49751298  9.52138561  9.5809878   9.67857288  9.74648978  9.76688059\n",
      "  9.75574876  9.7596294   9.67182379  9.6259082   9.5790709   9.55068709\n",
      "  9.62030455  9.7081887   9.67905784  9.61183009  9.59759082  9.54779604\n",
      "  9.41960192  9.34664459  9.3477811   9.38499852  9.36830018  9.40423709]\n",
      "[ 9.37        9.49        9.61        9.56       10.02       10.\n",
      "  9.63        9.39        9.38        9.4         9.66302003  9.72944731\n",
      "  9.6183554   9.73745531  9.67823961  9.48365312  9.3685143   9.49751298\n",
      "  9.52138561  9.5809878   9.67857288  9.74648978  9.76688059  9.75574876\n",
      "  9.7596294   9.67182379  9.6259082   9.5790709   9.55068709  9.62030455\n",
      "  9.7081887   9.67905784  9.61183009  9.59759082  9.54779604  9.41960192\n",
      "  9.34664459  9.3477811   9.38499852  9.36830018  9.40423709  9.36096609]\n",
      "[ 9.49        9.61        9.56       10.02       10.          9.63\n",
      "  9.39        9.38        9.4         9.66302003  9.72944731  9.6183554\n",
      "  9.73745531  9.67823961  9.48365312  9.3685143   9.49751298  9.52138561\n",
      "  9.5809878   9.67857288  9.74648978  9.76688059  9.75574876  9.7596294\n",
      "  9.67182379  9.6259082   9.5790709   9.55068709  9.62030455  9.7081887\n",
      "  9.67905784  9.61183009  9.59759082  9.54779604  9.41960192  9.34664459\n",
      "  9.3477811   9.38499852  9.36830018  9.40423709  9.36096609  9.30755429]\n",
      "[ 9.61        9.56       10.02       10.          9.63        9.39\n",
      "  9.38        9.4         9.66302003  9.72944731  9.6183554   9.73745531\n",
      "  9.67823961  9.48365312  9.3685143   9.49751298  9.52138561  9.5809878\n",
      "  9.67857288  9.74648978  9.76688059  9.75574876  9.7596294   9.67182379\n",
      "  9.6259082   9.5790709   9.55068709  9.62030455  9.7081887   9.67905784\n",
      "  9.61183009  9.59759082  9.54779604  9.41960192  9.34664459  9.3477811\n",
      "  9.38499852  9.36830018  9.40423709  9.36096609  9.30755429  9.2876856 ]\n",
      "[ 9.56       10.02       10.          9.63        9.39        9.38\n",
      "  9.4         9.66302003  9.72944731  9.6183554   9.73745531  9.67823961\n",
      "  9.48365312  9.3685143   9.49751298  9.52138561  9.5809878   9.67857288\n",
      "  9.74648978  9.76688059  9.75574876  9.7596294   9.67182379  9.6259082\n",
      "  9.5790709   9.55068709  9.62030455  9.7081887   9.67905784  9.61183009\n",
      "  9.59759082  9.54779604  9.41960192  9.34664459  9.3477811   9.38499852\n",
      "  9.36830018  9.40423709  9.36096609  9.30755429  9.2876856   9.22200455]\n",
      "[10.02       10.          9.63        9.39        9.38        9.4\n",
      "  9.66302003  9.72944731  9.6183554   9.73745531  9.67823961  9.48365312\n",
      "  9.3685143   9.49751298  9.52138561  9.5809878   9.67857288  9.74648978\n",
      "  9.76688059  9.75574876  9.7596294   9.67182379  9.6259082   9.5790709\n",
      "  9.55068709  9.62030455  9.7081887   9.67905784  9.61183009  9.59759082\n",
      "  9.54779604  9.41960192  9.34664459  9.3477811   9.38499852  9.36830018\n",
      "  9.40423709  9.36096609  9.30755429  9.2876856   9.22200455  9.10838804]\n",
      "[10.          9.63        9.39        9.38        9.4         9.66302003\n",
      "  9.72944731  9.6183554   9.73745531  9.67823961  9.48365312  9.3685143\n",
      "  9.49751298  9.52138561  9.5809878   9.67857288  9.74648978  9.76688059\n",
      "  9.75574876  9.7596294   9.67182379  9.6259082   9.5790709   9.55068709\n",
      "  9.62030455  9.7081887   9.67905784  9.61183009  9.59759082  9.54779604\n",
      "  9.41960192  9.34664459  9.3477811   9.38499852  9.36830018  9.40423709\n",
      "  9.36096609  9.30755429  9.2876856   9.22200455  9.10838804  9.12209808]\n",
      "[9.63       9.39       9.38       9.4        9.66302003 9.72944731\n",
      " 9.6183554  9.73745531 9.67823961 9.48365312 9.3685143  9.49751298\n",
      " 9.52138561 9.5809878  9.67857288 9.74648978 9.76688059 9.75574876\n",
      " 9.7596294  9.67182379 9.6259082  9.5790709  9.55068709 9.62030455\n",
      " 9.7081887  9.67905784 9.61183009 9.59759082 9.54779604 9.41960192\n",
      " 9.34664459 9.3477811  9.38499852 9.36830018 9.40423709 9.36096609\n",
      " 9.30755429 9.2876856  9.22200455 9.10838804 9.12209808 9.16121948]\n",
      "[9.39       9.38       9.4        9.66302003 9.72944731 9.6183554\n",
      " 9.73745531 9.67823961 9.48365312 9.3685143  9.49751298 9.52138561\n",
      " 9.5809878  9.67857288 9.74648978 9.76688059 9.75574876 9.7596294\n",
      " 9.67182379 9.6259082  9.5790709  9.55068709 9.62030455 9.7081887\n",
      " 9.67905784 9.61183009 9.59759082 9.54779604 9.41960192 9.34664459\n",
      " 9.3477811  9.38499852 9.36830018 9.40423709 9.36096609 9.30755429\n",
      " 9.2876856  9.22200455 9.10838804 9.12209808 9.16121948 9.11966731]\n"
     ]
    },
    {
     "name": "stderr",
     "output_type": "stream",
     "text": [
      "C:\\Users\\Administrator\\AppData\\Local\\Temp\\ipykernel_13136\\2176809018.py:5: DeprecationWarning:\n",
      "\n",
      "Conversion of an array with ndim > 0 to a scalar is deprecated, and will error in future. Ensure you extract a single element from your array before performing this operation. (Deprecated NumPy 1.25.)\n",
      "\n",
      "C:\\Users\\Administrator\\AppData\\Local\\Temp\\ipykernel_13136\\2176809018.py:5: DeprecationWarning:\n",
      "\n",
      "Conversion of an array with ndim > 0 to a scalar is deprecated, and will error in future. Ensure you extract a single element from your array before performing this operation. (Deprecated NumPy 1.25.)\n",
      "\n",
      "C:\\Users\\Administrator\\AppData\\Local\\Temp\\ipykernel_13136\\2176809018.py:5: DeprecationWarning:\n",
      "\n",
      "Conversion of an array with ndim > 0 to a scalar is deprecated, and will error in future. Ensure you extract a single element from your array before performing this operation. (Deprecated NumPy 1.25.)\n",
      "\n",
      "C:\\Users\\Administrator\\AppData\\Local\\Temp\\ipykernel_13136\\2176809018.py:5: DeprecationWarning:\n",
      "\n",
      "Conversion of an array with ndim > 0 to a scalar is deprecated, and will error in future. Ensure you extract a single element from your array before performing this operation. (Deprecated NumPy 1.25.)\n",
      "\n",
      "C:\\Users\\Administrator\\AppData\\Local\\Temp\\ipykernel_13136\\2176809018.py:5: DeprecationWarning:\n",
      "\n",
      "Conversion of an array with ndim > 0 to a scalar is deprecated, and will error in future. Ensure you extract a single element from your array before performing this operation. (Deprecated NumPy 1.25.)\n",
      "\n",
      "C:\\Users\\Administrator\\AppData\\Local\\Temp\\ipykernel_13136\\2176809018.py:5: DeprecationWarning:\n",
      "\n",
      "Conversion of an array with ndim > 0 to a scalar is deprecated, and will error in future. Ensure you extract a single element from your array before performing this operation. (Deprecated NumPy 1.25.)\n",
      "\n",
      "C:\\Users\\Administrator\\AppData\\Local\\Temp\\ipykernel_13136\\2176809018.py:5: DeprecationWarning:\n",
      "\n",
      "Conversion of an array with ndim > 0 to a scalar is deprecated, and will error in future. Ensure you extract a single element from your array before performing this operation. (Deprecated NumPy 1.25.)\n",
      "\n",
      "C:\\Users\\Administrator\\AppData\\Local\\Temp\\ipykernel_13136\\2176809018.py:5: DeprecationWarning:\n",
      "\n",
      "Conversion of an array with ndim > 0 to a scalar is deprecated, and will error in future. Ensure you extract a single element from your array before performing this operation. (Deprecated NumPy 1.25.)\n",
      "\n",
      "C:\\Users\\Administrator\\AppData\\Local\\Temp\\ipykernel_13136\\2176809018.py:5: DeprecationWarning:\n",
      "\n",
      "Conversion of an array with ndim > 0 to a scalar is deprecated, and will error in future. Ensure you extract a single element from your array before performing this operation. (Deprecated NumPy 1.25.)\n",
      "\n",
      "C:\\Users\\Administrator\\AppData\\Local\\Temp\\ipykernel_13136\\2176809018.py:5: DeprecationWarning:\n",
      "\n",
      "Conversion of an array with ndim > 0 to a scalar is deprecated, and will error in future. Ensure you extract a single element from your array before performing this operation. (Deprecated NumPy 1.25.)\n",
      "\n",
      "C:\\Users\\Administrator\\AppData\\Local\\Temp\\ipykernel_13136\\2176809018.py:5: DeprecationWarning:\n",
      "\n",
      "Conversion of an array with ndim > 0 to a scalar is deprecated, and will error in future. Ensure you extract a single element from your array before performing this operation. (Deprecated NumPy 1.25.)\n",
      "\n",
      "C:\\Users\\Administrator\\AppData\\Local\\Temp\\ipykernel_13136\\2176809018.py:5: DeprecationWarning:\n",
      "\n",
      "Conversion of an array with ndim > 0 to a scalar is deprecated, and will error in future. Ensure you extract a single element from your array before performing this operation. (Deprecated NumPy 1.25.)\n",
      "\n",
      "C:\\Users\\Administrator\\AppData\\Local\\Temp\\ipykernel_13136\\2176809018.py:5: DeprecationWarning:\n",
      "\n",
      "Conversion of an array with ndim > 0 to a scalar is deprecated, and will error in future. Ensure you extract a single element from your array before performing this operation. (Deprecated NumPy 1.25.)\n",
      "\n",
      "C:\\Users\\Administrator\\AppData\\Local\\Temp\\ipykernel_13136\\2176809018.py:5: DeprecationWarning:\n",
      "\n",
      "Conversion of an array with ndim > 0 to a scalar is deprecated, and will error in future. Ensure you extract a single element from your array before performing this operation. (Deprecated NumPy 1.25.)\n",
      "\n",
      "C:\\Users\\Administrator\\AppData\\Local\\Temp\\ipykernel_13136\\2176809018.py:5: DeprecationWarning:\n",
      "\n",
      "Conversion of an array with ndim > 0 to a scalar is deprecated, and will error in future. Ensure you extract a single element from your array before performing this operation. (Deprecated NumPy 1.25.)\n",
      "\n",
      "C:\\Users\\Administrator\\AppData\\Local\\Temp\\ipykernel_13136\\2176809018.py:5: DeprecationWarning:\n",
      "\n",
      "Conversion of an array with ndim > 0 to a scalar is deprecated, and will error in future. Ensure you extract a single element from your array before performing this operation. (Deprecated NumPy 1.25.)\n",
      "\n",
      "C:\\Users\\Administrator\\AppData\\Local\\Temp\\ipykernel_13136\\2176809018.py:5: DeprecationWarning:\n",
      "\n",
      "Conversion of an array with ndim > 0 to a scalar is deprecated, and will error in future. Ensure you extract a single element from your array before performing this operation. (Deprecated NumPy 1.25.)\n",
      "\n",
      "C:\\Users\\Administrator\\AppData\\Local\\Temp\\ipykernel_13136\\2176809018.py:5: DeprecationWarning:\n",
      "\n",
      "Conversion of an array with ndim > 0 to a scalar is deprecated, and will error in future. Ensure you extract a single element from your array before performing this operation. (Deprecated NumPy 1.25.)\n",
      "\n",
      "C:\\Users\\Administrator\\AppData\\Local\\Temp\\ipykernel_13136\\2176809018.py:5: DeprecationWarning:\n",
      "\n",
      "Conversion of an array with ndim > 0 to a scalar is deprecated, and will error in future. Ensure you extract a single element from your array before performing this operation. (Deprecated NumPy 1.25.)\n",
      "\n",
      "C:\\Users\\Administrator\\AppData\\Local\\Temp\\ipykernel_13136\\2176809018.py:5: DeprecationWarning:\n",
      "\n",
      "Conversion of an array with ndim > 0 to a scalar is deprecated, and will error in future. Ensure you extract a single element from your array before performing this operation. (Deprecated NumPy 1.25.)\n",
      "\n",
      "C:\\Users\\Administrator\\AppData\\Local\\Temp\\ipykernel_13136\\2176809018.py:5: DeprecationWarning:\n",
      "\n",
      "Conversion of an array with ndim > 0 to a scalar is deprecated, and will error in future. Ensure you extract a single element from your array before performing this operation. (Deprecated NumPy 1.25.)\n",
      "\n",
      "C:\\Users\\Administrator\\AppData\\Local\\Temp\\ipykernel_13136\\2176809018.py:5: DeprecationWarning:\n",
      "\n",
      "Conversion of an array with ndim > 0 to a scalar is deprecated, and will error in future. Ensure you extract a single element from your array before performing this operation. (Deprecated NumPy 1.25.)\n",
      "\n",
      "C:\\Users\\Administrator\\AppData\\Local\\Temp\\ipykernel_13136\\2176809018.py:5: DeprecationWarning:\n",
      "\n",
      "Conversion of an array with ndim > 0 to a scalar is deprecated, and will error in future. Ensure you extract a single element from your array before performing this operation. (Deprecated NumPy 1.25.)\n",
      "\n",
      "C:\\Users\\Administrator\\AppData\\Local\\Temp\\ipykernel_13136\\2176809018.py:5: DeprecationWarning:\n",
      "\n",
      "Conversion of an array with ndim > 0 to a scalar is deprecated, and will error in future. Ensure you extract a single element from your array before performing this operation. (Deprecated NumPy 1.25.)\n",
      "\n",
      "C:\\Users\\Administrator\\AppData\\Local\\Temp\\ipykernel_13136\\2176809018.py:5: DeprecationWarning:\n",
      "\n",
      "Conversion of an array with ndim > 0 to a scalar is deprecated, and will error in future. Ensure you extract a single element from your array before performing this operation. (Deprecated NumPy 1.25.)\n",
      "\n",
      "C:\\Users\\Administrator\\AppData\\Local\\Temp\\ipykernel_13136\\2176809018.py:5: DeprecationWarning:\n",
      "\n",
      "Conversion of an array with ndim > 0 to a scalar is deprecated, and will error in future. Ensure you extract a single element from your array before performing this operation. (Deprecated NumPy 1.25.)\n",
      "\n",
      "C:\\Users\\Administrator\\AppData\\Local\\Temp\\ipykernel_13136\\2176809018.py:5: DeprecationWarning:\n",
      "\n",
      "Conversion of an array with ndim > 0 to a scalar is deprecated, and will error in future. Ensure you extract a single element from your array before performing this operation. (Deprecated NumPy 1.25.)\n",
      "\n",
      "C:\\Users\\Administrator\\AppData\\Local\\Temp\\ipykernel_13136\\2176809018.py:5: DeprecationWarning:\n",
      "\n",
      "Conversion of an array with ndim > 0 to a scalar is deprecated, and will error in future. Ensure you extract a single element from your array before performing this operation. (Deprecated NumPy 1.25.)\n",
      "\n",
      "C:\\Users\\Administrator\\AppData\\Local\\Temp\\ipykernel_13136\\2176809018.py:5: DeprecationWarning:\n",
      "\n",
      "Conversion of an array with ndim > 0 to a scalar is deprecated, and will error in future. Ensure you extract a single element from your array before performing this operation. (Deprecated NumPy 1.25.)\n",
      "\n",
      "C:\\Users\\Administrator\\AppData\\Local\\Temp\\ipykernel_13136\\2176809018.py:5: DeprecationWarning:\n",
      "\n",
      "Conversion of an array with ndim > 0 to a scalar is deprecated, and will error in future. Ensure you extract a single element from your array before performing this operation. (Deprecated NumPy 1.25.)\n",
      "\n",
      "C:\\Users\\Administrator\\AppData\\Local\\Temp\\ipykernel_13136\\2176809018.py:5: DeprecationWarning:\n",
      "\n",
      "Conversion of an array with ndim > 0 to a scalar is deprecated, and will error in future. Ensure you extract a single element from your array before performing this operation. (Deprecated NumPy 1.25.)\n",
      "\n",
      "C:\\Users\\Administrator\\AppData\\Local\\Temp\\ipykernel_13136\\2176809018.py:5: DeprecationWarning:\n",
      "\n",
      "Conversion of an array with ndim > 0 to a scalar is deprecated, and will error in future. Ensure you extract a single element from your array before performing this operation. (Deprecated NumPy 1.25.)\n",
      "\n",
      "C:\\Users\\Administrator\\AppData\\Local\\Temp\\ipykernel_13136\\2176809018.py:5: DeprecationWarning:\n",
      "\n",
      "Conversion of an array with ndim > 0 to a scalar is deprecated, and will error in future. Ensure you extract a single element from your array before performing this operation. (Deprecated NumPy 1.25.)\n",
      "\n",
      "C:\\Users\\Administrator\\AppData\\Local\\Temp\\ipykernel_13136\\2176809018.py:5: DeprecationWarning:\n",
      "\n",
      "Conversion of an array with ndim > 0 to a scalar is deprecated, and will error in future. Ensure you extract a single element from your array before performing this operation. (Deprecated NumPy 1.25.)\n",
      "\n",
      "C:\\Users\\Administrator\\AppData\\Local\\Temp\\ipykernel_13136\\2176809018.py:5: DeprecationWarning:\n",
      "\n",
      "Conversion of an array with ndim > 0 to a scalar is deprecated, and will error in future. Ensure you extract a single element from your array before performing this operation. (Deprecated NumPy 1.25.)\n",
      "\n",
      "C:\\Users\\Administrator\\AppData\\Local\\Temp\\ipykernel_13136\\2176809018.py:5: DeprecationWarning:\n",
      "\n",
      "Conversion of an array with ndim > 0 to a scalar is deprecated, and will error in future. Ensure you extract a single element from your array before performing this operation. (Deprecated NumPy 1.25.)\n",
      "\n",
      "C:\\Users\\Administrator\\AppData\\Local\\Temp\\ipykernel_13136\\2176809018.py:5: DeprecationWarning:\n",
      "\n",
      "Conversion of an array with ndim > 0 to a scalar is deprecated, and will error in future. Ensure you extract a single element from your array before performing this operation. (Deprecated NumPy 1.25.)\n",
      "\n",
      "C:\\Users\\Administrator\\AppData\\Local\\Temp\\ipykernel_13136\\2176809018.py:5: DeprecationWarning:\n",
      "\n",
      "Conversion of an array with ndim > 0 to a scalar is deprecated, and will error in future. Ensure you extract a single element from your array before performing this operation. (Deprecated NumPy 1.25.)\n",
      "\n",
      "C:\\Users\\Administrator\\AppData\\Local\\Temp\\ipykernel_13136\\2176809018.py:5: DeprecationWarning:\n",
      "\n",
      "Conversion of an array with ndim > 0 to a scalar is deprecated, and will error in future. Ensure you extract a single element from your array before performing this operation. (Deprecated NumPy 1.25.)\n",
      "\n",
      "C:\\Users\\Administrator\\AppData\\Local\\Temp\\ipykernel_13136\\2176809018.py:5: DeprecationWarning:\n",
      "\n",
      "Conversion of an array with ndim > 0 to a scalar is deprecated, and will error in future. Ensure you extract a single element from your array before performing this operation. (Deprecated NumPy 1.25.)\n",
      "\n"
     ]
    },
    {
     "data": {
      "text/plain": [
       "array([9.66302003, 9.72944731, 9.6183554 , 9.73745531, 9.67823961,\n",
       "       9.48365312, 9.3685143 , 9.49751298, 9.52138561, 9.5809878 ,\n",
       "       9.67857288, 9.74648978, 9.76688059, 9.75574876, 9.7596294 ,\n",
       "       9.67182379, 9.6259082 , 9.5790709 , 9.55068709, 9.62030455,\n",
       "       9.7081887 , 9.67905784, 9.61183009, 9.59759082, 9.54779604,\n",
       "       9.41960192, 9.34664459, 9.3477811 , 9.38499852, 9.36830018,\n",
       "       9.40423709, 9.36096609, 9.30755429, 9.2876856 , 9.22200455,\n",
       "       9.10838804, 9.12209808, 9.16121948, 9.11966731, 9.1528346 ])"
      ]
     },
     "execution_count": 221,
     "metadata": {},
     "output_type": "execute_result"
    }
   ],
   "source": [
    "for i in range(0,projection):\n",
    "    print(data_projection)\n",
    "    test_Akcay=ridge.predict(data_projection.reshape(1,-1))\n",
    "    data_projection = np.roll(data_projection, -1)\n",
    "    data_projection[-1] = test_Akcay[0]\n",
    "data_projection[-projection:]"
   ]
  },
  {
   "cell_type": "code",
   "execution_count": 222,
   "id": "608224ff",
   "metadata": {},
   "outputs": [],
   "source": [
    "arr_scaled=np.array(data_projection_control).reshape(-1,1)"
   ]
  },
  {
   "cell_type": "code",
   "execution_count": 223,
   "id": "e2b8118c",
   "metadata": {},
   "outputs": [],
   "source": [
    "data_projection_scaled=np.array(data_projection[-projection:]).reshape(-1,1)"
   ]
  },
  {
   "cell_type": "code",
   "execution_count": 224,
   "id": "e786754c",
   "metadata": {},
   "outputs": [],
   "source": [
    "final_arr = np.concatenate((np.squeeze(data_projection_control), np.squeeze(data_projection_scaled)))"
   ]
  },
  {
   "cell_type": "code",
   "execution_count": 225,
   "id": "d767cc3b",
   "metadata": {},
   "outputs": [],
   "source": [
    "import pandas as pd\n",
    "from pandas.tseries.offsets import DateOffset\n",
    "\n",
    "# Get the start date from the DataFrame\n",
    "start_date = df_final.iloc[-1][\"Tarih\"]\n",
    "# Calculate the end date by adding projection and window_size\n",
    "end_date = start_date + DateOffset(days=(projection+2*(projection//5)))\n",
    "\n",
    "# Create a date range\n",
    "date_range = pd.date_range(start=start_date, end=end_date)\n",
    "\n",
    "# Filter out weekends and ensure the length is len(final_arr)\n",
    "weekdays = date_range[date_range.dayofweek < 5][:len(final_arr)]\n",
    "\n",
    "# Remove the start date from the weekdays if it's present\n",
    "if len(weekdays) > 0 and weekdays[0] == start_date:\n",
    "    weekdays = weekdays[1:]\n",
    "\n",
    "# Create a DataFrame with the date data\n",
    "df_dates = pd.DataFrame({'Tarih': weekdays})"
   ]
  },
  {
   "cell_type": "code",
   "execution_count": 226,
   "id": "2389e859",
   "metadata": {},
   "outputs": [],
   "source": [
    "df_final_subset = df_final.iloc[-(window_size):][\"Tarih\"]\n",
    "df_final_subset = df_final_subset.to_frame()\n",
    "\n",
    "# Concatenate df_final_subset and df_dates along rows\n",
    "df_res = pd.concat([df_final_subset, df_dates], ignore_index=True)"
   ]
  },
  {
   "cell_type": "code",
   "execution_count": 227,
   "id": "298149bb",
   "metadata": {},
   "outputs": [],
   "source": [
    "df_res.insert(1, \"Values\", final_arr, True)"
   ]
  },
  {
   "cell_type": "code",
   "execution_count": 228,
   "id": "8d7a6661",
   "metadata": {},
   "outputs": [
    {
     "data": {
      "application/vnd.plotly.v1+json": {
       "config": {
        "linkText": "Export to plot.ly",
        "plotlyServerURL": "https://plot.ly",
        "showLink": false
       },
       "data": [
        {
         "line": {
          "color": "blue"
         },
         "mode": "markers",
         "name": "Geçmiş ODAS Verileri",
         "type": "scatter",
         "x": [
          "2024-03-06T00:00:00",
          "2024-03-07T00:00:00",
          "2024-03-08T00:00:00",
          "2024-03-11T00:00:00",
          "2024-03-12T00:00:00",
          "2024-03-13T00:00:00",
          "2024-03-14T00:00:00",
          "2024-03-15T00:00:00",
          "2024-03-18T00:00:00",
          "2024-03-19T00:00:00",
          "2024-03-20T00:00:00",
          "2024-03-21T00:00:00",
          "2024-03-22T00:00:00",
          "2024-03-25T00:00:00",
          "2024-03-26T00:00:00",
          "2024-03-27T00:00:00",
          "2024-03-28T00:00:00",
          "2024-03-29T00:00:00",
          "2024-04-01T00:00:00",
          "2024-04-02T00:00:00",
          "2024-04-03T00:00:00",
          "2024-04-04T00:00:00",
          "2024-04-05T00:00:00",
          "2024-04-08T00:00:00",
          "2024-04-09T00:00:00",
          "2024-04-15T00:00:00",
          "2024-04-16T00:00:00",
          "2024-04-17T00:00:00",
          "2024-04-18T00:00:00",
          "2024-04-19T00:00:00",
          "2024-04-22T00:00:00",
          "2024-04-24T00:00:00",
          "2024-04-25T00:00:00",
          "2024-04-26T00:00:00",
          "2024-04-29T00:00:00",
          "2024-04-30T00:00:00",
          "2024-05-02T00:00:00",
          "2024-05-03T00:00:00",
          "2024-05-06T00:00:00",
          "2024-05-07T00:00:00",
          "2024-05-08T00:00:00",
          "2024-05-09T00:00:00"
         ],
         "y": [
          10.25,
          10.68,
          10.59,
          10.42,
          10.14,
          9.76,
          9.96,
          9.65,
          9.27,
          9.29,
          9.27,
          9.05,
          8.87,
          9.41,
          8.85,
          8.69,
          8.91,
          9.17,
          8.89,
          8.62,
          8.28,
          8.14,
          8.73,
          9.01,
          9.25,
          9.41,
          9.27,
          9.03,
          9.13,
          9.15,
          9.23,
          9.2,
          9.37,
          9.49,
          9.61,
          9.56,
          10.02,
          10,
          9.63,
          9.39,
          9.38,
          9.4
         ]
        },
        {
         "line": {
          "color": "red"
         },
         "mode": "markers",
         "name": "40 Günlük ODAS Tahmin",
         "type": "scatter",
         "x": [
          "2024-05-10T00:00:00",
          "2024-05-13T00:00:00",
          "2024-05-14T00:00:00",
          "2024-05-15T00:00:00",
          "2024-05-16T00:00:00",
          "2024-05-17T00:00:00",
          "2024-05-20T00:00:00",
          "2024-05-21T00:00:00",
          "2024-05-22T00:00:00",
          "2024-05-23T00:00:00",
          "2024-05-24T00:00:00",
          "2024-05-27T00:00:00",
          "2024-05-28T00:00:00",
          "2024-05-29T00:00:00",
          "2024-05-30T00:00:00",
          "2024-05-31T00:00:00",
          "2024-06-03T00:00:00",
          "2024-06-04T00:00:00",
          "2024-06-05T00:00:00",
          "2024-06-06T00:00:00",
          "2024-06-07T00:00:00",
          "2024-06-10T00:00:00",
          "2024-06-11T00:00:00",
          "2024-06-12T00:00:00",
          "2024-06-13T00:00:00",
          "2024-06-14T00:00:00",
          "2024-06-17T00:00:00",
          "2024-06-18T00:00:00",
          "2024-06-19T00:00:00",
          "2024-06-20T00:00:00",
          "2024-06-21T00:00:00",
          "2024-06-24T00:00:00",
          "2024-06-25T00:00:00",
          "2024-06-26T00:00:00",
          "2024-06-27T00:00:00",
          "2024-06-28T00:00:00",
          "2024-07-01T00:00:00",
          "2024-07-02T00:00:00",
          "2024-07-03T00:00:00",
          "2024-07-04T00:00:00"
         ],
         "y": [
          9.663020034154012,
          9.72944731113102,
          9.618355395937588,
          9.737455307919909,
          9.678239613606396,
          9.483653123739979,
          9.368514299179663,
          9.497512978203845,
          9.521385607165254,
          9.580987796016206,
          9.67857287598838,
          9.746489781122746,
          9.766880590930445,
          9.755748762743046,
          9.759629401977183,
          9.671823793941702,
          9.625908201558499,
          9.57907090355561,
          9.550687090016318,
          9.620304553882294,
          9.708188702554986,
          9.679057839278308,
          9.611830092090697,
          9.59759082026842,
          9.54779604022889,
          9.41960191908482,
          9.3466445882934,
          9.347781099270618,
          9.384998523653476,
          9.368300182089357,
          9.404237086845901,
          9.360966090815747,
          9.307554294565557,
          9.287685596296791,
          9.222004549176972,
          9.108388039614436,
          9.122098076694542,
          9.16121947535689,
          9.119667305415023,
          9.152834598127635
         ]
        },
        {
         "line": {
          "color": "yellow"
         },
         "mode": "lines",
         "name": "ODAS Fiyat Tahmin+Gerçek",
         "type": "scatter",
         "x": [
          "2024-03-06T00:00:00",
          "2024-03-07T00:00:00",
          "2024-03-08T00:00:00",
          "2024-03-11T00:00:00",
          "2024-03-12T00:00:00",
          "2024-03-13T00:00:00",
          "2024-03-14T00:00:00",
          "2024-03-15T00:00:00",
          "2024-03-18T00:00:00",
          "2024-03-19T00:00:00",
          "2024-03-20T00:00:00",
          "2024-03-21T00:00:00",
          "2024-03-22T00:00:00",
          "2024-03-25T00:00:00",
          "2024-03-26T00:00:00",
          "2024-03-27T00:00:00",
          "2024-03-28T00:00:00",
          "2024-03-29T00:00:00",
          "2024-04-01T00:00:00",
          "2024-04-02T00:00:00",
          "2024-04-03T00:00:00",
          "2024-04-04T00:00:00",
          "2024-04-05T00:00:00",
          "2024-04-08T00:00:00",
          "2024-04-09T00:00:00",
          "2024-04-15T00:00:00",
          "2024-04-16T00:00:00",
          "2024-04-17T00:00:00",
          "2024-04-18T00:00:00",
          "2024-04-19T00:00:00",
          "2024-04-22T00:00:00",
          "2024-04-24T00:00:00",
          "2024-04-25T00:00:00",
          "2024-04-26T00:00:00",
          "2024-04-29T00:00:00",
          "2024-04-30T00:00:00",
          "2024-05-02T00:00:00",
          "2024-05-03T00:00:00",
          "2024-05-06T00:00:00",
          "2024-05-07T00:00:00",
          "2024-05-08T00:00:00",
          "2024-05-09T00:00:00",
          "2024-05-10T00:00:00",
          "2024-05-13T00:00:00",
          "2024-05-14T00:00:00",
          "2024-05-15T00:00:00",
          "2024-05-16T00:00:00",
          "2024-05-17T00:00:00",
          "2024-05-20T00:00:00",
          "2024-05-21T00:00:00",
          "2024-05-22T00:00:00",
          "2024-05-23T00:00:00",
          "2024-05-24T00:00:00",
          "2024-05-27T00:00:00",
          "2024-05-28T00:00:00",
          "2024-05-29T00:00:00",
          "2024-05-30T00:00:00",
          "2024-05-31T00:00:00",
          "2024-06-03T00:00:00",
          "2024-06-04T00:00:00",
          "2024-06-05T00:00:00",
          "2024-06-06T00:00:00",
          "2024-06-07T00:00:00",
          "2024-06-10T00:00:00",
          "2024-06-11T00:00:00",
          "2024-06-12T00:00:00",
          "2024-06-13T00:00:00",
          "2024-06-14T00:00:00",
          "2024-06-17T00:00:00",
          "2024-06-18T00:00:00",
          "2024-06-19T00:00:00",
          "2024-06-20T00:00:00",
          "2024-06-21T00:00:00",
          "2024-06-24T00:00:00",
          "2024-06-25T00:00:00",
          "2024-06-26T00:00:00",
          "2024-06-27T00:00:00",
          "2024-06-28T00:00:00",
          "2024-07-01T00:00:00",
          "2024-07-02T00:00:00",
          "2024-07-03T00:00:00",
          "2024-07-04T00:00:00"
         ],
         "y": [
          10.25,
          10.68,
          10.59,
          10.42,
          10.14,
          9.76,
          9.96,
          9.65,
          9.27,
          9.29,
          9.27,
          9.05,
          8.87,
          9.41,
          8.85,
          8.69,
          8.91,
          9.17,
          8.89,
          8.62,
          8.28,
          8.14,
          8.73,
          9.01,
          9.25,
          9.41,
          9.27,
          9.03,
          9.13,
          9.15,
          9.23,
          9.2,
          9.37,
          9.49,
          9.61,
          9.56,
          10.02,
          10,
          9.63,
          9.39,
          9.38,
          9.4,
          9.663020034154012,
          9.72944731113102,
          9.618355395937588,
          9.737455307919909,
          9.678239613606396,
          9.483653123739979,
          9.368514299179663,
          9.497512978203845,
          9.521385607165254,
          9.580987796016206,
          9.67857287598838,
          9.746489781122746,
          9.766880590930445,
          9.755748762743046,
          9.759629401977183,
          9.671823793941702,
          9.625908201558499,
          9.57907090355561,
          9.550687090016318,
          9.620304553882294,
          9.708188702554986,
          9.679057839278308,
          9.611830092090697,
          9.59759082026842,
          9.54779604022889,
          9.41960191908482,
          9.3466445882934,
          9.347781099270618,
          9.384998523653476,
          9.368300182089357,
          9.404237086845901,
          9.360966090815747,
          9.307554294565557,
          9.287685596296791,
          9.222004549176972,
          9.108388039614436,
          9.122098076694542,
          9.16121947535689,
          9.119667305415023,
          9.152834598127635
         ]
        }
       ],
       "layout": {
        "legend": {
         "x": 0,
         "y": 1
        },
        "template": {
         "data": {
          "bar": [
           {
            "error_x": {
             "color": "#2a3f5f"
            },
            "error_y": {
             "color": "#2a3f5f"
            },
            "marker": {
             "line": {
              "color": "#E5ECF6",
              "width": 0.5
             },
             "pattern": {
              "fillmode": "overlay",
              "size": 10,
              "solidity": 0.2
             }
            },
            "type": "bar"
           }
          ],
          "barpolar": [
           {
            "marker": {
             "line": {
              "color": "#E5ECF6",
              "width": 0.5
             },
             "pattern": {
              "fillmode": "overlay",
              "size": 10,
              "solidity": 0.2
             }
            },
            "type": "barpolar"
           }
          ],
          "carpet": [
           {
            "aaxis": {
             "endlinecolor": "#2a3f5f",
             "gridcolor": "white",
             "linecolor": "white",
             "minorgridcolor": "white",
             "startlinecolor": "#2a3f5f"
            },
            "baxis": {
             "endlinecolor": "#2a3f5f",
             "gridcolor": "white",
             "linecolor": "white",
             "minorgridcolor": "white",
             "startlinecolor": "#2a3f5f"
            },
            "type": "carpet"
           }
          ],
          "choropleth": [
           {
            "colorbar": {
             "outlinewidth": 0,
             "ticks": ""
            },
            "type": "choropleth"
           }
          ],
          "contour": [
           {
            "colorbar": {
             "outlinewidth": 0,
             "ticks": ""
            },
            "colorscale": [
             [
              0,
              "#0d0887"
             ],
             [
              0.1111111111111111,
              "#46039f"
             ],
             [
              0.2222222222222222,
              "#7201a8"
             ],
             [
              0.3333333333333333,
              "#9c179e"
             ],
             [
              0.4444444444444444,
              "#bd3786"
             ],
             [
              0.5555555555555556,
              "#d8576b"
             ],
             [
              0.6666666666666666,
              "#ed7953"
             ],
             [
              0.7777777777777778,
              "#fb9f3a"
             ],
             [
              0.8888888888888888,
              "#fdca26"
             ],
             [
              1,
              "#f0f921"
             ]
            ],
            "type": "contour"
           }
          ],
          "contourcarpet": [
           {
            "colorbar": {
             "outlinewidth": 0,
             "ticks": ""
            },
            "type": "contourcarpet"
           }
          ],
          "heatmap": [
           {
            "colorbar": {
             "outlinewidth": 0,
             "ticks": ""
            },
            "colorscale": [
             [
              0,
              "#0d0887"
             ],
             [
              0.1111111111111111,
              "#46039f"
             ],
             [
              0.2222222222222222,
              "#7201a8"
             ],
             [
              0.3333333333333333,
              "#9c179e"
             ],
             [
              0.4444444444444444,
              "#bd3786"
             ],
             [
              0.5555555555555556,
              "#d8576b"
             ],
             [
              0.6666666666666666,
              "#ed7953"
             ],
             [
              0.7777777777777778,
              "#fb9f3a"
             ],
             [
              0.8888888888888888,
              "#fdca26"
             ],
             [
              1,
              "#f0f921"
             ]
            ],
            "type": "heatmap"
           }
          ],
          "heatmapgl": [
           {
            "colorbar": {
             "outlinewidth": 0,
             "ticks": ""
            },
            "colorscale": [
             [
              0,
              "#0d0887"
             ],
             [
              0.1111111111111111,
              "#46039f"
             ],
             [
              0.2222222222222222,
              "#7201a8"
             ],
             [
              0.3333333333333333,
              "#9c179e"
             ],
             [
              0.4444444444444444,
              "#bd3786"
             ],
             [
              0.5555555555555556,
              "#d8576b"
             ],
             [
              0.6666666666666666,
              "#ed7953"
             ],
             [
              0.7777777777777778,
              "#fb9f3a"
             ],
             [
              0.8888888888888888,
              "#fdca26"
             ],
             [
              1,
              "#f0f921"
             ]
            ],
            "type": "heatmapgl"
           }
          ],
          "histogram": [
           {
            "marker": {
             "pattern": {
              "fillmode": "overlay",
              "size": 10,
              "solidity": 0.2
             }
            },
            "type": "histogram"
           }
          ],
          "histogram2d": [
           {
            "colorbar": {
             "outlinewidth": 0,
             "ticks": ""
            },
            "colorscale": [
             [
              0,
              "#0d0887"
             ],
             [
              0.1111111111111111,
              "#46039f"
             ],
             [
              0.2222222222222222,
              "#7201a8"
             ],
             [
              0.3333333333333333,
              "#9c179e"
             ],
             [
              0.4444444444444444,
              "#bd3786"
             ],
             [
              0.5555555555555556,
              "#d8576b"
             ],
             [
              0.6666666666666666,
              "#ed7953"
             ],
             [
              0.7777777777777778,
              "#fb9f3a"
             ],
             [
              0.8888888888888888,
              "#fdca26"
             ],
             [
              1,
              "#f0f921"
             ]
            ],
            "type": "histogram2d"
           }
          ],
          "histogram2dcontour": [
           {
            "colorbar": {
             "outlinewidth": 0,
             "ticks": ""
            },
            "colorscale": [
             [
              0,
              "#0d0887"
             ],
             [
              0.1111111111111111,
              "#46039f"
             ],
             [
              0.2222222222222222,
              "#7201a8"
             ],
             [
              0.3333333333333333,
              "#9c179e"
             ],
             [
              0.4444444444444444,
              "#bd3786"
             ],
             [
              0.5555555555555556,
              "#d8576b"
             ],
             [
              0.6666666666666666,
              "#ed7953"
             ],
             [
              0.7777777777777778,
              "#fb9f3a"
             ],
             [
              0.8888888888888888,
              "#fdca26"
             ],
             [
              1,
              "#f0f921"
             ]
            ],
            "type": "histogram2dcontour"
           }
          ],
          "mesh3d": [
           {
            "colorbar": {
             "outlinewidth": 0,
             "ticks": ""
            },
            "type": "mesh3d"
           }
          ],
          "parcoords": [
           {
            "line": {
             "colorbar": {
              "outlinewidth": 0,
              "ticks": ""
             }
            },
            "type": "parcoords"
           }
          ],
          "pie": [
           {
            "automargin": true,
            "type": "pie"
           }
          ],
          "scatter": [
           {
            "fillpattern": {
             "fillmode": "overlay",
             "size": 10,
             "solidity": 0.2
            },
            "type": "scatter"
           }
          ],
          "scatter3d": [
           {
            "line": {
             "colorbar": {
              "outlinewidth": 0,
              "ticks": ""
             }
            },
            "marker": {
             "colorbar": {
              "outlinewidth": 0,
              "ticks": ""
             }
            },
            "type": "scatter3d"
           }
          ],
          "scattercarpet": [
           {
            "marker": {
             "colorbar": {
              "outlinewidth": 0,
              "ticks": ""
             }
            },
            "type": "scattercarpet"
           }
          ],
          "scattergeo": [
           {
            "marker": {
             "colorbar": {
              "outlinewidth": 0,
              "ticks": ""
             }
            },
            "type": "scattergeo"
           }
          ],
          "scattergl": [
           {
            "marker": {
             "colorbar": {
              "outlinewidth": 0,
              "ticks": ""
             }
            },
            "type": "scattergl"
           }
          ],
          "scattermapbox": [
           {
            "marker": {
             "colorbar": {
              "outlinewidth": 0,
              "ticks": ""
             }
            },
            "type": "scattermapbox"
           }
          ],
          "scatterpolar": [
           {
            "marker": {
             "colorbar": {
              "outlinewidth": 0,
              "ticks": ""
             }
            },
            "type": "scatterpolar"
           }
          ],
          "scatterpolargl": [
           {
            "marker": {
             "colorbar": {
              "outlinewidth": 0,
              "ticks": ""
             }
            },
            "type": "scatterpolargl"
           }
          ],
          "scatterternary": [
           {
            "marker": {
             "colorbar": {
              "outlinewidth": 0,
              "ticks": ""
             }
            },
            "type": "scatterternary"
           }
          ],
          "surface": [
           {
            "colorbar": {
             "outlinewidth": 0,
             "ticks": ""
            },
            "colorscale": [
             [
              0,
              "#0d0887"
             ],
             [
              0.1111111111111111,
              "#46039f"
             ],
             [
              0.2222222222222222,
              "#7201a8"
             ],
             [
              0.3333333333333333,
              "#9c179e"
             ],
             [
              0.4444444444444444,
              "#bd3786"
             ],
             [
              0.5555555555555556,
              "#d8576b"
             ],
             [
              0.6666666666666666,
              "#ed7953"
             ],
             [
              0.7777777777777778,
              "#fb9f3a"
             ],
             [
              0.8888888888888888,
              "#fdca26"
             ],
             [
              1,
              "#f0f921"
             ]
            ],
            "type": "surface"
           }
          ],
          "table": [
           {
            "cells": {
             "fill": {
              "color": "#EBF0F8"
             },
             "line": {
              "color": "white"
             }
            },
            "header": {
             "fill": {
              "color": "#C8D4E3"
             },
             "line": {
              "color": "white"
             }
            },
            "type": "table"
           }
          ]
         },
         "layout": {
          "annotationdefaults": {
           "arrowcolor": "#2a3f5f",
           "arrowhead": 0,
           "arrowwidth": 1
          },
          "autotypenumbers": "strict",
          "coloraxis": {
           "colorbar": {
            "outlinewidth": 0,
            "ticks": ""
           }
          },
          "colorscale": {
           "diverging": [
            [
             0,
             "#8e0152"
            ],
            [
             0.1,
             "#c51b7d"
            ],
            [
             0.2,
             "#de77ae"
            ],
            [
             0.3,
             "#f1b6da"
            ],
            [
             0.4,
             "#fde0ef"
            ],
            [
             0.5,
             "#f7f7f7"
            ],
            [
             0.6,
             "#e6f5d0"
            ],
            [
             0.7,
             "#b8e186"
            ],
            [
             0.8,
             "#7fbc41"
            ],
            [
             0.9,
             "#4d9221"
            ],
            [
             1,
             "#276419"
            ]
           ],
           "sequential": [
            [
             0,
             "#0d0887"
            ],
            [
             0.1111111111111111,
             "#46039f"
            ],
            [
             0.2222222222222222,
             "#7201a8"
            ],
            [
             0.3333333333333333,
             "#9c179e"
            ],
            [
             0.4444444444444444,
             "#bd3786"
            ],
            [
             0.5555555555555556,
             "#d8576b"
            ],
            [
             0.6666666666666666,
             "#ed7953"
            ],
            [
             0.7777777777777778,
             "#fb9f3a"
            ],
            [
             0.8888888888888888,
             "#fdca26"
            ],
            [
             1,
             "#f0f921"
            ]
           ],
           "sequentialminus": [
            [
             0,
             "#0d0887"
            ],
            [
             0.1111111111111111,
             "#46039f"
            ],
            [
             0.2222222222222222,
             "#7201a8"
            ],
            [
             0.3333333333333333,
             "#9c179e"
            ],
            [
             0.4444444444444444,
             "#bd3786"
            ],
            [
             0.5555555555555556,
             "#d8576b"
            ],
            [
             0.6666666666666666,
             "#ed7953"
            ],
            [
             0.7777777777777778,
             "#fb9f3a"
            ],
            [
             0.8888888888888888,
             "#fdca26"
            ],
            [
             1,
             "#f0f921"
            ]
           ]
          },
          "colorway": [
           "#636efa",
           "#EF553B",
           "#00cc96",
           "#ab63fa",
           "#FFA15A",
           "#19d3f3",
           "#FF6692",
           "#B6E880",
           "#FF97FF",
           "#FECB52"
          ],
          "font": {
           "color": "#2a3f5f"
          },
          "geo": {
           "bgcolor": "white",
           "lakecolor": "white",
           "landcolor": "#E5ECF6",
           "showlakes": true,
           "showland": true,
           "subunitcolor": "white"
          },
          "hoverlabel": {
           "align": "left"
          },
          "hovermode": "closest",
          "mapbox": {
           "style": "light"
          },
          "paper_bgcolor": "white",
          "plot_bgcolor": "#E5ECF6",
          "polar": {
           "angularaxis": {
            "gridcolor": "white",
            "linecolor": "white",
            "ticks": ""
           },
           "bgcolor": "#E5ECF6",
           "radialaxis": {
            "gridcolor": "white",
            "linecolor": "white",
            "ticks": ""
           }
          },
          "scene": {
           "xaxis": {
            "backgroundcolor": "#E5ECF6",
            "gridcolor": "white",
            "gridwidth": 2,
            "linecolor": "white",
            "showbackground": true,
            "ticks": "",
            "zerolinecolor": "white"
           },
           "yaxis": {
            "backgroundcolor": "#E5ECF6",
            "gridcolor": "white",
            "gridwidth": 2,
            "linecolor": "white",
            "showbackground": true,
            "ticks": "",
            "zerolinecolor": "white"
           },
           "zaxis": {
            "backgroundcolor": "#E5ECF6",
            "gridcolor": "white",
            "gridwidth": 2,
            "linecolor": "white",
            "showbackground": true,
            "ticks": "",
            "zerolinecolor": "white"
           }
          },
          "shapedefaults": {
           "line": {
            "color": "#2a3f5f"
           }
          },
          "ternary": {
           "aaxis": {
            "gridcolor": "white",
            "linecolor": "white",
            "ticks": ""
           },
           "baxis": {
            "gridcolor": "white",
            "linecolor": "white",
            "ticks": ""
           },
           "bgcolor": "#E5ECF6",
           "caxis": {
            "gridcolor": "white",
            "linecolor": "white",
            "ticks": ""
           }
          },
          "title": {
           "x": 0.05
          },
          "xaxis": {
           "automargin": true,
           "gridcolor": "white",
           "linecolor": "white",
           "ticks": "",
           "title": {
            "standoff": 15
           },
           "zerolinecolor": "white",
           "zerolinewidth": 2
          },
          "yaxis": {
           "automargin": true,
           "gridcolor": "white",
           "linecolor": "white",
           "ticks": "",
           "title": {
            "standoff": 15
           },
           "zerolinecolor": "white",
           "zerolinewidth": 2
          }
         }
        },
        "title": {
         "text": "40 Günlük ODAS Tarihsel Fiyat Tahminleri"
        },
        "xaxis": {
         "title": {
          "text": "Time"
         }
        },
        "yaxis": {
         "title": {
          "text": "ODAS Tarihsel Fiyat Bilgileri"
         }
        }
       }
      },
      "text/html": [
       "<div>                            <div id=\"ef53992f-7a58-4617-8f8c-f7616a1b00ca\" class=\"plotly-graph-div\" style=\"height:525px; width:100%;\"></div>            <script type=\"text/javascript\">                require([\"plotly\"], function(Plotly) {                    window.PLOTLYENV=window.PLOTLYENV || {};                                    if (document.getElementById(\"ef53992f-7a58-4617-8f8c-f7616a1b00ca\")) {                    Plotly.newPlot(                        \"ef53992f-7a58-4617-8f8c-f7616a1b00ca\",                        [{\"line\":{\"color\":\"blue\"},\"mode\":\"markers\",\"name\":\"Ge\\u00e7mi\\u015f ODAS Verileri\",\"x\":[\"2024-03-06T00:00:00\",\"2024-03-07T00:00:00\",\"2024-03-08T00:00:00\",\"2024-03-11T00:00:00\",\"2024-03-12T00:00:00\",\"2024-03-13T00:00:00\",\"2024-03-14T00:00:00\",\"2024-03-15T00:00:00\",\"2024-03-18T00:00:00\",\"2024-03-19T00:00:00\",\"2024-03-20T00:00:00\",\"2024-03-21T00:00:00\",\"2024-03-22T00:00:00\",\"2024-03-25T00:00:00\",\"2024-03-26T00:00:00\",\"2024-03-27T00:00:00\",\"2024-03-28T00:00:00\",\"2024-03-29T00:00:00\",\"2024-04-01T00:00:00\",\"2024-04-02T00:00:00\",\"2024-04-03T00:00:00\",\"2024-04-04T00:00:00\",\"2024-04-05T00:00:00\",\"2024-04-08T00:00:00\",\"2024-04-09T00:00:00\",\"2024-04-15T00:00:00\",\"2024-04-16T00:00:00\",\"2024-04-17T00:00:00\",\"2024-04-18T00:00:00\",\"2024-04-19T00:00:00\",\"2024-04-22T00:00:00\",\"2024-04-24T00:00:00\",\"2024-04-25T00:00:00\",\"2024-04-26T00:00:00\",\"2024-04-29T00:00:00\",\"2024-04-30T00:00:00\",\"2024-05-02T00:00:00\",\"2024-05-03T00:00:00\",\"2024-05-06T00:00:00\",\"2024-05-07T00:00:00\",\"2024-05-08T00:00:00\",\"2024-05-09T00:00:00\"],\"y\":[10.25,10.68,10.59,10.42,10.14,9.76,9.96,9.65,9.27,9.29,9.27,9.05,8.87,9.41,8.85,8.69,8.91,9.17,8.89,8.62,8.28,8.14,8.73,9.01,9.25,9.41,9.27,9.03,9.13,9.15,9.23,9.2,9.37,9.49,9.61,9.56,10.02,10.0,9.63,9.39,9.38,9.4],\"type\":\"scatter\"},{\"line\":{\"color\":\"red\"},\"mode\":\"markers\",\"name\":\"40 G\\u00fcnl\\u00fck ODAS Tahmin\",\"x\":[\"2024-05-10T00:00:00\",\"2024-05-13T00:00:00\",\"2024-05-14T00:00:00\",\"2024-05-15T00:00:00\",\"2024-05-16T00:00:00\",\"2024-05-17T00:00:00\",\"2024-05-20T00:00:00\",\"2024-05-21T00:00:00\",\"2024-05-22T00:00:00\",\"2024-05-23T00:00:00\",\"2024-05-24T00:00:00\",\"2024-05-27T00:00:00\",\"2024-05-28T00:00:00\",\"2024-05-29T00:00:00\",\"2024-05-30T00:00:00\",\"2024-05-31T00:00:00\",\"2024-06-03T00:00:00\",\"2024-06-04T00:00:00\",\"2024-06-05T00:00:00\",\"2024-06-06T00:00:00\",\"2024-06-07T00:00:00\",\"2024-06-10T00:00:00\",\"2024-06-11T00:00:00\",\"2024-06-12T00:00:00\",\"2024-06-13T00:00:00\",\"2024-06-14T00:00:00\",\"2024-06-17T00:00:00\",\"2024-06-18T00:00:00\",\"2024-06-19T00:00:00\",\"2024-06-20T00:00:00\",\"2024-06-21T00:00:00\",\"2024-06-24T00:00:00\",\"2024-06-25T00:00:00\",\"2024-06-26T00:00:00\",\"2024-06-27T00:00:00\",\"2024-06-28T00:00:00\",\"2024-07-01T00:00:00\",\"2024-07-02T00:00:00\",\"2024-07-03T00:00:00\",\"2024-07-04T00:00:00\"],\"y\":[9.663020034154012,9.72944731113102,9.618355395937588,9.737455307919909,9.678239613606396,9.483653123739979,9.368514299179663,9.497512978203845,9.521385607165254,9.580987796016206,9.67857287598838,9.746489781122746,9.766880590930445,9.755748762743046,9.759629401977183,9.671823793941702,9.625908201558499,9.57907090355561,9.550687090016318,9.620304553882294,9.708188702554986,9.679057839278308,9.611830092090697,9.59759082026842,9.54779604022889,9.41960191908482,9.3466445882934,9.347781099270618,9.384998523653476,9.368300182089357,9.404237086845901,9.360966090815747,9.307554294565557,9.287685596296791,9.222004549176972,9.108388039614436,9.122098076694542,9.16121947535689,9.119667305415023,9.152834598127635],\"type\":\"scatter\"},{\"line\":{\"color\":\"yellow\"},\"mode\":\"lines\",\"name\":\"ODAS Fiyat Tahmin+Ger\\u00e7ek\",\"x\":[\"2024-03-06T00:00:00\",\"2024-03-07T00:00:00\",\"2024-03-08T00:00:00\",\"2024-03-11T00:00:00\",\"2024-03-12T00:00:00\",\"2024-03-13T00:00:00\",\"2024-03-14T00:00:00\",\"2024-03-15T00:00:00\",\"2024-03-18T00:00:00\",\"2024-03-19T00:00:00\",\"2024-03-20T00:00:00\",\"2024-03-21T00:00:00\",\"2024-03-22T00:00:00\",\"2024-03-25T00:00:00\",\"2024-03-26T00:00:00\",\"2024-03-27T00:00:00\",\"2024-03-28T00:00:00\",\"2024-03-29T00:00:00\",\"2024-04-01T00:00:00\",\"2024-04-02T00:00:00\",\"2024-04-03T00:00:00\",\"2024-04-04T00:00:00\",\"2024-04-05T00:00:00\",\"2024-04-08T00:00:00\",\"2024-04-09T00:00:00\",\"2024-04-15T00:00:00\",\"2024-04-16T00:00:00\",\"2024-04-17T00:00:00\",\"2024-04-18T00:00:00\",\"2024-04-19T00:00:00\",\"2024-04-22T00:00:00\",\"2024-04-24T00:00:00\",\"2024-04-25T00:00:00\",\"2024-04-26T00:00:00\",\"2024-04-29T00:00:00\",\"2024-04-30T00:00:00\",\"2024-05-02T00:00:00\",\"2024-05-03T00:00:00\",\"2024-05-06T00:00:00\",\"2024-05-07T00:00:00\",\"2024-05-08T00:00:00\",\"2024-05-09T00:00:00\",\"2024-05-10T00:00:00\",\"2024-05-13T00:00:00\",\"2024-05-14T00:00:00\",\"2024-05-15T00:00:00\",\"2024-05-16T00:00:00\",\"2024-05-17T00:00:00\",\"2024-05-20T00:00:00\",\"2024-05-21T00:00:00\",\"2024-05-22T00:00:00\",\"2024-05-23T00:00:00\",\"2024-05-24T00:00:00\",\"2024-05-27T00:00:00\",\"2024-05-28T00:00:00\",\"2024-05-29T00:00:00\",\"2024-05-30T00:00:00\",\"2024-05-31T00:00:00\",\"2024-06-03T00:00:00\",\"2024-06-04T00:00:00\",\"2024-06-05T00:00:00\",\"2024-06-06T00:00:00\",\"2024-06-07T00:00:00\",\"2024-06-10T00:00:00\",\"2024-06-11T00:00:00\",\"2024-06-12T00:00:00\",\"2024-06-13T00:00:00\",\"2024-06-14T00:00:00\",\"2024-06-17T00:00:00\",\"2024-06-18T00:00:00\",\"2024-06-19T00:00:00\",\"2024-06-20T00:00:00\",\"2024-06-21T00:00:00\",\"2024-06-24T00:00:00\",\"2024-06-25T00:00:00\",\"2024-06-26T00:00:00\",\"2024-06-27T00:00:00\",\"2024-06-28T00:00:00\",\"2024-07-01T00:00:00\",\"2024-07-02T00:00:00\",\"2024-07-03T00:00:00\",\"2024-07-04T00:00:00\"],\"y\":[10.25,10.68,10.59,10.42,10.14,9.76,9.96,9.65,9.27,9.29,9.27,9.05,8.87,9.41,8.85,8.69,8.91,9.17,8.89,8.62,8.28,8.14,8.73,9.01,9.25,9.41,9.27,9.03,9.13,9.15,9.23,9.2,9.37,9.49,9.61,9.56,10.02,10.0,9.63,9.39,9.38,9.4,9.663020034154012,9.72944731113102,9.618355395937588,9.737455307919909,9.678239613606396,9.483653123739979,9.368514299179663,9.497512978203845,9.521385607165254,9.580987796016206,9.67857287598838,9.746489781122746,9.766880590930445,9.755748762743046,9.759629401977183,9.671823793941702,9.625908201558499,9.57907090355561,9.550687090016318,9.620304553882294,9.708188702554986,9.679057839278308,9.611830092090697,9.59759082026842,9.54779604022889,9.41960191908482,9.3466445882934,9.347781099270618,9.384998523653476,9.368300182089357,9.404237086845901,9.360966090815747,9.307554294565557,9.287685596296791,9.222004549176972,9.108388039614436,9.122098076694542,9.16121947535689,9.119667305415023,9.152834598127635],\"type\":\"scatter\"}],                        {\"legend\":{\"x\":0,\"y\":1},\"template\":{\"data\":{\"barpolar\":[{\"marker\":{\"line\":{\"color\":\"#E5ECF6\",\"width\":0.5},\"pattern\":{\"fillmode\":\"overlay\",\"size\":10,\"solidity\":0.2}},\"type\":\"barpolar\"}],\"bar\":[{\"error_x\":{\"color\":\"#2a3f5f\"},\"error_y\":{\"color\":\"#2a3f5f\"},\"marker\":{\"line\":{\"color\":\"#E5ECF6\",\"width\":0.5},\"pattern\":{\"fillmode\":\"overlay\",\"size\":10,\"solidity\":0.2}},\"type\":\"bar\"}],\"carpet\":[{\"aaxis\":{\"endlinecolor\":\"#2a3f5f\",\"gridcolor\":\"white\",\"linecolor\":\"white\",\"minorgridcolor\":\"white\",\"startlinecolor\":\"#2a3f5f\"},\"baxis\":{\"endlinecolor\":\"#2a3f5f\",\"gridcolor\":\"white\",\"linecolor\":\"white\",\"minorgridcolor\":\"white\",\"startlinecolor\":\"#2a3f5f\"},\"type\":\"carpet\"}],\"choropleth\":[{\"colorbar\":{\"outlinewidth\":0,\"ticks\":\"\"},\"type\":\"choropleth\"}],\"contourcarpet\":[{\"colorbar\":{\"outlinewidth\":0,\"ticks\":\"\"},\"type\":\"contourcarpet\"}],\"contour\":[{\"colorbar\":{\"outlinewidth\":0,\"ticks\":\"\"},\"colorscale\":[[0.0,\"#0d0887\"],[0.1111111111111111,\"#46039f\"],[0.2222222222222222,\"#7201a8\"],[0.3333333333333333,\"#9c179e\"],[0.4444444444444444,\"#bd3786\"],[0.5555555555555556,\"#d8576b\"],[0.6666666666666666,\"#ed7953\"],[0.7777777777777778,\"#fb9f3a\"],[0.8888888888888888,\"#fdca26\"],[1.0,\"#f0f921\"]],\"type\":\"contour\"}],\"heatmapgl\":[{\"colorbar\":{\"outlinewidth\":0,\"ticks\":\"\"},\"colorscale\":[[0.0,\"#0d0887\"],[0.1111111111111111,\"#46039f\"],[0.2222222222222222,\"#7201a8\"],[0.3333333333333333,\"#9c179e\"],[0.4444444444444444,\"#bd3786\"],[0.5555555555555556,\"#d8576b\"],[0.6666666666666666,\"#ed7953\"],[0.7777777777777778,\"#fb9f3a\"],[0.8888888888888888,\"#fdca26\"],[1.0,\"#f0f921\"]],\"type\":\"heatmapgl\"}],\"heatmap\":[{\"colorbar\":{\"outlinewidth\":0,\"ticks\":\"\"},\"colorscale\":[[0.0,\"#0d0887\"],[0.1111111111111111,\"#46039f\"],[0.2222222222222222,\"#7201a8\"],[0.3333333333333333,\"#9c179e\"],[0.4444444444444444,\"#bd3786\"],[0.5555555555555556,\"#d8576b\"],[0.6666666666666666,\"#ed7953\"],[0.7777777777777778,\"#fb9f3a\"],[0.8888888888888888,\"#fdca26\"],[1.0,\"#f0f921\"]],\"type\":\"heatmap\"}],\"histogram2dcontour\":[{\"colorbar\":{\"outlinewidth\":0,\"ticks\":\"\"},\"colorscale\":[[0.0,\"#0d0887\"],[0.1111111111111111,\"#46039f\"],[0.2222222222222222,\"#7201a8\"],[0.3333333333333333,\"#9c179e\"],[0.4444444444444444,\"#bd3786\"],[0.5555555555555556,\"#d8576b\"],[0.6666666666666666,\"#ed7953\"],[0.7777777777777778,\"#fb9f3a\"],[0.8888888888888888,\"#fdca26\"],[1.0,\"#f0f921\"]],\"type\":\"histogram2dcontour\"}],\"histogram2d\":[{\"colorbar\":{\"outlinewidth\":0,\"ticks\":\"\"},\"colorscale\":[[0.0,\"#0d0887\"],[0.1111111111111111,\"#46039f\"],[0.2222222222222222,\"#7201a8\"],[0.3333333333333333,\"#9c179e\"],[0.4444444444444444,\"#bd3786\"],[0.5555555555555556,\"#d8576b\"],[0.6666666666666666,\"#ed7953\"],[0.7777777777777778,\"#fb9f3a\"],[0.8888888888888888,\"#fdca26\"],[1.0,\"#f0f921\"]],\"type\":\"histogram2d\"}],\"histogram\":[{\"marker\":{\"pattern\":{\"fillmode\":\"overlay\",\"size\":10,\"solidity\":0.2}},\"type\":\"histogram\"}],\"mesh3d\":[{\"colorbar\":{\"outlinewidth\":0,\"ticks\":\"\"},\"type\":\"mesh3d\"}],\"parcoords\":[{\"line\":{\"colorbar\":{\"outlinewidth\":0,\"ticks\":\"\"}},\"type\":\"parcoords\"}],\"pie\":[{\"automargin\":true,\"type\":\"pie\"}],\"scatter3d\":[{\"line\":{\"colorbar\":{\"outlinewidth\":0,\"ticks\":\"\"}},\"marker\":{\"colorbar\":{\"outlinewidth\":0,\"ticks\":\"\"}},\"type\":\"scatter3d\"}],\"scattercarpet\":[{\"marker\":{\"colorbar\":{\"outlinewidth\":0,\"ticks\":\"\"}},\"type\":\"scattercarpet\"}],\"scattergeo\":[{\"marker\":{\"colorbar\":{\"outlinewidth\":0,\"ticks\":\"\"}},\"type\":\"scattergeo\"}],\"scattergl\":[{\"marker\":{\"colorbar\":{\"outlinewidth\":0,\"ticks\":\"\"}},\"type\":\"scattergl\"}],\"scattermapbox\":[{\"marker\":{\"colorbar\":{\"outlinewidth\":0,\"ticks\":\"\"}},\"type\":\"scattermapbox\"}],\"scatterpolargl\":[{\"marker\":{\"colorbar\":{\"outlinewidth\":0,\"ticks\":\"\"}},\"type\":\"scatterpolargl\"}],\"scatterpolar\":[{\"marker\":{\"colorbar\":{\"outlinewidth\":0,\"ticks\":\"\"}},\"type\":\"scatterpolar\"}],\"scatter\":[{\"fillpattern\":{\"fillmode\":\"overlay\",\"size\":10,\"solidity\":0.2},\"type\":\"scatter\"}],\"scatterternary\":[{\"marker\":{\"colorbar\":{\"outlinewidth\":0,\"ticks\":\"\"}},\"type\":\"scatterternary\"}],\"surface\":[{\"colorbar\":{\"outlinewidth\":0,\"ticks\":\"\"},\"colorscale\":[[0.0,\"#0d0887\"],[0.1111111111111111,\"#46039f\"],[0.2222222222222222,\"#7201a8\"],[0.3333333333333333,\"#9c179e\"],[0.4444444444444444,\"#bd3786\"],[0.5555555555555556,\"#d8576b\"],[0.6666666666666666,\"#ed7953\"],[0.7777777777777778,\"#fb9f3a\"],[0.8888888888888888,\"#fdca26\"],[1.0,\"#f0f921\"]],\"type\":\"surface\"}],\"table\":[{\"cells\":{\"fill\":{\"color\":\"#EBF0F8\"},\"line\":{\"color\":\"white\"}},\"header\":{\"fill\":{\"color\":\"#C8D4E3\"},\"line\":{\"color\":\"white\"}},\"type\":\"table\"}]},\"layout\":{\"annotationdefaults\":{\"arrowcolor\":\"#2a3f5f\",\"arrowhead\":0,\"arrowwidth\":1},\"autotypenumbers\":\"strict\",\"coloraxis\":{\"colorbar\":{\"outlinewidth\":0,\"ticks\":\"\"}},\"colorscale\":{\"diverging\":[[0,\"#8e0152\"],[0.1,\"#c51b7d\"],[0.2,\"#de77ae\"],[0.3,\"#f1b6da\"],[0.4,\"#fde0ef\"],[0.5,\"#f7f7f7\"],[0.6,\"#e6f5d0\"],[0.7,\"#b8e186\"],[0.8,\"#7fbc41\"],[0.9,\"#4d9221\"],[1,\"#276419\"]],\"sequential\":[[0.0,\"#0d0887\"],[0.1111111111111111,\"#46039f\"],[0.2222222222222222,\"#7201a8\"],[0.3333333333333333,\"#9c179e\"],[0.4444444444444444,\"#bd3786\"],[0.5555555555555556,\"#d8576b\"],[0.6666666666666666,\"#ed7953\"],[0.7777777777777778,\"#fb9f3a\"],[0.8888888888888888,\"#fdca26\"],[1.0,\"#f0f921\"]],\"sequentialminus\":[[0.0,\"#0d0887\"],[0.1111111111111111,\"#46039f\"],[0.2222222222222222,\"#7201a8\"],[0.3333333333333333,\"#9c179e\"],[0.4444444444444444,\"#bd3786\"],[0.5555555555555556,\"#d8576b\"],[0.6666666666666666,\"#ed7953\"],[0.7777777777777778,\"#fb9f3a\"],[0.8888888888888888,\"#fdca26\"],[1.0,\"#f0f921\"]]},\"colorway\":[\"#636efa\",\"#EF553B\",\"#00cc96\",\"#ab63fa\",\"#FFA15A\",\"#19d3f3\",\"#FF6692\",\"#B6E880\",\"#FF97FF\",\"#FECB52\"],\"font\":{\"color\":\"#2a3f5f\"},\"geo\":{\"bgcolor\":\"white\",\"lakecolor\":\"white\",\"landcolor\":\"#E5ECF6\",\"showlakes\":true,\"showland\":true,\"subunitcolor\":\"white\"},\"hoverlabel\":{\"align\":\"left\"},\"hovermode\":\"closest\",\"mapbox\":{\"style\":\"light\"},\"paper_bgcolor\":\"white\",\"plot_bgcolor\":\"#E5ECF6\",\"polar\":{\"angularaxis\":{\"gridcolor\":\"white\",\"linecolor\":\"white\",\"ticks\":\"\"},\"bgcolor\":\"#E5ECF6\",\"radialaxis\":{\"gridcolor\":\"white\",\"linecolor\":\"white\",\"ticks\":\"\"}},\"scene\":{\"xaxis\":{\"backgroundcolor\":\"#E5ECF6\",\"gridcolor\":\"white\",\"gridwidth\":2,\"linecolor\":\"white\",\"showbackground\":true,\"ticks\":\"\",\"zerolinecolor\":\"white\"},\"yaxis\":{\"backgroundcolor\":\"#E5ECF6\",\"gridcolor\":\"white\",\"gridwidth\":2,\"linecolor\":\"white\",\"showbackground\":true,\"ticks\":\"\",\"zerolinecolor\":\"white\"},\"zaxis\":{\"backgroundcolor\":\"#E5ECF6\",\"gridcolor\":\"white\",\"gridwidth\":2,\"linecolor\":\"white\",\"showbackground\":true,\"ticks\":\"\",\"zerolinecolor\":\"white\"}},\"shapedefaults\":{\"line\":{\"color\":\"#2a3f5f\"}},\"ternary\":{\"aaxis\":{\"gridcolor\":\"white\",\"linecolor\":\"white\",\"ticks\":\"\"},\"baxis\":{\"gridcolor\":\"white\",\"linecolor\":\"white\",\"ticks\":\"\"},\"bgcolor\":\"#E5ECF6\",\"caxis\":{\"gridcolor\":\"white\",\"linecolor\":\"white\",\"ticks\":\"\"}},\"title\":{\"x\":0.05},\"xaxis\":{\"automargin\":true,\"gridcolor\":\"white\",\"linecolor\":\"white\",\"ticks\":\"\",\"title\":{\"standoff\":15},\"zerolinecolor\":\"white\",\"zerolinewidth\":2},\"yaxis\":{\"automargin\":true,\"gridcolor\":\"white\",\"linecolor\":\"white\",\"ticks\":\"\",\"title\":{\"standoff\":15},\"zerolinecolor\":\"white\",\"zerolinewidth\":2}}},\"title\":{\"text\":\"40 G\\u00fcnl\\u00fck ODAS Tarihsel Fiyat Tahminleri\"},\"xaxis\":{\"title\":{\"text\":\"Time\"}},\"yaxis\":{\"title\":{\"text\":\"ODAS Tarihsel Fiyat Bilgileri\"}}},                        {\"responsive\": true}                    ).then(function(){\n",
       "                            \n",
       "var gd = document.getElementById('ef53992f-7a58-4617-8f8c-f7616a1b00ca');\n",
       "var x = new MutationObserver(function (mutations, observer) {{\n",
       "        var display = window.getComputedStyle(gd).display;\n",
       "        if (!display || display === 'none') {{\n",
       "            console.log([gd, 'removed!']);\n",
       "            Plotly.purge(gd);\n",
       "            observer.disconnect();\n",
       "        }}\n",
       "}});\n",
       "\n",
       "// Listen for the removal of the full notebook cells\n",
       "var notebookContainer = gd.closest('#notebook-container');\n",
       "if (notebookContainer) {{\n",
       "    x.observe(notebookContainer, {childList: true});\n",
       "}}\n",
       "\n",
       "// Listen for the clearing of the current output cell\n",
       "var outputEl = gd.closest('.output');\n",
       "if (outputEl) {{\n",
       "    x.observe(outputEl, {childList: true});\n",
       "}}\n",
       "\n",
       "                        })                };                });            </script>        </div>"
      ]
     },
     "metadata": {},
     "output_type": "display_data"
    }
   ],
   "source": [
    "import plotly.graph_objs as go\n",
    "\n",
    "actual_trace = go.Scatter(\n",
    "    x=df_res[\"Tarih\"].iloc[:window_size],\n",
    "    y=df_res[\"Values\"].iloc[:window_size],\n",
    "    mode='markers',\n",
    "    name=\"Geçmiş ODAS Verileri\",\n",
    "    line=dict(color='blue')\n",
    ")\n",
    "\n",
    "test_actual_trace = go.Scatter(\n",
    "    x=df_res[\"Tarih\"].iloc[window_size:],\n",
    "    y=df_res[\"Values\"].iloc[window_size:],\n",
    "    mode='markers',\n",
    "    name=f\"{projection} Günlük ODAS Tahmin\",\n",
    "    line=dict(color='red')\n",
    ")\n",
    "\n",
    "total_trace = go.Scatter(\n",
    "    x=df_res[\"Tarih\"],\n",
    "    y=df_res[\"Values\"],\n",
    "    mode='lines',\n",
    "    name=\"ODAS Fiyat Tahmin+Gerçek\",\n",
    "    line=dict(color='yellow')\n",
    ")\n",
    "\n",
    "data = [actual_trace, test_actual_trace, total_trace]\n",
    "\n",
    "layout = go.Layout(\n",
    "    title=f\"{projection} Günlük ODAS Tarihsel Fiyat Tahminleri\",\n",
    "    xaxis=dict(title=\"Time\"),\n",
    "    yaxis=dict(title=\"ODAS Tarihsel Fiyat Bilgileri\"),\n",
    "    legend=dict(x=0, y=1)\n",
    ")\n",
    "\n",
    "fig = go.Figure(data=data, layout=layout)\n",
    "py.iplot(fig)\n"
   ]
  },
  {
   "cell_type": "code",
   "execution_count": 230,
   "id": "be9e1b0d",
   "metadata": {},
   "outputs": [
    {
     "name": "stdout",
     "output_type": "stream",
     "text": [
      "ODAS\n"
     ]
    },
    {
     "data": {
      "text/html": [
       "<div>\n",
       "<style scoped>\n",
       "    .dataframe tbody tr th:only-of-type {\n",
       "        vertical-align: middle;\n",
       "    }\n",
       "\n",
       "    .dataframe tbody tr th {\n",
       "        vertical-align: top;\n",
       "    }\n",
       "\n",
       "    .dataframe thead th {\n",
       "        text-align: right;\n",
       "    }\n",
       "</style>\n",
       "<table border=\"1\" class=\"dataframe\">\n",
       "  <thead>\n",
       "    <tr style=\"text-align: right;\">\n",
       "      <th></th>\n",
       "      <th>Tarih</th>\n",
       "      <th>Values</th>\n",
       "    </tr>\n",
       "  </thead>\n",
       "  <tbody>\n",
       "    <tr>\n",
       "      <th>42</th>\n",
       "      <td>2024-05-10</td>\n",
       "      <td>9.663020</td>\n",
       "    </tr>\n",
       "    <tr>\n",
       "      <th>43</th>\n",
       "      <td>2024-05-13</td>\n",
       "      <td>9.729447</td>\n",
       "    </tr>\n",
       "    <tr>\n",
       "      <th>44</th>\n",
       "      <td>2024-05-14</td>\n",
       "      <td>9.618355</td>\n",
       "    </tr>\n",
       "    <tr>\n",
       "      <th>45</th>\n",
       "      <td>2024-05-15</td>\n",
       "      <td>9.737455</td>\n",
       "    </tr>\n",
       "    <tr>\n",
       "      <th>46</th>\n",
       "      <td>2024-05-16</td>\n",
       "      <td>9.678240</td>\n",
       "    </tr>\n",
       "    <tr>\n",
       "      <th>47</th>\n",
       "      <td>2024-05-17</td>\n",
       "      <td>9.483653</td>\n",
       "    </tr>\n",
       "    <tr>\n",
       "      <th>48</th>\n",
       "      <td>2024-05-20</td>\n",
       "      <td>9.368514</td>\n",
       "    </tr>\n",
       "    <tr>\n",
       "      <th>49</th>\n",
       "      <td>2024-05-21</td>\n",
       "      <td>9.497513</td>\n",
       "    </tr>\n",
       "    <tr>\n",
       "      <th>50</th>\n",
       "      <td>2024-05-22</td>\n",
       "      <td>9.521386</td>\n",
       "    </tr>\n",
       "    <tr>\n",
       "      <th>51</th>\n",
       "      <td>2024-05-23</td>\n",
       "      <td>9.580988</td>\n",
       "    </tr>\n",
       "    <tr>\n",
       "      <th>52</th>\n",
       "      <td>2024-05-24</td>\n",
       "      <td>9.678573</td>\n",
       "    </tr>\n",
       "    <tr>\n",
       "      <th>53</th>\n",
       "      <td>2024-05-27</td>\n",
       "      <td>9.746490</td>\n",
       "    </tr>\n",
       "    <tr>\n",
       "      <th>54</th>\n",
       "      <td>2024-05-28</td>\n",
       "      <td>9.766881</td>\n",
       "    </tr>\n",
       "    <tr>\n",
       "      <th>55</th>\n",
       "      <td>2024-05-29</td>\n",
       "      <td>9.755749</td>\n",
       "    </tr>\n",
       "    <tr>\n",
       "      <th>56</th>\n",
       "      <td>2024-05-30</td>\n",
       "      <td>9.759629</td>\n",
       "    </tr>\n",
       "    <tr>\n",
       "      <th>57</th>\n",
       "      <td>2024-05-31</td>\n",
       "      <td>9.671824</td>\n",
       "    </tr>\n",
       "    <tr>\n",
       "      <th>58</th>\n",
       "      <td>2024-06-03</td>\n",
       "      <td>9.625908</td>\n",
       "    </tr>\n",
       "    <tr>\n",
       "      <th>59</th>\n",
       "      <td>2024-06-04</td>\n",
       "      <td>9.579071</td>\n",
       "    </tr>\n",
       "    <tr>\n",
       "      <th>60</th>\n",
       "      <td>2024-06-05</td>\n",
       "      <td>9.550687</td>\n",
       "    </tr>\n",
       "    <tr>\n",
       "      <th>61</th>\n",
       "      <td>2024-06-06</td>\n",
       "      <td>9.620305</td>\n",
       "    </tr>\n",
       "    <tr>\n",
       "      <th>62</th>\n",
       "      <td>2024-06-07</td>\n",
       "      <td>9.708189</td>\n",
       "    </tr>\n",
       "    <tr>\n",
       "      <th>63</th>\n",
       "      <td>2024-06-10</td>\n",
       "      <td>9.679058</td>\n",
       "    </tr>\n",
       "    <tr>\n",
       "      <th>64</th>\n",
       "      <td>2024-06-11</td>\n",
       "      <td>9.611830</td>\n",
       "    </tr>\n",
       "    <tr>\n",
       "      <th>65</th>\n",
       "      <td>2024-06-12</td>\n",
       "      <td>9.597591</td>\n",
       "    </tr>\n",
       "    <tr>\n",
       "      <th>66</th>\n",
       "      <td>2024-06-13</td>\n",
       "      <td>9.547796</td>\n",
       "    </tr>\n",
       "    <tr>\n",
       "      <th>67</th>\n",
       "      <td>2024-06-14</td>\n",
       "      <td>9.419602</td>\n",
       "    </tr>\n",
       "    <tr>\n",
       "      <th>68</th>\n",
       "      <td>2024-06-17</td>\n",
       "      <td>9.346645</td>\n",
       "    </tr>\n",
       "    <tr>\n",
       "      <th>69</th>\n",
       "      <td>2024-06-18</td>\n",
       "      <td>9.347781</td>\n",
       "    </tr>\n",
       "    <tr>\n",
       "      <th>70</th>\n",
       "      <td>2024-06-19</td>\n",
       "      <td>9.384999</td>\n",
       "    </tr>\n",
       "    <tr>\n",
       "      <th>71</th>\n",
       "      <td>2024-06-20</td>\n",
       "      <td>9.368300</td>\n",
       "    </tr>\n",
       "    <tr>\n",
       "      <th>72</th>\n",
       "      <td>2024-06-21</td>\n",
       "      <td>9.404237</td>\n",
       "    </tr>\n",
       "    <tr>\n",
       "      <th>73</th>\n",
       "      <td>2024-06-24</td>\n",
       "      <td>9.360966</td>\n",
       "    </tr>\n",
       "    <tr>\n",
       "      <th>74</th>\n",
       "      <td>2024-06-25</td>\n",
       "      <td>9.307554</td>\n",
       "    </tr>\n",
       "    <tr>\n",
       "      <th>75</th>\n",
       "      <td>2024-06-26</td>\n",
       "      <td>9.287686</td>\n",
       "    </tr>\n",
       "    <tr>\n",
       "      <th>76</th>\n",
       "      <td>2024-06-27</td>\n",
       "      <td>9.222005</td>\n",
       "    </tr>\n",
       "    <tr>\n",
       "      <th>77</th>\n",
       "      <td>2024-06-28</td>\n",
       "      <td>9.108388</td>\n",
       "    </tr>\n",
       "    <tr>\n",
       "      <th>78</th>\n",
       "      <td>2024-07-01</td>\n",
       "      <td>9.122098</td>\n",
       "    </tr>\n",
       "    <tr>\n",
       "      <th>79</th>\n",
       "      <td>2024-07-02</td>\n",
       "      <td>9.161219</td>\n",
       "    </tr>\n",
       "    <tr>\n",
       "      <th>80</th>\n",
       "      <td>2024-07-03</td>\n",
       "      <td>9.119667</td>\n",
       "    </tr>\n",
       "    <tr>\n",
       "      <th>81</th>\n",
       "      <td>2024-07-04</td>\n",
       "      <td>9.152835</td>\n",
       "    </tr>\n",
       "  </tbody>\n",
       "</table>\n",
       "</div>"
      ],
      "text/plain": [
       "        Tarih    Values\n",
       "42 2024-05-10  9.663020\n",
       "43 2024-05-13  9.729447\n",
       "44 2024-05-14  9.618355\n",
       "45 2024-05-15  9.737455\n",
       "46 2024-05-16  9.678240\n",
       "47 2024-05-17  9.483653\n",
       "48 2024-05-20  9.368514\n",
       "49 2024-05-21  9.497513\n",
       "50 2024-05-22  9.521386\n",
       "51 2024-05-23  9.580988\n",
       "52 2024-05-24  9.678573\n",
       "53 2024-05-27  9.746490\n",
       "54 2024-05-28  9.766881\n",
       "55 2024-05-29  9.755749\n",
       "56 2024-05-30  9.759629\n",
       "57 2024-05-31  9.671824\n",
       "58 2024-06-03  9.625908\n",
       "59 2024-06-04  9.579071\n",
       "60 2024-06-05  9.550687\n",
       "61 2024-06-06  9.620305\n",
       "62 2024-06-07  9.708189\n",
       "63 2024-06-10  9.679058\n",
       "64 2024-06-11  9.611830\n",
       "65 2024-06-12  9.597591\n",
       "66 2024-06-13  9.547796\n",
       "67 2024-06-14  9.419602\n",
       "68 2024-06-17  9.346645\n",
       "69 2024-06-18  9.347781\n",
       "70 2024-06-19  9.384999\n",
       "71 2024-06-20  9.368300\n",
       "72 2024-06-21  9.404237\n",
       "73 2024-06-24  9.360966\n",
       "74 2024-06-25  9.307554\n",
       "75 2024-06-26  9.287686\n",
       "76 2024-06-27  9.222005\n",
       "77 2024-06-28  9.108388\n",
       "78 2024-07-01  9.122098\n",
       "79 2024-07-02  9.161219\n",
       "80 2024-07-03  9.119667\n",
       "81 2024-07-04  9.152835"
      ]
     },
     "execution_count": 230,
     "metadata": {},
     "output_type": "execute_result"
    }
   ],
   "source": [
    "print(\"ODAS\")\n",
    "df_res.iloc[window_size:]"
   ]
  },
  {
   "cell_type": "code",
   "execution_count": 229,
   "id": "878b5f2d",
   "metadata": {},
   "outputs": [
    {
     "data": {
      "text/plain": [
       "['models/ridge_model_odas_10May2024.joblib']"
      ]
     },
     "execution_count": 229,
     "metadata": {},
     "output_type": "execute_result"
    }
   ],
   "source": [
    "from joblib import dump, load\n",
    "dump(ridge, 'models/ridge_model_odas_10May2024.joblib')"
   ]
  },
  {
   "cell_type": "code",
   "execution_count": null,
   "id": "6adeeca6",
   "metadata": {},
   "outputs": [],
   "source": []
  }
 ],
 "metadata": {
  "kernelspec": {
   "display_name": "Python 3 (ipykernel)",
   "language": "python",
   "name": "python3"
  },
  "language_info": {
   "codemirror_mode": {
    "name": "ipython",
    "version": 3
   },
   "file_extension": ".py",
   "mimetype": "text/x-python",
   "name": "python",
   "nbconvert_exporter": "python",
   "pygments_lexer": "ipython3",
   "version": "3.9.18"
  }
 },
 "nbformat": 4,
 "nbformat_minor": 5
}
